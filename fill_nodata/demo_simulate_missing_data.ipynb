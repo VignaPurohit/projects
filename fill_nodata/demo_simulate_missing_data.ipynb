{
 "cells": [
  {
   "cell_type": "markdown",
   "metadata": {},
   "source": [
    "# Simulate Rows with Missing Data\n",
    "\n",
    "This script takes a perfectly good images and sets a few random rows to 0 to simulate a bad image.\n",
    "\n",
    "Source Image: &copy; Commission for Lands (COLA) ; Revolutionary Government of Zanzibar (RGoZ), Downloaded from [OpenAerialMap](https://map.openaerialmap.org/#/39.20338153839111,-6.167072977220436,15/user/5ac4842b26964b0010033104/5ae39f0a0b093000130aff55?_k=g4tbwo)"
   ]
  },
  {
   "cell_type": "code",
   "execution_count": 95,
   "metadata": {},
   "outputs": [],
   "source": [
    "import rasterio\n",
    "import numpy as np\n",
    "from numpy import random"
   ]
  },
  {
   "cell_type": "code",
   "execution_count": 96,
   "metadata": {},
   "outputs": [
    {
     "data": {
      "text/plain": [
       "12994"
      ]
     },
     "execution_count": 96,
     "metadata": {},
     "output_type": "execute_result"
    }
   ],
   "source": [
    "filename = 'original.tif'\n",
    "dataset = rasterio.open(filename)\n",
    "metadata = dataset.meta\n",
    "dataset.height"
   ]
  },
  {
   "cell_type": "code",
   "execution_count": 97,
   "metadata": {},
   "outputs": [],
   "source": [
    "red = dataset.read(1)\n",
    "green = dataset.read(2)\n",
    "blue = dataset.read(3)"
   ]
  },
  {
   "cell_type": "code",
   "execution_count": 98,
   "metadata": {},
   "outputs": [],
   "source": [
    "x = random.randint(200, size=(dataset.height))"
   ]
  },
  {
   "cell_type": "code",
   "execution_count": 99,
   "metadata": {},
   "outputs": [
    {
     "name": "stdout",
     "output_type": "stream",
     "text": [
      "Set 70 rows to 0\n"
     ]
    }
   ],
   "source": [
    "zeros = np.where(x==10)\n",
    "print('Set {} rows to 0'.format(zeros[0].shape[0]))"
   ]
  },
  {
   "cell_type": "code",
   "execution_count": 100,
   "metadata": {},
   "outputs": [],
   "source": [
    "for x in np.nditer(zeros):\n",
    "    red[x] = 0\n",
    "    green[x] = 0\n",
    "    blue[x] = 0"
   ]
  },
  {
   "cell_type": "code",
   "execution_count": 101,
   "metadata": {},
   "outputs": [],
   "source": [
    "output_filename = 'bad.tif'\n",
    "metadata.update({'driver': 'GTiff'})\n",
    "\n",
    "rgb_dataset = rasterio.open(output_filename, 'w', **metadata)\n",
    "rgb_dataset.write(red, 1)\n",
    "rgb_dataset.write(green, 2)\n",
    "rgb_dataset.write(blue, 3)\n",
    "rgb_dataset.close()"
   ]
  }
 ],
 "metadata": {
  "kernelspec": {
   "display_name": "Python 3",
   "language": "python",
   "name": "python3"
  },
  "language_info": {
   "codemirror_mode": {
    "name": "ipython",
    "version": 3
   },
   "file_extension": ".py",
   "mimetype": "text/x-python",
   "name": "python",
   "nbconvert_exporter": "python",
   "pygments_lexer": "ipython3",
   "version": "3.7.7"
  }
 },
 "nbformat": 4,
 "nbformat_minor": 4
}
