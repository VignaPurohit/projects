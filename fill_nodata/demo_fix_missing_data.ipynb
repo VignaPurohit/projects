{
 "cells": [
  {
   "cell_type": "markdown",
   "metadata": {},
   "source": [
    "# Fill Missing Rows with Data\n",
    "\n",
    "This script shows how to read an image where certain rows have missing data (i.e. 0) and fill that with the average of adjacent rows."
   ]
  },
  {
   "cell_type": "code",
   "execution_count": 110,
   "metadata": {},
   "outputs": [],
   "source": [
    "import rasterio\n",
    "import numpy as np"
   ]
  },
  {
   "cell_type": "code",
   "execution_count": 111,
   "metadata": {},
   "outputs": [
    {
     "data": {
      "text/plain": [
       "12994"
      ]
     },
     "execution_count": 111,
     "metadata": {},
     "output_type": "execute_result"
    }
   ],
   "source": [
    "filename = 'bad.tif'\n",
    "dataset = rasterio.open(filename)\n",
    "metadata = dataset.meta\n",
    "dataset.height"
   ]
  },
  {
   "cell_type": "code",
   "execution_count": 112,
   "metadata": {},
   "outputs": [],
   "source": [
    "red = dataset.read(1)\n",
    "green = dataset.read(2)\n",
    "blue = dataset.read(3)"
   ]
  },
  {
   "cell_type": "markdown",
   "metadata": {},
   "source": [
    "The following returns an array where each item is True/False based on the condition `red==0`"
   ]
  },
  {
   "cell_type": "code",
   "execution_count": 113,
   "metadata": {},
   "outputs": [
    {
     "data": {
      "text/plain": [
       "(12994,)"
      ]
     },
     "execution_count": 113,
     "metadata": {},
     "output_type": "execute_result"
    }
   ],
   "source": [
    "result = np.all(red == 0, axis=1)\n",
    "result.shape"
   ]
  },
  {
   "cell_type": "code",
   "execution_count": 114,
   "metadata": {},
   "outputs": [],
   "source": [
    "def average_rows(array, index):\n",
    "    result = np.round(np.mean( np.array([array[index[0]-1], array[index[0]+1] ]), axis=0 ))\n",
    "    array[index] = result\n",
    "    \n",
    "for index, x in np.ndenumerate(result):\n",
    "    if (x and index[0] != 0 and index[0] != (dataset.height - 1)):\n",
    "        average_rows(red, index)\n",
    "        average_rows(blue, index)\n",
    "        average_rows(green, index)"
   ]
  },
  {
   "cell_type": "code",
   "execution_count": 115,
   "metadata": {},
   "outputs": [],
   "source": [
    "output_filename = 'fixed.tif'\n",
    "metadata.update({'driver': 'GTiff'})\n",
    "\n",
    "rgb_dataset = rasterio.open(output_filename, 'w', **metadata)\n",
    "rgb_dataset.write(red, 1)\n",
    "rgb_dataset.write(green, 2)\n",
    "rgb_dataset.write(blue, 3)\n",
    "rgb_dataset.close()"
   ]
  }
 ],
 "metadata": {
  "kernelspec": {
   "display_name": "Python 3",
   "language": "python",
   "name": "python3"
  },
  "language_info": {
   "codemirror_mode": {
    "name": "ipython",
    "version": 3
   },
   "file_extension": ".py",
   "mimetype": "text/x-python",
   "name": "python",
   "nbconvert_exporter": "python",
   "pygments_lexer": "ipython3",
   "version": "3.8.3"
  }
 },
 "nbformat": 4,
 "nbformat_minor": 4
}
