{
 "cells": [
  {
   "cell_type": "markdown",
   "metadata": {},
   "source": [
    "# Point-in-Polygon Queries with GeoPandas and H3"
   ]
  },
  {
   "cell_type": "code",
   "execution_count": null,
   "metadata": {},
   "outputs": [],
   "source": [
    "import geopandas as gpd\n",
    "from h3 import h3"
   ]
  },
  {
   "cell_type": "markdown",
   "metadata": {},
   "source": [
    "The data is contained as a shapefile ASAM_events.shp which is inside a folder ASAM_data_download"
   ]
  },
  {
   "cell_type": "code",
   "execution_count": null,
   "metadata": {},
   "outputs": [],
   "source": [
    "zipfile = 'zip://ASAM_shp.zip!ASAM_data_download/ASAM_events.shp'\n",
    "incidents = gpd.read_file(zipfile)\n",
    "incidents"
   ]
  },
  {
   "cell_type": "markdown",
   "metadata": {},
   "source": [
    "H3 library has 15 levels of resolution. [This table](https://h3geo.org/#/documentation/core-library/resolution-table) shows details of each level. We choose Level 3 which results in a grid size of approximately 100km.\n",
    "\n",
    "The function `lat_lng_to_h3` converts a location's coordinates into an H3 id of the chosen level. We add a column called `h3` with the H3 cell id for the point at level 3."
   ]
  },
  {
   "cell_type": "code",
   "execution_count": null,
   "metadata": {},
   "outputs": [],
   "source": [
    "h3_level = 3\n",
    "\n",
    "def lat_lng_to_h3(row):\n",
    "    return h3.geo_to_h3(row.geometry.y, row.geometry.x, h3_level)\n",
    "\n",
    "incidents['h3'] = incidents.apply(lat_lng_to_h3, axis=1)\n",
    "incidents"
   ]
  },
  {
   "cell_type": "markdown",
   "metadata": {},
   "source": [
    "Since all points that fall in a grid cell will have the same id, we can simply aggregate all rows with the same grid id to find all points that fall in the grid polygon. \n",
    "\n",
    "We use Panda's `groupby` function on the `h3` column and add a new column `count` to the output with the number of rows for each H3 id."
   ]
  },
  {
   "cell_type": "code",
   "execution_count": null,
   "metadata": {},
   "outputs": [],
   "source": [
    "counts = incidents.groupby(['h3']).h3.agg('count').to_frame('count').reset_index()\n",
    "counts"
   ]
  },
  {
   "cell_type": "markdown",
   "metadata": {},
   "source": [
    "To visualize the results or export it to a GIS, we need to convert the H3 cell ids to a geometry. The `h3_to_geo_boundary` function takes a H3 key and returns a list of coordinates that form the hexagonal cell. Since GeoPandas uses `shapely` library for constructing geometries, we convert the list of coordinates to a shapely `Polygon` object. Note the optional second argument to the `h3_to_geo_boundary` function which we have set to `True` which returns the coordinates in the *(x,y)* order compared to default *(lat,lon)*"
   ]
  },
  {
   "cell_type": "code",
   "execution_count": null,
   "metadata": {},
   "outputs": [],
   "source": [
    "from shapely.geometry import Polygon\n",
    "\n",
    "def add_geometry(row):\n",
    "    points = h3.h3_to_geo_boundary(row['h3'], True)\n",
    "    return Polygon(points)\n",
    "\n",
    "counts['geometry'] = counts.apply(add_geometry, axis=1)\n",
    "counts"
   ]
  },
  {
   "cell_type": "markdown",
   "metadata": {},
   "source": [
    "We turn the dataframe to a GeoDataframe with the CRS EPSG:4326 and write it to a geopackage."
   ]
  },
  {
   "cell_type": "code",
   "execution_count": null,
   "metadata": {},
   "outputs": [],
   "source": [
    "gdf = gpd.GeoDataFrame(counts, crs='EPSG:4326')\n",
    "output_filename = 'gridcounts.gpkg'\n",
    "gdf.to_file(driver='GPKG', filename=output_filename)"
   ]
  }
 ],
 "metadata": {
  "kernelspec": {
   "display_name": "Python 3",
   "language": "python",
   "name": "python3"
  },
  "language_info": {
   "codemirror_mode": {
    "name": "ipython",
    "version": 3
   },
   "file_extension": ".py",
   "mimetype": "text/x-python",
   "name": "python",
   "nbconvert_exporter": "python",
   "pygments_lexer": "ipython3",
   "version": "3.7.7"
  }
 },
 "nbformat": 4,
 "nbformat_minor": 4
}
