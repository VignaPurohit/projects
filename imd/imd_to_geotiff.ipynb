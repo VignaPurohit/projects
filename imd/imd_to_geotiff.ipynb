{
 "cells": [
  {
   "cell_type": "markdown",
   "metadata": {},
   "source": [
    "# Convert IMD Gridded Data from Binary format to GeoTiff\n",
    "\n",
    "We will use the open-source [imdlib](https://pypi.org/project/imdlib/) library to read the bindary files.\n",
    "\n",
    "Install using PIP. Even if you are using conda, you can use PIP in Anaconda Prompt\n",
    "```\n",
    "pip install imdlib\n",
    "```\n",
    "\n",
    "Download the 0.25 x 0.25 degree gridded data from [IMD Climate Prediction Group Website](https://www.imdpune.gov.in/Clim_Pred_LRF_New/Grided_Data_Download.html)\n",
    "\n",
    "This code assumes you have the downloaded files in `<home folder>/Downloads/imd`. Each year's `.grd` file located in this directory.\n",
    "\n",
    "```\n",
    "Downloads\n",
    "|\n",
    "|-- imd\n",
    "     |\n",
    "     |-- Rainfall_ind2019_rfp25.grd\n",
    "     |-- Rainfall_ind2018_rfp25.grd\n",
    "     |-- Rainfall_ind2017_rfp25.grd\n",
    "     |-- ..\n",
    "```"
   ]
  },
  {
   "cell_type": "code",
   "execution_count": 70,
   "metadata": {},
   "outputs": [],
   "source": [
    "import calendar\n",
    "import os\n",
    "import imdlib as imd\n",
    "import pandas as pd\n",
    "import numpy as np\n",
    "import rasterio\n",
    "from rasterio.transform import Affine"
   ]
  },
  {
   "cell_type": "markdown",
   "metadata": {},
   "source": [
    "The `imd.open_data()` method reads the binary file as a numpy array. The array needs to be transposed and flipped upside-down for it to be in correct orientation.\n",
    "\n",
    "The parameters for affine transform are derived from the [dataset documentation](http://imdpune.gov.in/Clim_Pred_LRF_New/Grided_Data_Download.html)."
   ]
  },
  {
   "cell_type": "code",
   "execution_count": 74,
   "metadata": {},
   "outputs": [],
   "source": [
    "def read_convert_write(year, output_filepath):\n",
    "    variable = 'rain'\n",
    "    file_format = ''\n",
    "    data = imd.open_data(variable, year, year, file_format, imd_dir)\n",
    "    transform = Affine(0.25, 0, 66.375, 0, -0.25, 38.625)\n",
    "    # Transport array and flip the rows upside down\n",
    "    output = data.data.transpose(0, 2 ,1)[:, ::-1, :]\n",
    "    if calendar.isleap(year):\n",
    "        count = 366\n",
    "    else:\n",
    "        count = 365\n",
    "    dataset = rasterio.open(output_filepath, 'w', \n",
    "                                driver='GTiff',\n",
    "                                height=129,\n",
    "                                width=135,\n",
    "                                count=count,\n",
    "                                nodata=None,\n",
    "                                dtype=np.float64,\n",
    "                                crs='+proj=latlong',\n",
    "                                transform=transform)\n",
    "    dataset.write(output)\n",
    "    dataset.close()"
   ]
  },
  {
   "cell_type": "code",
   "execution_count": 75,
   "metadata": {},
   "outputs": [],
   "source": [
    "home_dir = os.path.join(os.path.expanduser('~'))\n",
    "imd_dir = os.path.join(home_dir, 'Downloads', 'imd')\n",
    "\n",
    "start_year = 2010\n",
    "end_year = 2019\n",
    "for year in range(start_year, end_year+1):\n",
    "    output_file = '{}.tif'.format(year)\n",
    "    output_filepath = os.path.join(imd_dir, output_file)\n",
    "    read_convert_write(year, output_filepath)"
   ]
  }
 ],
 "metadata": {
  "kernelspec": {
   "display_name": "Python 3",
   "language": "python",
   "name": "python3"
  },
  "language_info": {
   "codemirror_mode": {
    "name": "ipython",
    "version": 3
   },
   "file_extension": ".py",
   "mimetype": "text/x-python",
   "name": "python",
   "nbconvert_exporter": "python",
   "pygments_lexer": "ipython3",
   "version": "3.7.8"
  }
 },
 "nbformat": 4,
 "nbformat_minor": 4
}
