{
 "cells": [
  {
   "cell_type": "markdown",
   "metadata": {},
   "source": [
    "Google Earth Engine Python API code to convert a multiband image to an image collection.\n",
    "\n",
    "This code specifically shows how to take precipitation data released by [India Meteorological Department](http://imdpune.gov.in/Clim_Pred_LRF_New/Grided_Data_Download.html) and convert it into a form that is usable in Earth Engine. \n",
    "\n",
    "Another notebook in this repository `imd_to_geotiff.ipynb` takes the gridded binary data and converts it to a GeoTiff file. Each geotiff file has 1 band per day for a given year. Once uploaded to Earth Engine, this notebook shows, how to take each band and write it to its separate asset, resulting in an ImageCollection object which is the preferred container to work with time series data such as this."
   ]
  },
  {
   "cell_type": "code",
   "execution_count": null,
   "metadata": {
    "colab": {},
    "colab_type": "code",
    "executionInfo": {
     "elapsed": 876,
     "status": "ok",
     "timestamp": 1592476956910,
     "user": {
      "displayName": "Ujaval Gandhi",
      "photoUrl": "https://lh3.googleusercontent.com/a-/AOh14Gh-mr8b4yrvpjGrFWxEv60USCC0iYFAwW7Snk8sIISRZwewKGfTeuUrgVjxkvRoELvKK3NB5xkADIgEizMQyhbKx3A9G77B5XWYhrxzQJk8llQgVyvltfzlA9gPDjhFLCICbfYzj85RXVP-mcV5WeIVqCImzuwDpW2BliZjcAdSb-_WjYErFvJaD8U02SYADAk8ULNl20nkpQdJjCqzj4h_hOeOALl7CABZqMG4Uq3fRxa2Yg-Z0tJEY77GkUsu6lraXZJs25nM5GCgUbEg_JtuEKBePKqsmoQrYPOpdUB8lxDff4Hak2nSyGvFz-LbFoKc0ynGk39b1ycyeKVhjMlXvmvoJqCx4L3yoMP5jf0jMzKJMrvuov2PEUzMfUh2lIVZSaavzJqXT1jRiTtld5pA8DKhXKdtqIjsGCHoBkr5oCh7mxDI2QXjhWspibwWk2NgmXNDhZxSuVzxTWde50sAAkZ8Afm9k2LSygBFFi-uBuWg-dZWCsH-GCPIIn1lCJ_2z_aPgVKNp-llxU__ne74OE1J2Y4ob8Sq9d-QJk1ZglWtLZtffqMzhQBoLkOQgyRJrgerkjG1HArFS37c5LF7KhzUIi0hk9uSIuIBWaRHwMLfChfCWL9uVSmakAPCYwlEjS-JUkJVUSEQA60CUn8yU5f78WOjprA_PvUDNG7uXe6HDDtavrexokboYQVXvw-I952YwnpUSZP6gWzuqRdbhqQCZz51TyEA087lzNi6jP_YJ4GT2bDDVM-6wiLhVoNUdg=s64",
      "userId": "08961717268892623937"
     },
     "user_tz": -330
    },
    "id": "JuN5rEoyjmjK"
   },
   "outputs": [],
   "source": [
    "import ee\n",
    "ee.Authenticate()"
   ]
  },
  {
   "cell_type": "code",
   "execution_count": 5,
   "metadata": {
    "colab": {},
    "colab_type": "code",
    "executionInfo": {
     "elapsed": 5450,
     "status": "ok",
     "timestamp": 1592476984784,
     "user": {
      "displayName": "Ujaval Gandhi",
      "photoUrl": "https://lh3.googleusercontent.com/a-/AOh14Gh-mr8b4yrvpjGrFWxEv60USCC0iYFAwW7Snk8sIISRZwewKGfTeuUrgVjxkvRoELvKK3NB5xkADIgEizMQyhbKx3A9G77B5XWYhrxzQJk8llQgVyvltfzlA9gPDjhFLCICbfYzj85RXVP-mcV5WeIVqCImzuwDpW2BliZjcAdSb-_WjYErFvJaD8U02SYADAk8ULNl20nkpQdJjCqzj4h_hOeOALl7CABZqMG4Uq3fRxa2Yg-Z0tJEY77GkUsu6lraXZJs25nM5GCgUbEg_JtuEKBePKqsmoQrYPOpdUB8lxDff4Hak2nSyGvFz-LbFoKc0ynGk39b1ycyeKVhjMlXvmvoJqCx4L3yoMP5jf0jMzKJMrvuov2PEUzMfUh2lIVZSaavzJqXT1jRiTtld5pA8DKhXKdtqIjsGCHoBkr5oCh7mxDI2QXjhWspibwWk2NgmXNDhZxSuVzxTWde50sAAkZ8Afm9k2LSygBFFi-uBuWg-dZWCsH-GCPIIn1lCJ_2z_aPgVKNp-llxU__ne74OE1J2Y4ob8Sq9d-QJk1ZglWtLZtffqMzhQBoLkOQgyRJrgerkjG1HArFS37c5LF7KhzUIi0hk9uSIuIBWaRHwMLfChfCWL9uVSmakAPCYwlEjS-JUkJVUSEQA60CUn8yU5f78WOjprA_PvUDNG7uXe6HDDtavrexokboYQVXvw-I952YwnpUSZP6gWzuqRdbhqQCZz51TyEA087lzNi6jP_YJ4GT2bDDVM-6wiLhVoNUdg=s64",
      "userId": "08961717268892623937"
     },
     "user_tz": -330
    },
    "id": "UPsm1_Qxg72j"
   },
   "outputs": [],
   "source": [
    "ee.Initialize()"
   ]
  },
  {
   "cell_type": "code",
   "execution_count": 6,
   "metadata": {},
   "outputs": [],
   "source": [
    "year = 2017\n",
    "imageId = 'users/ujavalgandhi/external/imd/{}'.format(year)\n",
    "outputCollectionId =  'users/ujavalgandhi/imd/rainfall'"
   ]
  },
  {
   "cell_type": "markdown",
   "metadata": {
    "colab_type": "text",
    "id": "mW0ljMgeg72n"
   },
   "source": [
    "## Create a Collection"
   ]
  },
  {
   "cell_type": "code",
   "execution_count": 7,
   "metadata": {},
   "outputs": [],
   "source": [
    "image = ee.Image(imageId)\n",
    "daysList = ee.List.sequence(0, image.bandNames().length().subtract(1))\n",
    "\n",
    "def bandToDay(day):\n",
    "    dayBand = image.select([day]).rename('rainfall')\n",
    "    date = ee.Date.fromYMD(year, 1, 1).advance(day, 'day')\n",
    "    return dayBand.set('system:time_start', date.millis())\n",
    "\n",
    "dailyImages = daysList.map(bandToDay)\n",
    "\n",
    "dailyCol = ee.ImageCollection.fromImages(dailyImages)"
   ]
  },
  {
   "cell_type": "markdown",
   "metadata": {
    "colab_type": "text",
    "id": "s-zNDMS9g72r"
   },
   "source": [
    "## Export All Images\n",
    "\n",
    "Exports are done via the ``ee.batch`` module. "
   ]
  },
  {
   "cell_type": "code",
   "execution_count": 8,
   "metadata": {
    "colab": {
     "base_uri": "https://localhost:8080/",
     "height": 33
    },
    "colab_type": "code",
    "executionInfo": {
     "elapsed": 1596,
     "status": "ok",
     "timestamp": 1592477084873,
     "user": {
      "displayName": "Ujaval Gandhi",
      "photoUrl": "https://lh3.googleusercontent.com/a-/AOh14Gh-mr8b4yrvpjGrFWxEv60USCC0iYFAwW7Snk8sIISRZwewKGfTeuUrgVjxkvRoELvKK3NB5xkADIgEizMQyhbKx3A9G77B5XWYhrxzQJk8llQgVyvltfzlA9gPDjhFLCICbfYzj85RXVP-mcV5WeIVqCImzuwDpW2BliZjcAdSb-_WjYErFvJaD8U02SYADAk8ULNl20nkpQdJjCqzj4h_hOeOALl7CABZqMG4Uq3fRxa2Yg-Z0tJEY77GkUsu6lraXZJs25nM5GCgUbEg_JtuEKBePKqsmoQrYPOpdUB8lxDff4Hak2nSyGvFz-LbFoKc0ynGk39b1ycyeKVhjMlXvmvoJqCx4L3yoMP5jf0jMzKJMrvuov2PEUzMfUh2lIVZSaavzJqXT1jRiTtld5pA8DKhXKdtqIjsGCHoBkr5oCh7mxDI2QXjhWspibwWk2NgmXNDhZxSuVzxTWde50sAAkZ8Afm9k2LSygBFFi-uBuWg-dZWCsH-GCPIIn1lCJ_2z_aPgVKNp-llxU__ne74OE1J2Y4ob8Sq9d-QJk1ZglWtLZtffqMzhQBoLkOQgyRJrgerkjG1HArFS37c5LF7KhzUIi0hk9uSIuIBWaRHwMLfChfCWL9uVSmakAPCYwlEjS-JUkJVUSEQA60CUn8yU5f78WOjprA_PvUDNG7uXe6HDDtavrexokboYQVXvw-I952YwnpUSZP6gWzuqRdbhqQCZz51TyEA087lzNi6jP_YJ4GT2bDDVM-6wiLhVoNUdg=s64",
      "userId": "08961717268892623937"
     },
     "user_tz": -330
    },
    "id": "STvfd9ABg72s",
    "outputId": "61a6907a-38b1-4119-b349-807b49b2f4e7"
   },
   "outputs": [
    {
     "name": "stdout",
     "output_type": "stream",
     "text": [
      "Total images:  365\n"
     ]
    }
   ],
   "source": [
    "image_ids = dailyCol.aggregate_array('system:index').getInfo()\n",
    "print('Total images: ', len(image_ids))"
   ]
  },
  {
   "cell_type": "code",
   "execution_count": null,
   "metadata": {
    "colab": {},
    "colab_type": "code",
    "id": "CoXn1_hgoj81"
   },
   "outputs": [],
   "source": [
    "for i, image_id in enumerate(image_ids):\n",
    "    exportImage = ee.Image(dailyCol.filter(ee.Filter.eq('system:index', image_id)).first())\n",
    "    exportAssetId = '{}/{}_{}'.format(outputCollectionId, year, i+1)\n",
    "    task = ee.batch.Export.image.toAsset(**{\n",
    "        'image': exportImage,\n",
    "        'description': 'Image to Asset {}'.format(i+1),\n",
    "        'assetId': exportAssetId,\n",
    "        'scale': exportImage.projection().nominalScale().getInfo(),\n",
    "        'region': exportImage.geometry().getInfo()['coordinates'],\n",
    "        'maxPixels': 1e10\n",
    "    })\n",
    "    task.start()\n",
    "print('Started Task: ', i+1)"
   ]
  }
 ],
 "metadata": {
  "colab": {
   "collapsed_sections": [],
   "name": "02_managing_tasks.ipynb",
   "provenance": [],
   "toc_visible": true
  },
  "kernelspec": {
   "display_name": "Python 3",
   "language": "python",
   "name": "python3"
  },
  "language_info": {
   "codemirror_mode": {
    "name": "ipython",
    "version": 3
   },
   "file_extension": ".py",
   "mimetype": "text/x-python",
   "name": "python",
   "nbconvert_exporter": "python",
   "pygments_lexer": "ipython3",
   "version": "3.7.8"
  }
 },
 "nbformat": 4,
 "nbformat_minor": 4
}
