{
  "nbformat": 4,
  "nbformat_minor": 0,
  "metadata": {
    "colab": {
      "name": "delete_gee_assets.ipynb",
      "provenance": [],
      "authorship_tag": "ABX9TyMc/nXmZO8mOmQSB4VDAAgX",
      "include_colab_link": true
    },
    "kernelspec": {
      "name": "python3",
      "display_name": "Python 3"
    },
    "language_info": {
      "name": "python"
    }
  },
  "cells": [
    {
      "cell_type": "markdown",
      "metadata": {
        "id": "view-in-github",
        "colab_type": "text"
      },
      "source": [
        "<a href=\"https://colab.research.google.com/github/spatialthoughts/projects/blob/master/ee-python/delete_gee_assets.ipynb\" target=\"_parent\"><img src=\"https://colab.research.google.com/assets/colab-badge.svg\" alt=\"Open In Colab\"/></a>"
      ]
    },
    {
      "cell_type": "markdown",
      "source": [
        "# Delete GEE Assets Recursively\n",
        "\n",
        "Notebook to delete all assets from a folder/collection recursively. \n",
        "\n",
        "*Warning: The delete operation is not reversible. Check the list of assets before uncommenting the line to delete.*"
      ],
      "metadata": {
        "id": "1941iYEFRRIL"
      }
    },
    {
      "cell_type": "code",
      "execution_count": 1,
      "metadata": {
        "id": "9wz0EtbcNhtK"
      },
      "outputs": [],
      "source": [
        "import ee"
      ]
    },
    {
      "cell_type": "code",
      "source": [
        "ee.Authenticate()"
      ],
      "metadata": {
        "id": "ubaqjpTqNlSQ"
      },
      "execution_count": null,
      "outputs": []
    },
    {
      "cell_type": "code",
      "source": [
        "ee.Initialize()"
      ],
      "metadata": {
        "id": "fhLoydGfNman"
      },
      "execution_count": 3,
      "outputs": []
    },
    {
      "cell_type": "code",
      "source": [
        "def get_asset_list(parent):\n",
        "    parent_asset = ee.data.getAsset(parent)\n",
        "    parent_id = parent_asset['name']\n",
        "    parent_type = parent_asset['type']\n",
        "    asset_list = []\n",
        "    child_assets = ee.data.listAssets({'parent': parent_id})['assets']\n",
        "    for child_asset in child_assets:\n",
        "        child_id = child_asset['name']\n",
        "        child_type = child_asset['type']\n",
        "        if child_type in ['FOLDER','IMAGE_COLLECTION']:\n",
        "            # Recursively call the function to get child assets\n",
        "            asset_list.extend(get_asset_list(child_id))\n",
        "        else:\n",
        "            asset_list.append(child_id)\n",
        "    return asset_list\n",
        "\n",
        "parent = 'users/ujavalgandhi/temp'\n",
        "all_assets = get_asset_list(parent)"
      ],
      "metadata": {
        "id": "hlBiTb8YNoFf"
      },
      "execution_count": 13,
      "outputs": []
    },
    {
      "cell_type": "code",
      "source": [
        "all_assets"
      ],
      "metadata": {
        "id": "BVxA3jdjOBHO"
      },
      "execution_count": null,
      "outputs": []
    },
    {
      "cell_type": "markdown",
      "source": [
        "Uncomment the line below to run the delete operation."
      ],
      "metadata": {
        "id": "Zra-KDYrRpFX"
      }
    },
    {
      "cell_type": "code",
      "source": [
        "for asset in all_assets:\n",
        "    print(asset)\n",
        "    #ee.data.deleteAsset(asset)"
      ],
      "metadata": {
        "id": "GXY6jQaVOC1l"
      },
      "execution_count": null,
      "outputs": []
    }
  ]
}