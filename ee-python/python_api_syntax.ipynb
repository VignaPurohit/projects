{
 "cells": [
  {
   "cell_type": "markdown",
   "metadata": {
    "colab_type": "text",
    "id": "FG8qKXC42iLk"
   },
   "source": [
    "# Introduction to Google Earth Engine Python API\n",
    "\n",
    "Coming from the programming in Earth Engine through the Code Editor, you will need to slightly adapt your scripts to be able to run in Python. For the bulk of your code, you will be using Earth Engine API's server-side objects and functions - which will be exactly the same in Python. You only need to make a few syntactical changes.\n",
    "\n",
    "[Here's the full list](https://developers.google.com/earth-engine/python_install#syntax) of differences. Most important ones are elaborated below"
   ]
  },
  {
   "cell_type": "code",
   "execution_count": null,
   "metadata": {
    "colab": {},
    "colab_type": "code",
    "executionInfo": {
     "elapsed": 7977,
     "status": "ok",
     "timestamp": 1592474861976,
     "user": {
      "displayName": "Ujaval Gandhi",
      "photoUrl": "https://lh3.googleusercontent.com/a-/AOh14Gg9PpaB-xAqlYXNnG-9Q59ID8bdjGE5vf8pdAY7Qccm3leUiXzoy_ieTxV3YT1XNI2EcciYGWkz7FhQ0e0YbuHyaGe8thWf7zh6MVxzAhPu4KTlJnq6j2wtK_K8AKfXaeXsrRopECsX0xjZDH51jG3l3rnc801o8bbKHC27qRcEpwKUfcgUjsjJdRFq1Oe99YB98IeA1CnGRkytk0jUEjoRumaJ-ndrk69olfXDGtPWteUM0JkepUwgXgpjVxVp9jJz2M-rxSJG_pKw97j9DQPe77b0zGC2Rt7eYLFjX8ms8NZnJ7RxGsavS4566mrIBm7KemhRxw3Xzuc_LAj8jG0je5mEZwhBdycv2-2XNFphaCN87Ng1FLZFijTJ2GiIQ_YYuaQtCfu2m1a8f69dy_ykF4YKmM98N6Atuc7bzansAQxB_nd2C4AjGGTnC9jqIQmJm67TP92k8aoqihv6weFQHalNaJFnEwT9RUEFSWI_0-G9pnQ9BeMjJXbBeDZlCTzDbGXC45jRELENEdqldoZtliZl5zvDvctazfp3IKranp4D9y61j9AH8cHlXsAH3HzMxj924JX1-_lVZVWQBqOHAjphoLM8MIF33NS4WsqS3nmEqwxe58ujXtXnZGlEAegOiMU0UEQMIxpDx6o6oZge2hXWPYSPfqeefOvlLLbTL4Q6pY8DLnoF2_LWvJfFVH6FCNdpPH4K9hU7ZBsxvETQLyNqoaE5PO0usi6ChgMSkZwvX9b-Xb5aJjcyZxg3-ryJQA=s64",
      "userId": "08961717268892623937"
     },
     "user_tz": -330
    },
    "id": "Nv3V91tF2iLX"
   },
   "outputs": [],
   "source": [
    "import ee"
   ]
  },
  {
   "cell_type": "code",
   "execution_count": null,
   "metadata": {
    "colab": {
     "base_uri": "https://localhost:8080/",
     "height": 167
    },
    "colab_type": "code",
    "executionInfo": {
     "elapsed": 43140,
     "status": "ok",
     "timestamp": 1592474988349,
     "user": {
      "displayName": "Ujaval Gandhi",
      "photoUrl": "https://lh3.googleusercontent.com/a-/AOh14Gg9PpaB-xAqlYXNnG-9Q59ID8bdjGE5vf8pdAY7Qccm3leUiXzoy_ieTxV3YT1XNI2EcciYGWkz7FhQ0e0YbuHyaGe8thWf7zh6MVxzAhPu4KTlJnq6j2wtK_K8AKfXaeXsrRopECsX0xjZDH51jG3l3rnc801o8bbKHC27qRcEpwKUfcgUjsjJdRFq1Oe99YB98IeA1CnGRkytk0jUEjoRumaJ-ndrk69olfXDGtPWteUM0JkepUwgXgpjVxVp9jJz2M-rxSJG_pKw97j9DQPe77b0zGC2Rt7eYLFjX8ms8NZnJ7RxGsavS4566mrIBm7KemhRxw3Xzuc_LAj8jG0je5mEZwhBdycv2-2XNFphaCN87Ng1FLZFijTJ2GiIQ_YYuaQtCfu2m1a8f69dy_ykF4YKmM98N6Atuc7bzansAQxB_nd2C4AjGGTnC9jqIQmJm67TP92k8aoqihv6weFQHalNaJFnEwT9RUEFSWI_0-G9pnQ9BeMjJXbBeDZlCTzDbGXC45jRELENEdqldoZtliZl5zvDvctazfp3IKranp4D9y61j9AH8cHlXsAH3HzMxj924JX1-_lVZVWQBqOHAjphoLM8MIF33NS4WsqS3nmEqwxe58ujXtXnZGlEAegOiMU0UEQMIxpDx6o6oZge2hXWPYSPfqeefOvlLLbTL4Q6pY8DLnoF2_LWvJfFVH6FCNdpPH4K9hU7ZBsxvETQLyNqoaE5PO0usi6ChgMSkZwvX9b-Xb5aJjcyZxg3-ryJQA=s64",
      "userId": "08961717268892623937"
     },
     "user_tz": -330
    },
    "id": "gjRJhBKF2iLf",
    "outputId": "2aabbd02-1429-42da-9c56-c3e48be318d8"
   },
   "outputs": [],
   "source": [
    "ee.Authenticate()"
   ]
  },
  {
   "cell_type": "code",
   "execution_count": null,
   "metadata": {},
   "outputs": [],
   "source": [
    "ee.Initialize()"
   ]
  },
  {
   "cell_type": "markdown",
   "metadata": {
    "colab_type": "text",
    "id": "VcKwp3Qw2iLl"
   },
   "source": [
    "## Variables\n",
    "\n",
    "Python code doesn't use the 'var' keyword\n",
    "\n",
    "```\n",
    "var city = 'San Fransico'\n",
    "var state = 'California'\n",
    "print(city, state)\n",
    "\n",
    "var population = 881549\n",
    "print(population)\n",
    "```"
   ]
  },
  {
   "cell_type": "code",
   "execution_count": null,
   "metadata": {
    "colab": {
     "base_uri": "https://localhost:8080/",
     "height": 50
    },
    "colab_type": "code",
    "executionInfo": {
     "elapsed": 1148,
     "status": "ok",
     "timestamp": 1592475230507,
     "user": {
      "displayName": "Ujaval Gandhi",
      "photoUrl": "https://lh3.googleusercontent.com/a-/AOh14Gg9PpaB-xAqlYXNnG-9Q59ID8bdjGE5vf8pdAY7Qccm3leUiXzoy_ieTxV3YT1XNI2EcciYGWkz7FhQ0e0YbuHyaGe8thWf7zh6MVxzAhPu4KTlJnq6j2wtK_K8AKfXaeXsrRopECsX0xjZDH51jG3l3rnc801o8bbKHC27qRcEpwKUfcgUjsjJdRFq1Oe99YB98IeA1CnGRkytk0jUEjoRumaJ-ndrk69olfXDGtPWteUM0JkepUwgXgpjVxVp9jJz2M-rxSJG_pKw97j9DQPe77b0zGC2Rt7eYLFjX8ms8NZnJ7RxGsavS4566mrIBm7KemhRxw3Xzuc_LAj8jG0je5mEZwhBdycv2-2XNFphaCN87Ng1FLZFijTJ2GiIQ_YYuaQtCfu2m1a8f69dy_ykF4YKmM98N6Atuc7bzansAQxB_nd2C4AjGGTnC9jqIQmJm67TP92k8aoqihv6weFQHalNaJFnEwT9RUEFSWI_0-G9pnQ9BeMjJXbBeDZlCTzDbGXC45jRELENEdqldoZtliZl5zvDvctazfp3IKranp4D9y61j9AH8cHlXsAH3HzMxj924JX1-_lVZVWQBqOHAjphoLM8MIF33NS4WsqS3nmEqwxe58ujXtXnZGlEAegOiMU0UEQMIxpDx6o6oZge2hXWPYSPfqeefOvlLLbTL4Q6pY8DLnoF2_LWvJfFVH6FCNdpPH4K9hU7ZBsxvETQLyNqoaE5PO0usi6ChgMSkZwvX9b-Xb5aJjcyZxg3-ryJQA=s64",
      "userId": "08961717268892623937"
     },
     "user_tz": -330
    },
    "id": "dyH3WyF92iLm",
    "outputId": "2b94ed28-7f41-4e81-b005-93ad4565660f"
   },
   "outputs": [],
   "source": [
    "city = 'San Fransico'\n",
    "state = 'California'\n",
    "print(city, state)\n",
    "\n",
    "population = 881549\n",
    "print(population)"
   ]
  },
  {
   "cell_type": "markdown",
   "metadata": {
    "colab_type": "text",
    "id": "349JPCj12iLv"
   },
   "source": [
    "## Line Continuation\n",
    "\n",
    "Python doesn't use semi-colon for line ending. To indicate line-continuation you need to use \\\\ character\n",
    "\n",
    "```\n",
    "var s2 = ee.ImageCollection('COPERNICUS/S2');\n",
    "var filtered = s2.filter(ee.Filter.lt('CLOUDY_PIXEL_PERCENTAGE', 30))\n",
    "  .filter(ee.Filter.date('2019-01-01', '2019-12-31'));\n",
    "```"
   ]
  },
  {
   "cell_type": "code",
   "execution_count": null,
   "metadata": {
    "colab": {},
    "colab_type": "code",
    "executionInfo": {
     "elapsed": 1176,
     "status": "ok",
     "timestamp": 1592475350845,
     "user": {
      "displayName": "Ujaval Gandhi",
      "photoUrl": "https://lh3.googleusercontent.com/a-/AOh14Gg9PpaB-xAqlYXNnG-9Q59ID8bdjGE5vf8pdAY7Qccm3leUiXzoy_ieTxV3YT1XNI2EcciYGWkz7FhQ0e0YbuHyaGe8thWf7zh6MVxzAhPu4KTlJnq6j2wtK_K8AKfXaeXsrRopECsX0xjZDH51jG3l3rnc801o8bbKHC27qRcEpwKUfcgUjsjJdRFq1Oe99YB98IeA1CnGRkytk0jUEjoRumaJ-ndrk69olfXDGtPWteUM0JkepUwgXgpjVxVp9jJz2M-rxSJG_pKw97j9DQPe77b0zGC2Rt7eYLFjX8ms8NZnJ7RxGsavS4566mrIBm7KemhRxw3Xzuc_LAj8jG0je5mEZwhBdycv2-2XNFphaCN87Ng1FLZFijTJ2GiIQ_YYuaQtCfu2m1a8f69dy_ykF4YKmM98N6Atuc7bzansAQxB_nd2C4AjGGTnC9jqIQmJm67TP92k8aoqihv6weFQHalNaJFnEwT9RUEFSWI_0-G9pnQ9BeMjJXbBeDZlCTzDbGXC45jRELENEdqldoZtliZl5zvDvctazfp3IKranp4D9y61j9AH8cHlXsAH3HzMxj924JX1-_lVZVWQBqOHAjphoLM8MIF33NS4WsqS3nmEqwxe58ujXtXnZGlEAegOiMU0UEQMIxpDx6o6oZge2hXWPYSPfqeefOvlLLbTL4Q6pY8DLnoF2_LWvJfFVH6FCNdpPH4K9hU7ZBsxvETQLyNqoaE5PO0usi6ChgMSkZwvX9b-Xb5aJjcyZxg3-ryJQA=s64",
      "userId": "08961717268892623937"
     },
     "user_tz": -330
    },
    "id": "uZwEVx5c2iLw"
   },
   "outputs": [],
   "source": [
    "s2 = ee.ImageCollection('COPERNICUS/S2')\n",
    "filtered = s2 \\\n",
    "  .filter(ee.Filter.date('2019-01-01', '2019-12-31'))"
   ]
  },
  {
   "cell_type": "markdown",
   "metadata": {
    "colab_type": "text",
    "id": "qpHepM3Q2iL0"
   },
   "source": [
    "# Functions\n",
    "\n",
    "Instead of `function` keyword, Python uses `def` keyword. Also in-line functions are defined using `lambda` anonymous functions.\n",
    "\n",
    "In the example below, also now the `and` operator - which is capitalized as `And` in Python version to avoid conflict with the built-in `and` operator. The same applies to `Or` and `Not` operators. `true`, `false`, `null` in Python are also spelled as `True`, `False` and `None`."
   ]
  },
  {
   "cell_type": "markdown",
   "metadata": {
    "colab_type": "text",
    "id": "-94fdDVt2iL1"
   },
   "source": [
    "```\n",
    "function maskS2clouds(image) {\n",
    "  var qa = image.select('QA60')\n",
    "  var cloudBitMask = 1 << 10;\n",
    "  var cirrusBitMask = 1 << 11;\n",
    "  var mask = qa.bitwiseAnd(cloudBitMask).eq(0).and(\n",
    "             qa.bitwiseAnd(cirrusBitMask).eq(0))\n",
    "  return image.updateMask(mask)//.divide(10000)\n",
    "      .select(\"B.*\")\n",
    "      .copyProperties(image, [\"system:time_start\"])\n",
    "}\n",
    "```"
   ]
  },
  {
   "cell_type": "code",
   "execution_count": null,
   "metadata": {
    "colab": {},
    "colab_type": "code",
    "executionInfo": {
     "elapsed": 1356,
     "status": "ok",
     "timestamp": 1592475405427,
     "user": {
      "displayName": "Ujaval Gandhi",
      "photoUrl": "https://lh3.googleusercontent.com/a-/AOh14Gg9PpaB-xAqlYXNnG-9Q59ID8bdjGE5vf8pdAY7Qccm3leUiXzoy_ieTxV3YT1XNI2EcciYGWkz7FhQ0e0YbuHyaGe8thWf7zh6MVxzAhPu4KTlJnq6j2wtK_K8AKfXaeXsrRopECsX0xjZDH51jG3l3rnc801o8bbKHC27qRcEpwKUfcgUjsjJdRFq1Oe99YB98IeA1CnGRkytk0jUEjoRumaJ-ndrk69olfXDGtPWteUM0JkepUwgXgpjVxVp9jJz2M-rxSJG_pKw97j9DQPe77b0zGC2Rt7eYLFjX8ms8NZnJ7RxGsavS4566mrIBm7KemhRxw3Xzuc_LAj8jG0je5mEZwhBdycv2-2XNFphaCN87Ng1FLZFijTJ2GiIQ_YYuaQtCfu2m1a8f69dy_ykF4YKmM98N6Atuc7bzansAQxB_nd2C4AjGGTnC9jqIQmJm67TP92k8aoqihv6weFQHalNaJFnEwT9RUEFSWI_0-G9pnQ9BeMjJXbBeDZlCTzDbGXC45jRELENEdqldoZtliZl5zvDvctazfp3IKranp4D9y61j9AH8cHlXsAH3HzMxj924JX1-_lVZVWQBqOHAjphoLM8MIF33NS4WsqS3nmEqwxe58ujXtXnZGlEAegOiMU0UEQMIxpDx6o6oZge2hXWPYSPfqeefOvlLLbTL4Q6pY8DLnoF2_LWvJfFVH6FCNdpPH4K9hU7ZBsxvETQLyNqoaE5PO0usi6ChgMSkZwvX9b-Xb5aJjcyZxg3-ryJQA=s64",
      "userId": "08961717268892623937"
     },
     "user_tz": -330
    },
    "id": "bRbMb8B02iL2"
   },
   "outputs": [],
   "source": [
    "def maskS2clouds(image):\n",
    "  qa = image.select('QA60')\n",
    "  cloudBitMask = 1 << 10\n",
    "  cirrusBitMask = 1 << 11\n",
    "  mask = qa.bitwiseAnd(cloudBitMask).eq(0).And(\n",
    "             qa.bitwiseAnd(cirrusBitMask).eq(0))\n",
    "  return image.updateMask(mask) \\\n",
    "      .select(\"B.*\") \\\n",
    "      .copyProperties(image, [\"system:time_start\"])"
   ]
  },
  {
   "cell_type": "markdown",
   "metadata": {
    "colab_type": "text",
    "id": "x6E1D2hv2iL8"
   },
   "source": [
    "## Function Arguments\n",
    "\n",
    "Named arguments to Earth Engine functions need to be in quotes. Also when passing the named arguments as a dictionary, it needs to be passed using the `**` keyword."
   ]
  },
  {
   "cell_type": "markdown",
   "metadata": {
    "colab_type": "text",
    "id": "J-uoW8BI2iL-"
   },
   "source": [
    "```\n",
    "var gaul = ee.FeatureCollection(\"FAO/GAUL/2015/level1\");\n",
    "var gfsad = ee.Image(\"USGS/GFSAD1000_V0\");\n",
    "var wheatrice = gfsad.select('landcover').eq(1)\n",
    "var uttarpradesh = gaul.filter(ee.Filter.eq('ADM1_NAME', 'Uttar Pradesh'))\n",
    "var points = wheatrice.selfMask().stratifiedSample(\n",
    "    {numPoints:100, region:uttarpradesh, geometries: true})\n",
    "```\n"
   ]
  },
  {
   "cell_type": "code",
   "execution_count": null,
   "metadata": {
    "colab": {
     "base_uri": "https://localhost:8080/",
     "height": 53
    },
    "colab_type": "code",
    "executionInfo": {
     "elapsed": 2683,
     "status": "ok",
     "timestamp": 1592475797127,
     "user": {
      "displayName": "Ujaval Gandhi",
      "photoUrl": "https://lh3.googleusercontent.com/a-/AOh14Gg9PpaB-xAqlYXNnG-9Q59ID8bdjGE5vf8pdAY7Qccm3leUiXzoy_ieTxV3YT1XNI2EcciYGWkz7FhQ0e0YbuHyaGe8thWf7zh6MVxzAhPu4KTlJnq6j2wtK_K8AKfXaeXsrRopECsX0xjZDH51jG3l3rnc801o8bbKHC27qRcEpwKUfcgUjsjJdRFq1Oe99YB98IeA1CnGRkytk0jUEjoRumaJ-ndrk69olfXDGtPWteUM0JkepUwgXgpjVxVp9jJz2M-rxSJG_pKw97j9DQPe77b0zGC2Rt7eYLFjX8ms8NZnJ7RxGsavS4566mrIBm7KemhRxw3Xzuc_LAj8jG0je5mEZwhBdycv2-2XNFphaCN87Ng1FLZFijTJ2GiIQ_YYuaQtCfu2m1a8f69dy_ykF4YKmM98N6Atuc7bzansAQxB_nd2C4AjGGTnC9jqIQmJm67TP92k8aoqihv6weFQHalNaJFnEwT9RUEFSWI_0-G9pnQ9BeMjJXbBeDZlCTzDbGXC45jRELENEdqldoZtliZl5zvDvctazfp3IKranp4D9y61j9AH8cHlXsAH3HzMxj924JX1-_lVZVWQBqOHAjphoLM8MIF33NS4WsqS3nmEqwxe58ujXtXnZGlEAegOiMU0UEQMIxpDx6o6oZge2hXWPYSPfqeefOvlLLbTL4Q6pY8DLnoF2_LWvJfFVH6FCNdpPH4K9hU7ZBsxvETQLyNqoaE5PO0usi6ChgMSkZwvX9b-Xb5aJjcyZxg3-ryJQA=s64",
      "userId": "08961717268892623937"
     },
     "user_tz": -330
    },
    "id": "SXVG1s-92iMA",
    "outputId": "ff04185c-8e5f-4983-b3e4-bcfc7cfb51cc"
   },
   "outputs": [],
   "source": [
    "gaul = ee.FeatureCollection(\"FAO/GAUL/2015/level1\")\n",
    "gfsad = ee.Image(\"USGS/GFSAD1000_V0\")\n",
    "wheatrice = gfsad.select('landcover').eq(1)\n",
    "uttarpradesh = gaul.filter(ee.Filter.eq('ADM1_NAME', 'Uttar Pradesh'))\n",
    "points = wheatrice.selfMask().stratifiedSample(**\n",
    "    {'numPoints':100, 'region':uttarpradesh, 'geometries': True})\n",
    "print(points.getInfo())\n"
   ]
  },
  {
   "cell_type": "markdown",
   "metadata": {
    "colab_type": "text",
    "id": "S8U09l6E2iME"
   },
   "source": [
    "## In-line functions\n",
    "\n",
    "The syntax for defining in-line functions is also slightly different. You need to use the `lambda` keyword"
   ]
  },
  {
   "cell_type": "markdown",
   "metadata": {
    "colab_type": "text",
    "id": "4h1tcdG32iME"
   },
   "source": [
    "```\n",
    "var points = points.map(function(feature) {\n",
    "  return ee.Feature(feature.geometry(), {'id': feature.id()})\n",
    "})\n",
    "```"
   ]
  },
  {
   "cell_type": "code",
   "execution_count": null,
   "metadata": {
    "colab": {},
    "colab_type": "code",
    "executionInfo": {
     "elapsed": 1240,
     "status": "ok",
     "timestamp": 1592475848559,
     "user": {
      "displayName": "Ujaval Gandhi",
      "photoUrl": "https://lh3.googleusercontent.com/a-/AOh14Gg9PpaB-xAqlYXNnG-9Q59ID8bdjGE5vf8pdAY7Qccm3leUiXzoy_ieTxV3YT1XNI2EcciYGWkz7FhQ0e0YbuHyaGe8thWf7zh6MVxzAhPu4KTlJnq6j2wtK_K8AKfXaeXsrRopECsX0xjZDH51jG3l3rnc801o8bbKHC27qRcEpwKUfcgUjsjJdRFq1Oe99YB98IeA1CnGRkytk0jUEjoRumaJ-ndrk69olfXDGtPWteUM0JkepUwgXgpjVxVp9jJz2M-rxSJG_pKw97j9DQPe77b0zGC2Rt7eYLFjX8ms8NZnJ7RxGsavS4566mrIBm7KemhRxw3Xzuc_LAj8jG0je5mEZwhBdycv2-2XNFphaCN87Ng1FLZFijTJ2GiIQ_YYuaQtCfu2m1a8f69dy_ykF4YKmM98N6Atuc7bzansAQxB_nd2C4AjGGTnC9jqIQmJm67TP92k8aoqihv6weFQHalNaJFnEwT9RUEFSWI_0-G9pnQ9BeMjJXbBeDZlCTzDbGXC45jRELENEdqldoZtliZl5zvDvctazfp3IKranp4D9y61j9AH8cHlXsAH3HzMxj924JX1-_lVZVWQBqOHAjphoLM8MIF33NS4WsqS3nmEqwxe58ujXtXnZGlEAegOiMU0UEQMIxpDx6o6oZge2hXWPYSPfqeefOvlLLbTL4Q6pY8DLnoF2_LWvJfFVH6FCNdpPH4K9hU7ZBsxvETQLyNqoaE5PO0usi6ChgMSkZwvX9b-Xb5aJjcyZxg3-ryJQA=s64",
      "userId": "08961717268892623937"
     },
     "user_tz": -330
    },
    "id": "eC1intbg2iMF"
   },
   "outputs": [],
   "source": [
    "points = points.map(lambda feature: ee.Feature(feature.geometry(), {'id': feature.id()} ))"
   ]
  },
  {
   "cell_type": "markdown",
   "metadata": {
    "colab_type": "text",
    "id": "bYzscid52iMM"
   },
   "source": [
    "## Printing Values\n",
    "\n",
    "The `print()` function syntax is the same. But you must remember that in the Code Editor when you cann `print`, the value of the server object is fetched and then printed. You must do that explicitely by calling `getInfo()` on any server-side object."
   ]
  },
  {
   "cell_type": "markdown",
   "metadata": {
    "colab_type": "text",
    "id": "JeaMLrpk2iMN"
   },
   "source": [
    "```\n",
    "print(points.first()\n",
    "```"
   ]
  },
  {
   "cell_type": "code",
   "execution_count": null,
   "metadata": {
    "colab": {
     "base_uri": "https://localhost:8080/",
     "height": 33
    },
    "colab_type": "code",
    "executionInfo": {
     "elapsed": 2320,
     "status": "ok",
     "timestamp": 1592475895541,
     "user": {
      "displayName": "Ujaval Gandhi",
      "photoUrl": "https://lh3.googleusercontent.com/a-/AOh14Gg9PpaB-xAqlYXNnG-9Q59ID8bdjGE5vf8pdAY7Qccm3leUiXzoy_ieTxV3YT1XNI2EcciYGWkz7FhQ0e0YbuHyaGe8thWf7zh6MVxzAhPu4KTlJnq6j2wtK_K8AKfXaeXsrRopECsX0xjZDH51jG3l3rnc801o8bbKHC27qRcEpwKUfcgUjsjJdRFq1Oe99YB98IeA1CnGRkytk0jUEjoRumaJ-ndrk69olfXDGtPWteUM0JkepUwgXgpjVxVp9jJz2M-rxSJG_pKw97j9DQPe77b0zGC2Rt7eYLFjX8ms8NZnJ7RxGsavS4566mrIBm7KemhRxw3Xzuc_LAj8jG0je5mEZwhBdycv2-2XNFphaCN87Ng1FLZFijTJ2GiIQ_YYuaQtCfu2m1a8f69dy_ykF4YKmM98N6Atuc7bzansAQxB_nd2C4AjGGTnC9jqIQmJm67TP92k8aoqihv6weFQHalNaJFnEwT9RUEFSWI_0-G9pnQ9BeMjJXbBeDZlCTzDbGXC45jRELENEdqldoZtliZl5zvDvctazfp3IKranp4D9y61j9AH8cHlXsAH3HzMxj924JX1-_lVZVWQBqOHAjphoLM8MIF33NS4WsqS3nmEqwxe58ujXtXnZGlEAegOiMU0UEQMIxpDx6o6oZge2hXWPYSPfqeefOvlLLbTL4Q6pY8DLnoF2_LWvJfFVH6FCNdpPH4K9hU7ZBsxvETQLyNqoaE5PO0usi6ChgMSkZwvX9b-Xb5aJjcyZxg3-ryJQA=s64",
      "userId": "08961717268892623937"
     },
     "user_tz": -330
    },
    "id": "z4ibAUFa2iMP",
    "outputId": "24170213-60a2-4954-fe5c-c48d06fcd436"
   },
   "outputs": [],
   "source": [
    "print(points.first().getInfo())"
   ]
  },
  {
   "cell_type": "markdown",
   "metadata": {
    "colab_type": "text",
    "id": "WD-QeVYP2iMT"
   },
   "source": [
    "## Automatic Conversion of Scripts\n",
    "\n",
    "[geemap](https://github.com/giswqs/geemap) is an open-source PYthon package that comes with many helpful features that help you use Earth Engine effectively in Python. \n",
    "\n",
    "It comes with a function that can help you translate your javascript earth engine code to Python automatically."
   ]
  },
  {
   "cell_type": "markdown",
   "metadata": {
    "colab_type": "text",
    "id": "YFEZxfN62iMV"
   },
   "source": [
    "The automatic conversion works great, but it is not perfect. You may have to tweak the output a bit. An important filter that is missing from the Python API is the `ee.Filter.bounds()`. You can use an alternative `ee.Filter.intersects('.geo', geometry)` instead."
   ]
  },
  {
   "cell_type": "code",
   "execution_count": null,
   "metadata": {
    "colab": {
     "base_uri": "https://localhost:8080/",
     "height": 33
    },
    "colab_type": "code",
    "executionInfo": {
     "elapsed": 6357,
     "status": "ok",
     "timestamp": 1592476181964,
     "user": {
      "displayName": "Ujaval Gandhi",
      "photoUrl": "https://lh3.googleusercontent.com/a-/AOh14Gg9PpaB-xAqlYXNnG-9Q59ID8bdjGE5vf8pdAY7Qccm3leUiXzoy_ieTxV3YT1XNI2EcciYGWkz7FhQ0e0YbuHyaGe8thWf7zh6MVxzAhPu4KTlJnq6j2wtK_K8AKfXaeXsrRopECsX0xjZDH51jG3l3rnc801o8bbKHC27qRcEpwKUfcgUjsjJdRFq1Oe99YB98IeA1CnGRkytk0jUEjoRumaJ-ndrk69olfXDGtPWteUM0JkepUwgXgpjVxVp9jJz2M-rxSJG_pKw97j9DQPe77b0zGC2Rt7eYLFjX8ms8NZnJ7RxGsavS4566mrIBm7KemhRxw3Xzuc_LAj8jG0je5mEZwhBdycv2-2XNFphaCN87Ng1FLZFijTJ2GiIQ_YYuaQtCfu2m1a8f69dy_ykF4YKmM98N6Atuc7bzansAQxB_nd2C4AjGGTnC9jqIQmJm67TP92k8aoqihv6weFQHalNaJFnEwT9RUEFSWI_0-G9pnQ9BeMjJXbBeDZlCTzDbGXC45jRELENEdqldoZtliZl5zvDvctazfp3IKranp4D9y61j9AH8cHlXsAH3HzMxj924JX1-_lVZVWQBqOHAjphoLM8MIF33NS4WsqS3nmEqwxe58ujXtXnZGlEAegOiMU0UEQMIxpDx6o6oZge2hXWPYSPfqeefOvlLLbTL4Q6pY8DLnoF2_LWvJfFVH6FCNdpPH4K9hU7ZBsxvETQLyNqoaE5PO0usi6ChgMSkZwvX9b-Xb5aJjcyZxg3-ryJQA=s64",
      "userId": "08961717268892623937"
     },
     "user_tz": -330
    },
    "id": "nlQ8X57t2iMW",
    "outputId": "eef49736-5002-4d0c-d564-4490a4c5eb55"
   },
   "outputs": [],
   "source": [
    "import geemap"
   ]
  },
  {
   "cell_type": "code",
   "execution_count": null,
   "metadata": {
    "colab": {},
    "colab_type": "code",
    "executionInfo": {
     "elapsed": 1403,
     "status": "ok",
     "timestamp": 1592476096427,
     "user": {
      "displayName": "Ujaval Gandhi",
      "photoUrl": "https://lh3.googleusercontent.com/a-/AOh14Gg9PpaB-xAqlYXNnG-9Q59ID8bdjGE5vf8pdAY7Qccm3leUiXzoy_ieTxV3YT1XNI2EcciYGWkz7FhQ0e0YbuHyaGe8thWf7zh6MVxzAhPu4KTlJnq6j2wtK_K8AKfXaeXsrRopECsX0xjZDH51jG3l3rnc801o8bbKHC27qRcEpwKUfcgUjsjJdRFq1Oe99YB98IeA1CnGRkytk0jUEjoRumaJ-ndrk69olfXDGtPWteUM0JkepUwgXgpjVxVp9jJz2M-rxSJG_pKw97j9DQPe77b0zGC2Rt7eYLFjX8ms8NZnJ7RxGsavS4566mrIBm7KemhRxw3Xzuc_LAj8jG0je5mEZwhBdycv2-2XNFphaCN87Ng1FLZFijTJ2GiIQ_YYuaQtCfu2m1a8f69dy_ykF4YKmM98N6Atuc7bzansAQxB_nd2C4AjGGTnC9jqIQmJm67TP92k8aoqihv6weFQHalNaJFnEwT9RUEFSWI_0-G9pnQ9BeMjJXbBeDZlCTzDbGXC45jRELENEdqldoZtliZl5zvDvctazfp3IKranp4D9y61j9AH8cHlXsAH3HzMxj924JX1-_lVZVWQBqOHAjphoLM8MIF33NS4WsqS3nmEqwxe58ujXtXnZGlEAegOiMU0UEQMIxpDx6o6oZge2hXWPYSPfqeefOvlLLbTL4Q6pY8DLnoF2_LWvJfFVH6FCNdpPH4K9hU7ZBsxvETQLyNqoaE5PO0usi6ChgMSkZwvX9b-Xb5aJjcyZxg3-ryJQA=s64",
      "userId": "08961717268892623937"
     },
     "user_tz": -330
    },
    "id": "nxPPLtLI2iMa"
   },
   "outputs": [],
   "source": [
    "javascript_code = \"\"\"\n",
    "var geometry = ee.Geometry.Point([107.61303468448624, 12.130969369851766]);\n",
    "Map.centerObject(geometry, 12)\n",
    "var s2 = ee.ImageCollection(\"COPERNICUS/S2\")\n",
    "var rgbVis = {\n",
    "  min: 0.0,\n",
    "  max: 3000,\n",
    "  bands: ['B4', 'B3', 'B2'],\n",
    "};\n",
    "\n",
    "// Write a function for Cloud masking\n",
    "function maskS2clouds(image) {\n",
    "  var qa = image.select('QA60')\n",
    "  var cloudBitMask = 1 << 10;\n",
    "  var cirrusBitMask = 1 << 11;\n",
    "  var mask = qa.bitwiseAnd(cloudBitMask).eq(0).and(\n",
    "             qa.bitwiseAnd(cirrusBitMask).eq(0))\n",
    "  return image.updateMask(mask)\n",
    "      .select(\"B.*\")\n",
    "      .copyProperties(image, [\"system:time_start\"])\n",
    "}\n",
    " \n",
    "var filtered = s2\n",
    "  .filter(ee.Filter.date('2019-01-01', '2019-12-31'))\n",
    "  .filter(ee.Filter.bounds(geometry))\n",
    "  .map(maskS2clouds)\n",
    "  \n",
    "\n",
    "// Write a function that computes NDVI for an image and adds it as a band\n",
    "function addNDVI(image) {\n",
    "  var ndvi = image.normalizedDifference(['B5', 'B4']).rename('ndvi');\n",
    "  return image.addBands(ndvi);\n",
    "}\n",
    "\n",
    "var withNdvi = filtered.map(addNDVI);\n",
    "\n",
    "var composite = withNdvi.median()\n",
    "palette = [\n",
    "  'FFFFFF', 'CE7E45', 'DF923D', 'F1B555', 'FCD163', '99B718',\n",
    "  '74A901', '66A000', '529400', '3E8601', '207401', '056201',\n",
    "  '004C00', '023B01', '012E01', '011D01', '011301'];\n",
    "\n",
    "ndviVis = {min:0, max:0.5, palette: palette }\n",
    "Map.addLayer(withNdvi, ndviVis, 'NDVI Composite')\n",
    "\n",
    "\"\"\""
   ]
  },
  {
   "cell_type": "code",
   "execution_count": null,
   "metadata": {
    "colab": {},
    "colab_type": "code",
    "executionInfo": {
     "elapsed": 1152,
     "status": "ok",
     "timestamp": 1592476374427,
     "user": {
      "displayName": "Ujaval Gandhi",
      "photoUrl": "https://lh3.googleusercontent.com/a-/AOh14Gg9PpaB-xAqlYXNnG-9Q59ID8bdjGE5vf8pdAY7Qccm3leUiXzoy_ieTxV3YT1XNI2EcciYGWkz7FhQ0e0YbuHyaGe8thWf7zh6MVxzAhPu4KTlJnq6j2wtK_K8AKfXaeXsrRopECsX0xjZDH51jG3l3rnc801o8bbKHC27qRcEpwKUfcgUjsjJdRFq1Oe99YB98IeA1CnGRkytk0jUEjoRumaJ-ndrk69olfXDGtPWteUM0JkepUwgXgpjVxVp9jJz2M-rxSJG_pKw97j9DQPe77b0zGC2Rt7eYLFjX8ms8NZnJ7RxGsavS4566mrIBm7KemhRxw3Xzuc_LAj8jG0je5mEZwhBdycv2-2XNFphaCN87Ng1FLZFijTJ2GiIQ_YYuaQtCfu2m1a8f69dy_ykF4YKmM98N6Atuc7bzansAQxB_nd2C4AjGGTnC9jqIQmJm67TP92k8aoqihv6weFQHalNaJFnEwT9RUEFSWI_0-G9pnQ9BeMjJXbBeDZlCTzDbGXC45jRELENEdqldoZtliZl5zvDvctazfp3IKranp4D9y61j9AH8cHlXsAH3HzMxj924JX1-_lVZVWQBqOHAjphoLM8MIF33NS4WsqS3nmEqwxe58ujXtXnZGlEAegOiMU0UEQMIxpDx6o6oZge2hXWPYSPfqeefOvlLLbTL4Q6pY8DLnoF2_LWvJfFVH6FCNdpPH4K9hU7ZBsxvETQLyNqoaE5PO0usi6ChgMSkZwvX9b-Xb5aJjcyZxg3-ryJQA=s64",
      "userId": "08961717268892623937"
     },
     "user_tz": -330
    },
    "id": "zYsztHh42iMf"
   },
   "outputs": [],
   "source": [
    "geemap.js_snippet_to_py(javascript_code)"
   ]
  },
  {
   "cell_type": "code",
   "execution_count": null,
   "metadata": {
    "colab": {
     "base_uri": "https://localhost:8080/",
     "height": 1000
    },
    "colab_type": "code",
    "executionInfo": {
     "elapsed": 4253,
     "status": "ok",
     "timestamp": 1592476499084,
     "user": {
      "displayName": "Ujaval Gandhi",
      "photoUrl": "https://lh3.googleusercontent.com/a-/AOh14Gg9PpaB-xAqlYXNnG-9Q59ID8bdjGE5vf8pdAY7Qccm3leUiXzoy_ieTxV3YT1XNI2EcciYGWkz7FhQ0e0YbuHyaGe8thWf7zh6MVxzAhPu4KTlJnq6j2wtK_K8AKfXaeXsrRopECsX0xjZDH51jG3l3rnc801o8bbKHC27qRcEpwKUfcgUjsjJdRFq1Oe99YB98IeA1CnGRkytk0jUEjoRumaJ-ndrk69olfXDGtPWteUM0JkepUwgXgpjVxVp9jJz2M-rxSJG_pKw97j9DQPe77b0zGC2Rt7eYLFjX8ms8NZnJ7RxGsavS4566mrIBm7KemhRxw3Xzuc_LAj8jG0je5mEZwhBdycv2-2XNFphaCN87Ng1FLZFijTJ2GiIQ_YYuaQtCfu2m1a8f69dy_ykF4YKmM98N6Atuc7bzansAQxB_nd2C4AjGGTnC9jqIQmJm67TP92k8aoqihv6weFQHalNaJFnEwT9RUEFSWI_0-G9pnQ9BeMjJXbBeDZlCTzDbGXC45jRELENEdqldoZtliZl5zvDvctazfp3IKranp4D9y61j9AH8cHlXsAH3HzMxj924JX1-_lVZVWQBqOHAjphoLM8MIF33NS4WsqS3nmEqwxe58ujXtXnZGlEAegOiMU0UEQMIxpDx6o6oZge2hXWPYSPfqeefOvlLLbTL4Q6pY8DLnoF2_LWvJfFVH6FCNdpPH4K9hU7ZBsxvETQLyNqoaE5PO0usi6ChgMSkZwvX9b-Xb5aJjcyZxg3-ryJQA=s64",
      "userId": "08961717268892623937"
     },
     "user_tz": -330
    },
    "id": "nP649uRn2iMj",
    "outputId": "a9b3c82f-0a19-4034-ff91-04004299e78d"
   },
   "outputs": [],
   "source": [
    "import ee\n",
    "import geemap\n",
    "\n",
    "if IN_COLAB:\n",
    "    import geemap.eefolium as emap\n",
    "    Map = emap.Map()\n",
    "else:\n",
    "    Map = geemap.Map()\n",
    "    \n",
    "ee.Initialize()\n",
    "\n",
    "geometry = ee.Geometry.Point([107.61303468448624, 12.130969369851766])\n",
    "Map.centerObject(geometry, 12)\n",
    "s2 = ee.ImageCollection(\"COPERNICUS/S2\")\n",
    "rgbVis = {\n",
    "  'min': 0.0,\n",
    "  'max': 3000,\n",
    "  'bands': ['B4', 'B3', 'B2'],\n",
    "}\n",
    "\n",
    "# Write a function for Cloud masking\n",
    "def maskS2clouds(image):\n",
    "  qa = image.select('QA60')\n",
    "  cloudBitMask = 1 << 10\n",
    "  cirrusBitMask = 1 << 11\n",
    "  mask = qa.bitwiseAnd(cloudBitMask).eq(0).And(\n",
    "             qa.bitwiseAnd(cirrusBitMask).eq(0))\n",
    "  return image.updateMask(mask) \\\n",
    "      .select(\"B.*\") \\\n",
    "      .copyProperties(image, [\"system:time_start\"])\n",
    "\n",
    "filtered = s2 \\\n",
    "  .filter(ee.Filter.date('2019-01-01', '2019-12-31')) \\\n",
    "  .filter(ee.Filter.intersects('.geo', geometry)) \\\n",
    "  .map(maskS2clouds)\n",
    "\n",
    "# Write a function that computes NDVI for an image and adds it as a band\n",
    "def addNDVI(image):\n",
    "  ndvi = image.normalizedDifference(['B5', 'B4']).rename('ndvi')\n",
    "  return image.addBands(ndvi)\n",
    "\n",
    "withNdvi = filtered.map(addNDVI)\n",
    "\n",
    "composite = withNdvi.median()\n",
    "palette = [\n",
    "  'FFFFFF', 'CE7E45', 'DF923D', 'F1B555', 'FCD163', '99B718',\n",
    "  '74A901', '66A000', '529400', '3E8601', '207401', '056201',\n",
    "  '004C00', '023B01', '012E01', '011D01', '011301'];\n",
    "\n",
    "ndviVis = {'min':0, 'max':0.5, 'palette': palette }\n",
    "Map.addLayer(composite.select('ndvi'), ndviVis, 'Layer')\n",
    "Map"
   ]
  }
 ],
 "metadata": {
  "colab": {
   "name": "01_syntax.ipynb",
   "provenance": []
  },
  "kernelspec": {
   "display_name": "Python 3",
   "language": "python",
   "name": "python3"
  },
  "language_info": {
   "codemirror_mode": {
    "name": "ipython",
    "version": 3
   },
   "file_extension": ".py",
   "mimetype": "text/x-python",
   "name": "python",
   "nbconvert_exporter": "python",
   "pygments_lexer": "ipython3",
   "version": "3.8.3"
  }
 },
 "nbformat": 4,
 "nbformat_minor": 4
}
