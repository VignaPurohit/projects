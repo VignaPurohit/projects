{
 "cells": [
  {
   "cell_type": "markdown",
   "id": "467e040e-f19e-41cc-a21c-6bd87cf5c0b4",
   "metadata": {},
   "source": [
    "## First Non-Repeating Character\n",
    "\n",
    "Extract the first non-repeating character from a string.\n",
    "\n",
    "'aaabbbcdeee' -> 'c'\n",
    "'xxxyssxxyyz' -> 'z'"
   ]
  },
  {
   "cell_type": "code",
   "execution_count": 31,
   "id": "64600185-f527-4d27-9eb8-c11046329793",
   "metadata": {},
   "outputs": [],
   "source": [
    "test = {'aaabbbcdeee': 'c', 'xxxyssxxyyz': 'y', 'tddgbs': 't', 'abc': 'a'}"
   ]
  },
  {
   "cell_type": "markdown",
   "id": "ee4e15e1-e338-463b-aa27-7cda112eed54",
   "metadata": {},
   "source": [
    "## Comparing Each Character with Previous One"
   ]
  },
  {
   "cell_type": "code",
   "execution_count": 41,
   "id": "da6a8258-f9c6-4965-b50f-2441f6947bdc",
   "metadata": {},
   "outputs": [],
   "source": [
    "def find_non_repeating(input):\n",
    "    found_repeating = False\n",
    "    last_character = input[0]\n",
    "    for x in input[1:]:\n",
    "        if not found_repeating and x != last_character:\n",
    "            return last_character\n",
    "            break\n",
    "        if x == last_character:\n",
    "            found_repeating = True\n",
    "        else:\n",
    "            found_repeating = False\n",
    "        last_character = x"
   ]
  },
  {
   "cell_type": "code",
   "execution_count": 42,
   "id": "4b2648d0-2b3b-4e99-81ef-32ff7bb731f2",
   "metadata": {},
   "outputs": [
    {
     "name": "stdout",
     "output_type": "stream",
     "text": [
      "c c\n",
      "y y\n",
      "t t\n",
      "a a\n"
     ]
    }
   ],
   "source": [
    "for k, v in test.items():\n",
    "    print(find_non_repeating(k), v)"
   ]
  },
  {
   "cell_type": "markdown",
   "id": "4c78652e-f63f-4231-83d8-2f3d4e3c9e84",
   "metadata": {},
   "source": [
    "## Using a Dictionary"
   ]
  },
  {
   "cell_type": "markdown",
   "id": "d4b5c267-30c1-49cb-9b7c-46138995314b",
   "metadata": {},
   "source": [
    "Python dictionaries are sorted as of 3.7 and using defaultdict ensures we can increment the character count without initializing it"
   ]
  },
  {
   "cell_type": "code",
   "execution_count": 48,
   "id": "50ee6986-9240-42a3-9f18-f54486954b83",
   "metadata": {},
   "outputs": [
    {
     "name": "stdout",
     "output_type": "stream",
     "text": [
      "c c\n",
      "z y\n",
      "t t\n",
      "a a\n"
     ]
    }
   ],
   "source": [
    "from collections import defaultdict\n",
    "  \n",
    "def find_non_repeating(input):\n",
    "    c = defaultdict(int)\n",
    "    for x in input:\n",
    "        c[x] += 1\n",
    "    for k, v in c.items():\n",
    "        if v == 1:\n",
    "            return(k)\n",
    "            break\n",
    "    \n",
    "for k, v in test.items():\n",
    "    print(find_non_repeating(k), v)\n",
    "    "
   ]
  }
 ],
 "metadata": {
  "kernelspec": {
   "display_name": "Python 3",
   "language": "python",
   "name": "python3"
  },
  "language_info": {
   "codemirror_mode": {
    "name": "ipython",
    "version": 3
   },
   "file_extension": ".py",
   "mimetype": "text/x-python",
   "name": "python",
   "nbconvert_exporter": "python",
   "pygments_lexer": "ipython3",
   "version": "3.9.4"
  }
 },
 "nbformat": 4,
 "nbformat_minor": 5
}
