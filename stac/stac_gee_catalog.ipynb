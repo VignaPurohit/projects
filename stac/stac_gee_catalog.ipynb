{
 "cells": [
  {
   "cell_type": "markdown",
   "id": "38db78ed-bd76-4386-b4e6-be5acffe7395",
   "metadata": {},
   "source": [
    "##  GEE STAC Catalog\n",
    "\n",
    "Use `pystac_client` package to query a STAC catalog. You can install via `conda install -c pystac-client`."
   ]
  },
  {
   "cell_type": "code",
   "execution_count": 2,
   "id": "f33f7763-1cfa-450e-9fd0-b7af7a1a8880",
   "metadata": {},
   "outputs": [],
   "source": [
    "from pystac_client import Client\n",
    "import pandas as pd"
   ]
  },
  {
   "cell_type": "markdown",
   "id": "c4ef8560-5aa7-4dfc-addb-9d182a673049",
   "metadata": {},
   "source": [
    "Create a STAC Catalog object and get all collections."
   ]
  },
  {
   "cell_type": "code",
   "execution_count": 3,
   "id": "0bb8a8d4-654f-430b-b1a6-bb7abe80160c",
   "metadata": {},
   "outputs": [],
   "source": [
    "catalog = Client.open('https://earthengine-stac.storage.googleapis.com/catalog/catalog.json')\n",
    "collections = catalog.get_all_collections()"
   ]
  },
  {
   "cell_type": "markdown",
   "id": "4c9f4c00-b199-49ff-aaea-91159fce5134",
   "metadata": {},
   "source": [
    "The `collections` is a generator. Convert it to a list of [STAC Collection](https://pystac.readthedocs.io/en/stable/api/collection.html) objects.  *This can take some time to complete*"
   ]
  },
  {
   "cell_type": "code",
   "execution_count": null,
   "id": "99a984a6-2147-417d-80ed-3d139a040590",
   "metadata": {},
   "outputs": [],
   "source": [
    "items = list(collections)"
   ]
  },
  {
   "cell_type": "markdown",
   "id": "8f6ab5f7-eb49-472b-8674-bf620f2068f8",
   "metadata": {},
   "source": [
    "Extract the relevant info into a list of dictionaries."
   ]
  },
  {
   "cell_type": "code",
   "execution_count": null,
   "id": "b7bc0937-5c1c-4b6d-9ad2-d2fa0081c88c",
   "metadata": {},
   "outputs": [],
   "source": [
    "datasets = []\n",
    "for item in items:\n",
    "    datasets.append({\n",
    "        'id': item.id,\n",
    "        'title': item.title,\n",
    "        'description':item.description\n",
    "    })"
   ]
  },
  {
   "cell_type": "markdown",
   "id": "6811b0c1-d899-4b25-9eb0-a806d6b4a69e",
   "metadata": {},
   "source": [
    "Remove all deprecated collections."
   ]
  },
  {
   "cell_type": "code",
   "execution_count": null,
   "id": "d9263e81-3ba5-46a9-afe3-6eecd496b349",
   "metadata": {},
   "outputs": [],
   "source": [
    "datasets = [d for d in datasets if 'deprecated' in d['title']]"
   ]
  },
  {
   "cell_type": "markdown",
   "id": "004dc0d6-b898-4503-a1f6-3377201af7a5",
   "metadata": {},
   "source": [
    "Create a Pandas DataFrame."
   ]
  },
  {
   "cell_type": "code",
   "execution_count": null,
   "id": "d0c345ab-a834-438f-94a9-9a4cb896cda5",
   "metadata": {},
   "outputs": [],
   "source": [
    "df = pd.DataFrame(datasets)\n",
    "df"
   ]
  },
  {
   "cell_type": "markdown",
   "id": "16c5024c-d3fb-4140-ae6f-eaab1382dba1",
   "metadata": {},
   "source": [
    "Save to Excel."
   ]
  },
  {
   "cell_type": "code",
   "execution_count": null,
   "id": "3a010b13-cdf7-452f-861d-61d38372ca3f",
   "metadata": {},
   "outputs": [],
   "source": [
    "df.to_excel('ee_datasets.xlsx', index=False)"
   ]
  },
  {
   "cell_type": "code",
   "execution_count": null,
   "id": "abb87641-26ab-4a0a-b011-9742e0690d1d",
   "metadata": {},
   "outputs": [],
   "source": []
  }
 ],
 "metadata": {
  "kernelspec": {
   "display_name": "Python 3 (ipykernel)",
   "language": "python",
   "name": "python3"
  },
  "language_info": {
   "codemirror_mode": {
    "name": "ipython",
    "version": 3
   },
   "file_extension": ".py",
   "mimetype": "text/x-python",
   "name": "python",
   "nbconvert_exporter": "python",
   "pygments_lexer": "ipython3",
   "version": "3.10.5"
  }
 },
 "nbformat": 4,
 "nbformat_minor": 5
}
