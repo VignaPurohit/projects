{
 "cells": [
  {
   "cell_type": "markdown",
   "id": "38db78ed-bd76-4386-b4e6-be5acffe7395",
   "metadata": {},
   "source": [
    "##  GEE STAC Catalog\n",
    "\n",
    "Use `pystac_client` package to query a STAC catalog."
   ]
  },
  {
   "cell_type": "code",
   "execution_count": 20,
   "id": "f6fe594f-d119-452d-833a-97d5156e3aab",
   "metadata": {},
   "outputs": [],
   "source": [
    "try:\n",
    "    import pystac_client\n",
    "except ModuleNotFoundError:\n",
    "    if 'google.colab' in str(get_ipython()):\n",
    "        !apt install pystac_client -qqt\n",
    "    else:\n",
    "        print('pystac_client not found, please install via conda in your environment')"
   ]
  },
  {
   "cell_type": "code",
   "execution_count": 21,
   "id": "f33f7763-1cfa-450e-9fd0-b7af7a1a8880",
   "metadata": {},
   "outputs": [],
   "source": [
    "from pystac_client import Client\n",
    "import pandas as pd"
   ]
  },
  {
   "cell_type": "markdown",
   "id": "40d3d654-6c64-4b48-9fd1-96c9d02e642e",
   "metadata": {},
   "source": [
    "## Catalog\n",
    "\n",
    "A STAC CAtalog is a top-level object. Create a STAC Catalog object"
   ]
  },
  {
   "cell_type": "code",
   "execution_count": 23,
   "id": "0bb8a8d4-654f-430b-b1a6-bb7abe80160c",
   "metadata": {},
   "outputs": [],
   "source": [
    "catalog = Client.open('https://earthengine-stac.storage.googleapis.com/catalog/catalog.json')"
   ]
  },
  {
   "cell_type": "markdown",
   "id": "299e40cf-d133-422e-9e88-d16870eb5184",
   "metadata": {},
   "source": [
    "Check the catalog properties."
   ]
  },
  {
   "cell_type": "code",
   "execution_count": 13,
   "id": "2525884f-cf20-442c-9e50-6e5a45d220f6",
   "metadata": {},
   "outputs": [
    {
     "data": {
      "text/plain": [
       "'The [Earth Engine](https://earthengine.google.com/) Public Data Catalog.\\n\\nSee also:\\n\\n- [HTML version of the catalog](https://developers.google.com/earth-engine/datasets/catalog)\\n- [STAC Browser version](https://radiantearth.github.io/stac-browser/#/external/storage.googleapis.com/earthengine-stac/catalog/catalog.json)\\n'"
      ]
     },
     "execution_count": 13,
     "metadata": {},
     "output_type": "execute_result"
    }
   ],
   "source": [
    "catalog.description"
   ]
  },
  {
   "cell_type": "code",
   "execution_count": 14,
   "id": "b4b5a1d9-34dd-4ad0-b480-0918f1aea7c4",
   "metadata": {},
   "outputs": [
    {
     "data": {
      "text/plain": [
       "<CatalogType.ABSOLUTE_PUBLISHED: 'ABSOLUTE_PUBLISHED'>"
      ]
     },
     "execution_count": 14,
     "metadata": {},
     "output_type": "execute_result"
    }
   ],
   "source": [
    "catalog.catalog_type"
   ]
  },
  {
   "cell_type": "markdown",
   "id": "9b2a74b9-e9cc-40ff-a8a4-ec1aa371dfa1",
   "metadata": {},
   "source": [
    "## Collections"
   ]
  },
  {
   "cell_type": "markdown",
   "id": "fdd9838d-151e-4c65-bd97-bcf540d9d7ee",
   "metadata": {},
   "source": [
    "A catalog consists of one or more collections. Let's get all the collections from the catalog and iterate through them."
   ]
  },
  {
   "cell_type": "code",
   "execution_count": 33,
   "id": "7059a442-c1e0-4243-9e1a-3a889cd888b6",
   "metadata": {},
   "outputs": [],
   "source": [
    "collections = catalog.get_all_collections()"
   ]
  },
  {
   "cell_type": "markdown",
   "id": "4c9f4c00-b199-49ff-aaea-91159fce5134",
   "metadata": {},
   "source": [
    "The `collections` is a generator object. You can iterate over it and extract information fom each [STAC Collection](https://pystac.readthedocs.io/en/stable/api/collection.html) object. Since we want to extract info from all the collections, it is simpler to just create a list from it first.  *Note: This operation can take some time to complete*"
   ]
  },
  {
   "cell_type": "code",
   "execution_count": 15,
   "id": "99a984a6-2147-417d-80ed-3d139a040590",
   "metadata": {},
   "outputs": [],
   "source": [
    "items = list(collections)"
   ]
  },
  {
   "cell_type": "markdown",
   "id": "8f6ab5f7-eb49-472b-8674-bf620f2068f8",
   "metadata": {},
   "source": [
    "Extract the relevant info into a list of dictionaries."
   ]
  },
  {
   "cell_type": "code",
   "execution_count": 16,
   "id": "b7bc0937-5c1c-4b6d-9ad2-d2fa0081c88c",
   "metadata": {},
   "outputs": [],
   "source": [
    "datasets = []\n",
    "for item in items:\n",
    "    datasets.append({\n",
    "        'id': item.id,\n",
    "        'title': item.title,\n",
    "        'description':item.description\n",
    "    })"
   ]
  },
  {
   "cell_type": "markdown",
   "id": "6811b0c1-d899-4b25-9eb0-a806d6b4a69e",
   "metadata": {},
   "source": [
    "Remove all deprecated collections."
   ]
  },
  {
   "cell_type": "code",
   "execution_count": 17,
   "id": "d9263e81-3ba5-46a9-afe3-6eecd496b349",
   "metadata": {},
   "outputs": [],
   "source": [
    "datasets = [d for d in datasets if 'deprecated' not in d['title']]"
   ]
  },
  {
   "cell_type": "markdown",
   "id": "004dc0d6-b898-4503-a1f6-3377201af7a5",
   "metadata": {},
   "source": [
    "Create a Pandas DataFrame."
   ]
  },
  {
   "cell_type": "code",
   "execution_count": 18,
   "id": "d0c345ab-a834-438f-94a9-9a4cb896cda5",
   "metadata": {},
   "outputs": [
    {
     "data": {
      "text/html": [
       "<div>\n",
       "<style scoped>\n",
       "    .dataframe tbody tr th:only-of-type {\n",
       "        vertical-align: middle;\n",
       "    }\n",
       "\n",
       "    .dataframe tbody tr th {\n",
       "        vertical-align: top;\n",
       "    }\n",
       "\n",
       "    .dataframe thead th {\n",
       "        text-align: right;\n",
       "    }\n",
       "</style>\n",
       "<table border=\"1\" class=\"dataframe\">\n",
       "  <thead>\n",
       "    <tr style=\"text-align: right;\">\n",
       "      <th></th>\n",
       "      <th>id</th>\n",
       "      <th>title</th>\n",
       "      <th>description</th>\n",
       "    </tr>\n",
       "  </thead>\n",
       "  <tbody>\n",
       "    <tr>\n",
       "      <th>0</th>\n",
       "      <td>AAFC/ACI</td>\n",
       "      <td>Canada AAFC Annual Crop Inventory</td>\n",
       "      <td>Starting in 2009, the Earth Observation Team o...</td>\n",
       "    </tr>\n",
       "    <tr>\n",
       "      <th>1</th>\n",
       "      <td>ACA/reef_habitat/v1_0</td>\n",
       "      <td>Allen Coral Atlas (ACA) - Geomorphic Zonation ...</td>\n",
       "      <td>The [Allen Coral Atlas](https://allencoralatla...</td>\n",
       "    </tr>\n",
       "    <tr>\n",
       "      <th>2</th>\n",
       "      <td>AHN/AHN2_05M_INT</td>\n",
       "      <td>AHN Netherlands 0.5m DEM, Interpolated</td>\n",
       "      <td>The AHN DEM is a 0.5m DEM covering the Netherl...</td>\n",
       "    </tr>\n",
       "    <tr>\n",
       "      <th>3</th>\n",
       "      <td>AHN/AHN2_05M_NON</td>\n",
       "      <td>AHN Netherlands 0.5m DEM, Non-Interpolated</td>\n",
       "      <td>The AHN DEM is a 0.5m DEM covering the Netherl...</td>\n",
       "    </tr>\n",
       "    <tr>\n",
       "      <th>4</th>\n",
       "      <td>AHN/AHN2_05M_RUW</td>\n",
       "      <td>AHN Netherlands 0.5m DEM, Raw Samples</td>\n",
       "      <td>The AHN DEM is a 0.5m DEM covering the Netherl...</td>\n",
       "    </tr>\n",
       "    <tr>\n",
       "      <th>...</th>\n",
       "      <td>...</td>\n",
       "      <td>...</td>\n",
       "      <td>...</td>\n",
       "    </tr>\n",
       "    <tr>\n",
       "      <th>580</th>\n",
       "      <td>YALE/YCEO/UHI/UHI_yearly_pixel/v4</td>\n",
       "      <td>YCEO Surface Urban Heat Islands: Pixel-Level A...</td>\n",
       "      <td>This dataset contains annual, summertime, and ...</td>\n",
       "    </tr>\n",
       "    <tr>\n",
       "      <th>581</th>\n",
       "      <td>YALE/YCEO/UHI/Winter_UHI_yearly_pixel/v4</td>\n",
       "      <td>YCEO Surface Urban Heat Islands: Pixel-Level Y...</td>\n",
       "      <td>This dataset contains annual, summertime, and ...</td>\n",
       "    </tr>\n",
       "    <tr>\n",
       "      <th>582</th>\n",
       "      <td>projects/planet-nicfi/assets/basemaps/africa</td>\n",
       "      <td>Planet &amp; NICFI Basemaps for Tropical Forest Mo...</td>\n",
       "      <td>This image collection provides access to high-...</td>\n",
       "    </tr>\n",
       "    <tr>\n",
       "      <th>583</th>\n",
       "      <td>projects/planet-nicfi/assets/basemaps/americas</td>\n",
       "      <td>Planet &amp; NICFI Basemaps for Tropical Forest Mo...</td>\n",
       "      <td>This image collection provides access to high-...</td>\n",
       "    </tr>\n",
       "    <tr>\n",
       "      <th>584</th>\n",
       "      <td>projects/planet-nicfi/assets/basemaps/asia</td>\n",
       "      <td>Planet &amp; NICFI Basemaps for Tropical Forest Mo...</td>\n",
       "      <td>This image collection provides access to high-...</td>\n",
       "    </tr>\n",
       "  </tbody>\n",
       "</table>\n",
       "<p>585 rows × 3 columns</p>\n",
       "</div>"
      ],
      "text/plain": [
       "                                                 id  \\\n",
       "0                                          AAFC/ACI   \n",
       "1                             ACA/reef_habitat/v1_0   \n",
       "2                                  AHN/AHN2_05M_INT   \n",
       "3                                  AHN/AHN2_05M_NON   \n",
       "4                                  AHN/AHN2_05M_RUW   \n",
       "..                                              ...   \n",
       "580               YALE/YCEO/UHI/UHI_yearly_pixel/v4   \n",
       "581        YALE/YCEO/UHI/Winter_UHI_yearly_pixel/v4   \n",
       "582    projects/planet-nicfi/assets/basemaps/africa   \n",
       "583  projects/planet-nicfi/assets/basemaps/americas   \n",
       "584      projects/planet-nicfi/assets/basemaps/asia   \n",
       "\n",
       "                                                 title  \\\n",
       "0                    Canada AAFC Annual Crop Inventory   \n",
       "1    Allen Coral Atlas (ACA) - Geomorphic Zonation ...   \n",
       "2               AHN Netherlands 0.5m DEM, Interpolated   \n",
       "3           AHN Netherlands 0.5m DEM, Non-Interpolated   \n",
       "4                AHN Netherlands 0.5m DEM, Raw Samples   \n",
       "..                                                 ...   \n",
       "580  YCEO Surface Urban Heat Islands: Pixel-Level A...   \n",
       "581  YCEO Surface Urban Heat Islands: Pixel-Level Y...   \n",
       "582  Planet & NICFI Basemaps for Tropical Forest Mo...   \n",
       "583  Planet & NICFI Basemaps for Tropical Forest Mo...   \n",
       "584  Planet & NICFI Basemaps for Tropical Forest Mo...   \n",
       "\n",
       "                                           description  \n",
       "0    Starting in 2009, the Earth Observation Team o...  \n",
       "1    The [Allen Coral Atlas](https://allencoralatla...  \n",
       "2    The AHN DEM is a 0.5m DEM covering the Netherl...  \n",
       "3    The AHN DEM is a 0.5m DEM covering the Netherl...  \n",
       "4    The AHN DEM is a 0.5m DEM covering the Netherl...  \n",
       "..                                                 ...  \n",
       "580  This dataset contains annual, summertime, and ...  \n",
       "581  This dataset contains annual, summertime, and ...  \n",
       "582  This image collection provides access to high-...  \n",
       "583  This image collection provides access to high-...  \n",
       "584  This image collection provides access to high-...  \n",
       "\n",
       "[585 rows x 3 columns]"
      ]
     },
     "execution_count": 18,
     "metadata": {},
     "output_type": "execute_result"
    }
   ],
   "source": [
    "df = pd.DataFrame(datasets)\n",
    "df"
   ]
  },
  {
   "cell_type": "markdown",
   "id": "16c5024c-d3fb-4140-ae6f-eaab1382dba1",
   "metadata": {},
   "source": [
    "Save to Excel."
   ]
  },
  {
   "cell_type": "code",
   "execution_count": 19,
   "id": "3a010b13-cdf7-452f-861d-61d38372ca3f",
   "metadata": {},
   "outputs": [],
   "source": [
    "df.to_excel('ee_datasets.xlsx', index=False)"
   ]
  }
 ],
 "metadata": {
  "kernelspec": {
   "display_name": "Python 3 (ipykernel)",
   "language": "python",
   "name": "python3"
  },
  "language_info": {
   "codemirror_mode": {
    "name": "ipython",
    "version": 3
   },
   "file_extension": ".py",
   "mimetype": "text/x-python",
   "name": "python",
   "nbconvert_exporter": "python",
   "pygments_lexer": "ipython3",
   "version": "3.10.5"
  }
 },
 "nbformat": 4,
 "nbformat_minor": 5
}
