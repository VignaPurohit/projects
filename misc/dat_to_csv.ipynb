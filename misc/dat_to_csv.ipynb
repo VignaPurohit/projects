{
 "cells": [
  {
   "cell_type": "markdown",
   "id": "analyzed-medicaid",
   "metadata": {},
   "source": [
    "We have an ASCII file defining every building ground plan as a polygon by listing its vertices. Hence the entry for a given building is the building number followed by the number of vertices of its boundary and the rooftop elevation (assumed flat), followed by a list of the (X,Y) coordinates of each one of the vertices of its boundary. As an example the entry for building number 186 is given below:\n",
    "The sequence means: Building number 186 is a polygon with 4 vertices and its rooftop elevation is 67.5 m (MSL). The (X,Y) co-ordinates of the given 4 vertices follow in the four next lines.\n",
    "\n",
    "```\n",
    "186    4      67.5\n",
    "\n",
    "       2100.75      3819.50   \n",
    "\n",
    "       2105.56      3820.50   \n",
    "\n",
    "       2100.50      3816.00   \n",
    "\n",
    "       2097.00      3819.50   \n",
    "....\n",
    "```"
   ]
  },
  {
   "cell_type": "code",
   "execution_count": 43,
   "id": "spiritual-party",
   "metadata": {},
   "outputs": [],
   "source": [
    "input = 'Buildings.dat'\n",
    "output = 'Buildings.csv'"
   ]
  },
  {
   "cell_type": "code",
   "execution_count": 41,
   "id": "familiar-publication",
   "metadata": {},
   "outputs": [],
   "source": [
    "data = []\n",
    "with open(input, 'r') as f:\n",
    "    for line in f:\n",
    "        # Get number of verticies from the first line\n",
    "        fid, numvertices, elev = line.split()\n",
    "        coordinates = []\n",
    "        # Skip ahead number of lines equal to number of vertices and save the coordinates\n",
    "        for x in range(int(numvertices)):\n",
    "            x, y = f.readline().split()\n",
    "            coordinates.append(('{} {}'.format(x,y)))\n",
    "        # Discard first coordinate which is the centroid\n",
    "        wkt = 'POLYGON (({}))'.format(','.join(coordinates[1:]))\n",
    "        data.append({'fid': int(fid), 'elev': float(elev), 'wkt': wkt})"
   ]
  },
  {
   "cell_type": "code",
   "execution_count": 42,
   "id": "pointed-stations",
   "metadata": {},
   "outputs": [],
   "source": [
    "import csv\n",
    "\n",
    "with open(output, 'w') as csvfile:\n",
    "    fieldnames = ['fid', 'elev', 'wkt']\n",
    "    writer = csv.DictWriter(csvfile, fieldnames=fieldnames)\n",
    "    writer.writeheader()\n",
    "    for row in data:\n",
    "        writer.writerow(row)\n"
   ]
  }
 ],
 "metadata": {
  "kernelspec": {
   "display_name": "Python 3",
   "language": "python",
   "name": "python3"
  },
  "language_info": {
   "codemirror_mode": {
    "name": "ipython",
    "version": 3
   },
   "file_extension": ".py",
   "mimetype": "text/x-python",
   "name": "python",
   "nbconvert_exporter": "python",
   "pygments_lexer": "ipython3",
   "version": "3.9.1"
  }
 },
 "nbformat": 4,
 "nbformat_minor": 5
}
