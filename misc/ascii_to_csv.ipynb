{
 "cells": [
  {
   "cell_type": "markdown",
   "id": "charged-milan",
   "metadata": {},
   "source": [
    "# Converting Tab Delimited ASCII file to a Vector Layer\n",
    "\n",
    "We have an ASCII Tab-Delimited text in the following format\n",
    "```\n",
    "(cross section index) (no. of points along transect)\n",
    "x-coordinates of transect points\n",
    "y-coordinates of transect points\n",
    "pre-flood elevation z94 of transect points\n",
    "post-flood elevation z96 of transect points\n",
    "reconstructed bedrock elevation at transect points\n",
    "```\n",
    "CRS: MTM (Modified Transverse Mercator projection) zone 7 coordinates (NAD83)\n",
    "\n",
    "We can creat a CSV with the polygon geometry stored as text in WKT format. QGIS can read this format easily and display the data."
   ]
  },
  {
   "cell_type": "code",
   "execution_count": 19,
   "id": "noted-processor",
   "metadata": {},
   "outputs": [],
   "source": [
    "input = 'crossSections.txt'\n",
    "output = 'crossSections.csv'"
   ]
  },
  {
   "cell_type": "code",
   "execution_count": null,
   "id": "unauthorized-weight",
   "metadata": {},
   "outputs": [],
   "source": [
    "data = []\n",
    "with open(input, 'r') as f:\n",
    "    # skip first line\n",
    "    f.readline()\n",
    "    for line in f:\n",
    "        # Get number of verticies from the first line\n",
    "        fid, numvertices = line.split()\n",
    "        x_coordinates = f.readline().split()\n",
    "        y_coordinates = f.readline().split()\n",
    "        z94_elevation = f.readline().split()\n",
    "        z96_elevation = f.readline().split()\n",
    "        bedrock_elevation = f.readline().split()\n",
    "        for x, y, z94, z96, bedrock in zip(x_coordinates, y_coordinates, z94_elevation, z96_elevation, z96_elevation):\n",
    "            data.append({'x': x, 'y': y, 'transact_id': int(fid), 'z94': float(z94), 'z96': float(z96), 'bedrock': float(bedrock)})"
   ]
  },
  {
   "cell_type": "code",
   "execution_count": 21,
   "id": "unexpected-contribution",
   "metadata": {},
   "outputs": [],
   "source": [
    "import csv\n",
    "\n",
    "with open(output, 'w') as csvfile:\n",
    "    fieldnames = ['transact_id', 'z94', 'z96', 'bedrock', 'x', 'y']\n",
    "    writer = csv.DictWriter(csvfile, fieldnames=fieldnames)\n",
    "    writer.writeheader()\n",
    "    for row in data:\n",
    "        writer.writerow(row)\n"
   ]
  },
  {
   "cell_type": "markdown",
   "id": "about-volunteer",
   "metadata": {},
   "source": [
    "The resulting CSV can be imported using the *Add Delimited Text* tab in the QGIS Data Source Manager\n",
    "\n",
    "![](import.png)"
   ]
  },
  {
   "cell_type": "markdown",
   "id": "partial-secretariat",
   "metadata": {},
   "source": [
    "The point layers loads in QGIS with the correct CRS specified.\n",
    "\n",
    "![](result.png)"
   ]
  },
  {
   "cell_type": "code",
   "execution_count": null,
   "id": "classical-watts",
   "metadata": {},
   "outputs": [],
   "source": []
  }
 ],
 "metadata": {
  "kernelspec": {
   "display_name": "Python 3",
   "language": "python",
   "name": "python3"
  },
  "language_info": {
   "codemirror_mode": {
    "name": "ipython",
    "version": 3
   },
   "file_extension": ".py",
   "mimetype": "text/x-python",
   "name": "python",
   "nbconvert_exporter": "python",
   "pygments_lexer": "ipython3",
   "version": "3.9.1"
  }
 },
 "nbformat": 4,
 "nbformat_minor": 5
}
