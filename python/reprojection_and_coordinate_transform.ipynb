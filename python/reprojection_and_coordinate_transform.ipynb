{
 "cells": [
  {
   "cell_type": "markdown",
   "id": "eef82899-4489-4d88-88ac-9db52772fe49",
   "metadata": {},
   "source": [
    "# Reproject and Coordinate Transformation\n",
    "\n",
    "Because of a change introduced in GDAL version >3.0, a CRS created from EPSG:4326 now expects coordinates in Y, X order instead of X, Y. The reason for this change is explained at [CRS and axis order\n",
    "](https://gdal.org/tutorials/osr_api_tut.html#crs-and-axis-order).\n",
    "\n",
    "The following code worked fine before, but now it fails with an error. In some cases, you will get results, but it will compute the re-projected coordinates with swapped X and Y coordinates"
   ]
  },
  {
   "cell_type": "code",
   "execution_count": 2,
   "id": "d72e2bcc-6772-46bd-8824-a2ab7eb008b2",
   "metadata": {},
   "outputs": [
    {
     "name": "stdout",
     "output_type": "stream",
     "text": [
      "POINT (inf inf)\n"
     ]
    },
    {
     "name": "stderr",
     "output_type": "stream",
     "text": [
      "ERROR 1: PROJ: utm: Invalid latitude\n",
      "ERROR 1: Invalid coordinate\n"
     ]
    }
   ],
   "source": [
    "from osgeo import osr,ogr\n",
    "\n",
    "\n",
    "wkt = 'POINT (121.787 -26.012)'\n",
    "\n",
    "source = osr.SpatialReference()\n",
    "source.ImportFromEPSG(4326)\n",
    "\n",
    "target = osr.SpatialReference()\n",
    "target.ImportFromEPSG(32750)\n",
    "\n",
    "transform = osr.CoordinateTransformation(source, target)\n",
    "point = ogr.CreateGeometryFromWkt(wkt)\n",
    "point.Transform(transform)\n",
    "\n",
    "print(point)"
   ]
  },
  {
   "cell_type": "markdown",
   "id": "744d9c4c-bc1e-44cc-9939-bdc6eb695fe9",
   "metadata": {},
   "source": [
    "To fix this, You need to explicitly set `SetAxisMappingStrategy(osr.OAMS_TRADITIONAL_GIS_ORDER)` on CRS created using EPSG:4326"
   ]
  },
  {
   "cell_type": "code",
   "execution_count": 9,
   "id": "f4df82d6-faa9-427e-b983-2d11c1a428b5",
   "metadata": {},
   "outputs": [
    {
     "name": "stdout",
     "output_type": "stream",
     "text": [
      "POINT (979368.581534574 7114191.38128267)\n"
     ]
    }
   ],
   "source": [
    "from osgeo import osr,ogr\n",
    "\n",
    "wkt = 'POINT (121.787 -26.012)'\n",
    "\n",
    "source = osr.SpatialReference()\n",
    "source.ImportFromEPSG(4326)\n",
    "source.SetAxisMappingStrategy(osr.OAMS_TRADITIONAL_GIS_ORDER)\n",
    "\n",
    "target = osr.SpatialReference()\n",
    "target.ImportFromEPSG(32750)\n",
    "\n",
    "transform = osr.CoordinateTransformation(source, target)\n",
    "point = ogr.CreateGeometryFromWkt(wkt)\n",
    "point.Transform(transform)\n",
    "\n",
    "print(point)"
   ]
  },
  {
   "cell_type": "markdown",
   "id": "141ed0fc-36f3-4391-84b6-3e6e3a7c4551",
   "metadata": {},
   "source": [
    "Higher level libraries like GeoPandas handle this under-the-hood and users do not have to worry about it."
   ]
  },
  {
   "cell_type": "code",
   "execution_count": 7,
   "id": "0b466108-26b9-4373-8624-677880b495a9",
   "metadata": {},
   "outputs": [
    {
     "data": {
      "text/html": [
       "<div>\n",
       "<style scoped>\n",
       "    .dataframe tbody tr th:only-of-type {\n",
       "        vertical-align: middle;\n",
       "    }\n",
       "\n",
       "    .dataframe tbody tr th {\n",
       "        vertical-align: top;\n",
       "    }\n",
       "\n",
       "    .dataframe thead th {\n",
       "        text-align: right;\n",
       "    }\n",
       "</style>\n",
       "<table border=\"1\" class=\"dataframe\">\n",
       "  <thead>\n",
       "    <tr style=\"text-align: right;\">\n",
       "      <th></th>\n",
       "      <th>id</th>\n",
       "      <th>geometry</th>\n",
       "    </tr>\n",
       "  </thead>\n",
       "  <tbody>\n",
       "    <tr>\n",
       "      <th>0</th>\n",
       "      <td>1</td>\n",
       "      <td>POINT (121.78700 -26.01200)</td>\n",
       "    </tr>\n",
       "  </tbody>\n",
       "</table>\n",
       "</div>"
      ],
      "text/plain": [
       "   id                     geometry\n",
       "0   1  POINT (121.78700 -26.01200)"
      ]
     },
     "execution_count": 7,
     "metadata": {},
     "output_type": "execute_result"
    }
   ],
   "source": [
    "import geopandas\n",
    "from shapely import wkt\n",
    "point = wkt.loads('POINT (121.787 -26.012)')\n",
    "data = {'id': [1], 'geometry': [point]}\n",
    "gdf = geopandas.GeoDataFrame(data, crs='EPSG:4326')\n",
    "gdf"
   ]
  },
  {
   "cell_type": "code",
   "execution_count": 8,
   "id": "f4352e3d-e964-4a4b-99dd-8423e41ed3f7",
   "metadata": {},
   "outputs": [
    {
     "data": {
      "text/html": [
       "<div>\n",
       "<style scoped>\n",
       "    .dataframe tbody tr th:only-of-type {\n",
       "        vertical-align: middle;\n",
       "    }\n",
       "\n",
       "    .dataframe tbody tr th {\n",
       "        vertical-align: top;\n",
       "    }\n",
       "\n",
       "    .dataframe thead th {\n",
       "        text-align: right;\n",
       "    }\n",
       "</style>\n",
       "<table border=\"1\" class=\"dataframe\">\n",
       "  <thead>\n",
       "    <tr style=\"text-align: right;\">\n",
       "      <th></th>\n",
       "      <th>id</th>\n",
       "      <th>geometry</th>\n",
       "    </tr>\n",
       "  </thead>\n",
       "  <tbody>\n",
       "    <tr>\n",
       "      <th>0</th>\n",
       "      <td>1</td>\n",
       "      <td>POINT (979368.582 7114191.381)</td>\n",
       "    </tr>\n",
       "  </tbody>\n",
       "</table>\n",
       "</div>"
      ],
      "text/plain": [
       "   id                        geometry\n",
       "0   1  POINT (979368.582 7114191.381)"
      ]
     },
     "execution_count": 8,
     "metadata": {},
     "output_type": "execute_result"
    }
   ],
   "source": [
    "gdf.to_crs(32750)"
   ]
  }
 ],
 "metadata": {
  "kernelspec": {
   "display_name": "Python 3 (ipykernel)",
   "language": "python",
   "name": "python3"
  },
  "language_info": {
   "codemirror_mode": {
    "name": "ipython",
    "version": 3
   },
   "file_extension": ".py",
   "mimetype": "text/x-python",
   "name": "python",
   "nbconvert_exporter": "python",
   "pygments_lexer": "ipython3",
   "version": "3.9.6"
  }
 },
 "nbformat": 4,
 "nbformat_minor": 5
}
