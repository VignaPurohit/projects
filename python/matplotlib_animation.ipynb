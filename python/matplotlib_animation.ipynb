{
 "cells": [
  {
   "cell_type": "markdown",
   "id": "2533ac08-4579-4f44-b4e9-04cdf6b2ec0d",
   "metadata": {},
   "source": [
    "# Animations with Matplotlib\n",
    "\n",
    "This notebook shows how to use the `FuncAnimation` function from the `matplotlib.animation` module to create animated plots. "
   ]
  },
  {
   "cell_type": "markdown",
   "id": "a25dfb9e-c13a-4368-b78e-99b21e8719d5",
   "metadata": {},
   "source": [
    "## Animation Basics\n",
    "\n",
    "Before we dive into more complex example. it is helpful to understand the basics of matplotlib plotting and animation."
   ]
  },
  {
   "cell_type": "markdown",
   "id": "59f6a24c-aa0b-428e-987c-b8c6a5303344",
   "metadata": {},
   "source": [
    "Let's define 3 positions and we will create an animation of a point moving between them."
   ]
  },
  {
   "cell_type": "code",
   "execution_count": 1,
   "id": "7352f24a-9346-472e-b0ff-82b5dd143f2d",
   "metadata": {},
   "outputs": [],
   "source": [
    "points = [(0.1, 0.5), (0.5, 0.5), (0.9, 0.5)]"
   ]
  },
  {
   "cell_type": "markdown",
   "id": "dc5700d6-31c8-47ee-a839-ea33dde9776b",
   "metadata": {},
   "source": [
    "Then we use the `FuncAnimation` class which makes an animation by repeatedly calling a function and saving the output as a frame in the animation."
   ]
  },
  {
   "cell_type": "code",
   "execution_count": 2,
   "id": "f525f5cb-52a4-411d-b80f-0a93f48ccb0b",
   "metadata": {},
   "outputs": [],
   "source": [
    "%matplotlib inline\n",
    "import matplotlib.pyplot as plt\n",
    "from matplotlib.animation import FuncAnimation"
   ]
  },
  {
   "cell_type": "markdown",
   "id": "ee2b1f7e-7bea-49d9-97ea-f8624c1534fa",
   "metadata": {},
   "source": [
    "We need to define a function that takes the frame number and generates a plot from it. Here we define a function `animation` that takes the frame index and creates a plot from the point at the same index in the `points` list. So at frame 0, it will display the first point, frame 1 the second point and so on."
   ]
  },
  {
   "cell_type": "code",
   "execution_count": 3,
   "id": "bccd980f-bcc8-40b7-978b-522460120499",
   "metadata": {},
   "outputs": [],
   "source": [
    "fig, ax = plt.subplots(1, 1)\n",
    "fig.set_size_inches(5,5)\n",
    "\n",
    "def animate(i):\n",
    "    ax.clear()\n",
    "    # Get the point from the points list at index i\n",
    "    point = points[i]\n",
    "    # Plot that point using the x and y coordinates\n",
    "    ax.plot(point[0], point[1], color='green', label='original', marker='o')\n",
    "    # Set the x and y axis to display the range between 0 and 1\n",
    "    # If you do not do this, the plot is always centered on the point\n",
    "    ax.set_xlim([0, 1])\n",
    "    ax.set_ylim([0, 1])\n",
    "ani = FuncAnimation(fig, animate, frames=len(points), interval=500, repeat=False)\n",
    "plt.close()"
   ]
  },
  {
   "cell_type": "markdown",
   "id": "3dbd4619-6dd3-4056-a4ed-75ae94fa6c68",
   "metadata": {},
   "source": [
    "The animation is now contained in the `ani` object. We can call `save()` and save the result as an animated GIF. We need to specify a `writer` that supports the output format."
   ]
  },
  {
   "cell_type": "code",
   "execution_count": 4,
   "id": "fe9cf429-a1cd-4615-95c5-bed9acdc3896",
   "metadata": {},
   "outputs": [],
   "source": [
    "from matplotlib.animation import PillowWriter\n",
    "# Save the animation as an animated GIF\n",
    "ani.save(\"simple_animation.gif\", dpi=300, writer=PillowWriter(fps=1))"
   ]
  },
  {
   "cell_type": "markdown",
   "id": "91491d39-2a07-4b37-8ee3-d229286efa9e",
   "metadata": {},
   "source": [
    "<img src='simple_animation.gif' width='250'/>"
   ]
  },
  {
   "cell_type": "markdown",
   "id": "728bd5c8-ddbc-46de-84ba-a05255341551",
   "metadata": {},
   "source": [
    "We can also use the `to_jshtml()` function to create an HTML representation of the animation and display in a Jupyter notebook."
   ]
  },
  {
   "cell_type": "code",
   "execution_count": 5,
   "id": "065d909b-2c7a-441f-a9f7-cdfabc6be6cc",
   "metadata": {},
   "outputs": [
    {
     "data": {
      "text/html": [
       "\n",
       "<link rel=\"stylesheet\"\n",
       "href=\"https://maxcdn.bootstrapcdn.com/font-awesome/4.4.0/css/font-awesome.min.css\">\n",
       "<script language=\"javascript\">\n",
       "  function isInternetExplorer() {\n",
       "    ua = navigator.userAgent;\n",
       "    /* MSIE used to detect old browsers and Trident used to newer ones*/\n",
       "    return ua.indexOf(\"MSIE \") > -1 || ua.indexOf(\"Trident/\") > -1;\n",
       "  }\n",
       "\n",
       "  /* Define the Animation class */\n",
       "  function Animation(frames, img_id, slider_id, interval, loop_select_id){\n",
       "    this.img_id = img_id;\n",
       "    this.slider_id = slider_id;\n",
       "    this.loop_select_id = loop_select_id;\n",
       "    this.interval = interval;\n",
       "    this.current_frame = 0;\n",
       "    this.direction = 0;\n",
       "    this.timer = null;\n",
       "    this.frames = new Array(frames.length);\n",
       "\n",
       "    for (var i=0; i<frames.length; i++)\n",
       "    {\n",
       "     this.frames[i] = new Image();\n",
       "     this.frames[i].src = frames[i];\n",
       "    }\n",
       "    var slider = document.getElementById(this.slider_id);\n",
       "    slider.max = this.frames.length - 1;\n",
       "    if (isInternetExplorer()) {\n",
       "        // switch from oninput to onchange because IE <= 11 does not conform\n",
       "        // with W3C specification. It ignores oninput and onchange behaves\n",
       "        // like oninput. In contrast, Microsoft Edge behaves correctly.\n",
       "        slider.setAttribute('onchange', slider.getAttribute('oninput'));\n",
       "        slider.setAttribute('oninput', null);\n",
       "    }\n",
       "    this.set_frame(this.current_frame);\n",
       "  }\n",
       "\n",
       "  Animation.prototype.get_loop_state = function(){\n",
       "    var button_group = document[this.loop_select_id].state;\n",
       "    for (var i = 0; i < button_group.length; i++) {\n",
       "        var button = button_group[i];\n",
       "        if (button.checked) {\n",
       "            return button.value;\n",
       "        }\n",
       "    }\n",
       "    return undefined;\n",
       "  }\n",
       "\n",
       "  Animation.prototype.set_frame = function(frame){\n",
       "    this.current_frame = frame;\n",
       "    document.getElementById(this.img_id).src =\n",
       "            this.frames[this.current_frame].src;\n",
       "    document.getElementById(this.slider_id).value = this.current_frame;\n",
       "  }\n",
       "\n",
       "  Animation.prototype.next_frame = function()\n",
       "  {\n",
       "    this.set_frame(Math.min(this.frames.length - 1, this.current_frame + 1));\n",
       "  }\n",
       "\n",
       "  Animation.prototype.previous_frame = function()\n",
       "  {\n",
       "    this.set_frame(Math.max(0, this.current_frame - 1));\n",
       "  }\n",
       "\n",
       "  Animation.prototype.first_frame = function()\n",
       "  {\n",
       "    this.set_frame(0);\n",
       "  }\n",
       "\n",
       "  Animation.prototype.last_frame = function()\n",
       "  {\n",
       "    this.set_frame(this.frames.length - 1);\n",
       "  }\n",
       "\n",
       "  Animation.prototype.slower = function()\n",
       "  {\n",
       "    this.interval /= 0.7;\n",
       "    if(this.direction > 0){this.play_animation();}\n",
       "    else if(this.direction < 0){this.reverse_animation();}\n",
       "  }\n",
       "\n",
       "  Animation.prototype.faster = function()\n",
       "  {\n",
       "    this.interval *= 0.7;\n",
       "    if(this.direction > 0){this.play_animation();}\n",
       "    else if(this.direction < 0){this.reverse_animation();}\n",
       "  }\n",
       "\n",
       "  Animation.prototype.anim_step_forward = function()\n",
       "  {\n",
       "    this.current_frame += 1;\n",
       "    if(this.current_frame < this.frames.length){\n",
       "      this.set_frame(this.current_frame);\n",
       "    }else{\n",
       "      var loop_state = this.get_loop_state();\n",
       "      if(loop_state == \"loop\"){\n",
       "        this.first_frame();\n",
       "      }else if(loop_state == \"reflect\"){\n",
       "        this.last_frame();\n",
       "        this.reverse_animation();\n",
       "      }else{\n",
       "        this.pause_animation();\n",
       "        this.last_frame();\n",
       "      }\n",
       "    }\n",
       "  }\n",
       "\n",
       "  Animation.prototype.anim_step_reverse = function()\n",
       "  {\n",
       "    this.current_frame -= 1;\n",
       "    if(this.current_frame >= 0){\n",
       "      this.set_frame(this.current_frame);\n",
       "    }else{\n",
       "      var loop_state = this.get_loop_state();\n",
       "      if(loop_state == \"loop\"){\n",
       "        this.last_frame();\n",
       "      }else if(loop_state == \"reflect\"){\n",
       "        this.first_frame();\n",
       "        this.play_animation();\n",
       "      }else{\n",
       "        this.pause_animation();\n",
       "        this.first_frame();\n",
       "      }\n",
       "    }\n",
       "  }\n",
       "\n",
       "  Animation.prototype.pause_animation = function()\n",
       "  {\n",
       "    this.direction = 0;\n",
       "    if (this.timer){\n",
       "      clearInterval(this.timer);\n",
       "      this.timer = null;\n",
       "    }\n",
       "  }\n",
       "\n",
       "  Animation.prototype.play_animation = function()\n",
       "  {\n",
       "    this.pause_animation();\n",
       "    this.direction = 1;\n",
       "    var t = this;\n",
       "    if (!this.timer) this.timer = setInterval(function() {\n",
       "        t.anim_step_forward();\n",
       "    }, this.interval);\n",
       "  }\n",
       "\n",
       "  Animation.prototype.reverse_animation = function()\n",
       "  {\n",
       "    this.pause_animation();\n",
       "    this.direction = -1;\n",
       "    var t = this;\n",
       "    if (!this.timer) this.timer = setInterval(function() {\n",
       "        t.anim_step_reverse();\n",
       "    }, this.interval);\n",
       "  }\n",
       "</script>\n",
       "\n",
       "<style>\n",
       ".animation {\n",
       "    display: inline-block;\n",
       "    text-align: center;\n",
       "}\n",
       "input[type=range].anim-slider {\n",
       "    width: 374px;\n",
       "    margin-left: auto;\n",
       "    margin-right: auto;\n",
       "}\n",
       ".anim-buttons {\n",
       "    margin: 8px 0px;\n",
       "}\n",
       ".anim-buttons button {\n",
       "    padding: 0;\n",
       "    width: 36px;\n",
       "}\n",
       ".anim-state label {\n",
       "    margin-right: 8px;\n",
       "}\n",
       ".anim-state input {\n",
       "    margin: 0;\n",
       "    vertical-align: middle;\n",
       "}\n",
       "</style>\n",
       "\n",
       "<div class=\"animation\">\n",
       "  <img id=\"_anim_img786bc8916257457ab8fefcdf50f5ac0a\">\n",
       "  <div class=\"anim-controls\">\n",
       "    <input id=\"_anim_slider786bc8916257457ab8fefcdf50f5ac0a\" type=\"range\" class=\"anim-slider\"\n",
       "           name=\"points\" min=\"0\" max=\"1\" step=\"1\" value=\"0\"\n",
       "           oninput=\"anim786bc8916257457ab8fefcdf50f5ac0a.set_frame(parseInt(this.value));\"></input>\n",
       "    <div class=\"anim-buttons\">\n",
       "      <button title=\"Decrease speed\" aria-label=\"Decrease speed\" onclick=\"anim786bc8916257457ab8fefcdf50f5ac0a.slower()\">\n",
       "          <i class=\"fa fa-minus\"></i></button>\n",
       "      <button title=\"First frame\" aria-label=\"First frame\" onclick=\"anim786bc8916257457ab8fefcdf50f5ac0a.first_frame()\">\n",
       "        <i class=\"fa fa-fast-backward\"></i></button>\n",
       "      <button title=\"Previous frame\" aria-label=\"Previous frame\" onclick=\"anim786bc8916257457ab8fefcdf50f5ac0a.previous_frame()\">\n",
       "          <i class=\"fa fa-step-backward\"></i></button>\n",
       "      <button title=\"Play backwards\" aria-label=\"Play backwards\" onclick=\"anim786bc8916257457ab8fefcdf50f5ac0a.reverse_animation()\">\n",
       "          <i class=\"fa fa-play fa-flip-horizontal\"></i></button>\n",
       "      <button title=\"Pause\" aria-label=\"Pause\" onclick=\"anim786bc8916257457ab8fefcdf50f5ac0a.pause_animation()\">\n",
       "          <i class=\"fa fa-pause\"></i></button>\n",
       "      <button title=\"Play\" aria-label=\"Play\" onclick=\"anim786bc8916257457ab8fefcdf50f5ac0a.play_animation()\">\n",
       "          <i class=\"fa fa-play\"></i></button>\n",
       "      <button title=\"Next frame\" aria-label=\"Next frame\" onclick=\"anim786bc8916257457ab8fefcdf50f5ac0a.next_frame()\">\n",
       "          <i class=\"fa fa-step-forward\"></i></button>\n",
       "      <button title=\"Last frame\" aria-label=\"Last frame\" onclick=\"anim786bc8916257457ab8fefcdf50f5ac0a.last_frame()\">\n",
       "          <i class=\"fa fa-fast-forward\"></i></button>\n",
       "      <button title=\"Increase speed\" aria-label=\"Increase speed\" onclick=\"anim786bc8916257457ab8fefcdf50f5ac0a.faster()\">\n",
       "          <i class=\"fa fa-plus\"></i></button>\n",
       "    </div>\n",
       "    <form title=\"Repetition mode\" aria-label=\"Repetition mode\" action=\"#n\" name=\"_anim_loop_select786bc8916257457ab8fefcdf50f5ac0a\"\n",
       "          class=\"anim-state\">\n",
       "      <input type=\"radio\" name=\"state\" value=\"once\" id=\"_anim_radio1_786bc8916257457ab8fefcdf50f5ac0a\"\n",
       "             checked>\n",
       "      <label for=\"_anim_radio1_786bc8916257457ab8fefcdf50f5ac0a\">Once</label>\n",
       "      <input type=\"radio\" name=\"state\" value=\"loop\" id=\"_anim_radio2_786bc8916257457ab8fefcdf50f5ac0a\"\n",
       "             >\n",
       "      <label for=\"_anim_radio2_786bc8916257457ab8fefcdf50f5ac0a\">Loop</label>\n",
       "      <input type=\"radio\" name=\"state\" value=\"reflect\" id=\"_anim_radio3_786bc8916257457ab8fefcdf50f5ac0a\"\n",
       "             >\n",
       "      <label for=\"_anim_radio3_786bc8916257457ab8fefcdf50f5ac0a\">Reflect</label>\n",
       "    </form>\n",
       "  </div>\n",
       "</div>\n",
       "\n",
       "\n",
       "<script language=\"javascript\">\n",
       "  /* Instantiate the Animation class. */\n",
       "  /* The IDs given should match those used in the template above. */\n",
       "  (function() {\n",
       "    var img_id = \"_anim_img786bc8916257457ab8fefcdf50f5ac0a\";\n",
       "    var slider_id = \"_anim_slider786bc8916257457ab8fefcdf50f5ac0a\";\n",
       "    var loop_select_id = \"_anim_loop_select786bc8916257457ab8fefcdf50f5ac0a\";\n",
       "    var frames = new Array(3);\n",
       "    \n",
       "  frames[0] = \"data:image/png;base64,iVBORw0KGgoAAAANSUhEUgAAAWgAAAFoCAYAAAB65WHVAAAAOXRFWHRTb2Z0d2FyZQBNYXRwbG90\\\n",
       "bGliIHZlcnNpb24zLjQuMywgaHR0cHM6Ly9tYXRwbG90bGliLm9yZy/MnkTPAAAACXBIWXMAAAsT\\\n",
       "AAALEwEAmpwYAAAPlUlEQVR4nO3dcYjndZ3H8eerXYWsTiO36HZd3Tu2bKE86pfFUXd2cteuEEvQ\\\n",
       "H5okJ8Egl9GfygnFEcL1x4FE1jLIIoG0f1xS67ElR0d5YN45C+a6iTG30Tq3gVrhQcLZ6vv+mJ/x\\\n",
       "a25GR53v/N6/2ecDBub7/X34+f4ww9Ov35nvmKpCktTPG6Y9gCRpdQZakpoy0JLUlIGWpKYMtCQ1\\\n",
       "ZaAlqSkDLUlNGWhJaspAS1JTBlqSmjLQktSUgZakpgy0JDVloCWpKQMtSU0ZaElqykBLUlMGWpKa\\\n",
       "MtCS1JSBlqSmDLQkNWWgJakpAy1JTRloSWrKQEtSUwZakpoy0JLUlIGWpKYMtCQ1ZaAlqSkDLUlN\\\n",
       "GWhJaspAS1JTBlqSmjLQktSUgZakpgy0JDVloCWpqUEDneRwkqeSPLbG60ny1SSLSR5N8v4h55Gk\\\n",
       "WTL0FfTdwP6Xef0AsHf8MQd8Y+B5JGlmDBroqnoA+PXLLDkIfLOWPQRclOSdQ84kSbNi2vegdwJP\\\n",
       "Thwvjc9J0jlv+5T/+VnlXK26MJlj+TYIb3rTmz5w+eWXDzmXpHPQ8ePHn6mqHdOe4yXTDvQScMnE\\\n",
       "8S7gzGoLq2oemAcYjUa1sLAw/HSSzilJfjHtGSZN+xbHUeCG8W9zfBh4tqp+OeWZJKmFQa+gk3wL\\\n",
       "uAq4OMkS8CXgPICqOgQcA64BFoHngBuHnEeSZsmgga6q617h9QI+N+QMkjSrpn2LQ5K0BgMtSU0Z\\\n",
       "aElqykBLUlMGWpKaMtCS1JSBlqSmDLQkNWWgJakpAy1JTRloSWrKQEtSUwZakpoy0JLUlIGWpKYM\\\n",
       "tCQ1ZaAlqSkDLUlNGWhJaspAS1JTBlqSmjLQktSUgZakpgy0JDVloCWpKQMtSU0ZaElqykBLUlMG\\\n",
       "WpKaMtCS1JSBlqSmDLQkNWWgJakpAy1JTRloSWrKQEtSUwZakpoy0JLUlIGWpKYMtCQ1ZaAlqSkD\\\n",
       "LUlNGWhJaspAS1JTBlqSmjLQktTU4IFOsj/JE0kWk9y6yusXJrkvyU+SnExy49AzSdIsGDTQSbYB\\\n",
       "dwIHgH3AdUn2rVj2OeCnVXUFcBXwT0nOH3IuSZoFQ19BXwksVtWpqnoeOAIcXLGmgLckCfBm4NfA\\\n",
       "2YHnkqT2hg70TuDJieOl8blJXwPeA5wBTgBfqKoXB55LktobOtBZ5VytOP448Ajwx8CfAV9L8kf/\\\n",
       "742SuSQLSRaefvrpjZ5TktoZOtBLwCUTx7tYvlKedCNwby1bBH4OXL7yjapqvqpGVTXasWPHYANL\\\n",
       "UhdDB/phYG+SPeMf/F0LHF2x5jRwNUCSdwDvBk4NPJcktbd9yDevqrNJbgbuB7YBh6vqZJKbxq8f\\\n",
       "Ar4M3J3kBMu3RG6pqmeGnEuSZsGggQaoqmPAsRXnDk18fgb4m6HnkKRZ45OEktSUgZakpgy0JDVl\\\n",
       "oCWpKQMtSU0ZaElqykBLUlMGWpKaMtCS1JSBlqSmDLQkNWWgJakpAy1JTRloSWrKQEtSUwZakpoy\\\n",
       "0JLUlIGWpKYMtCQ1ZaAlqSkDLUlNGWhJaspAS1JTBlqSmjLQktSUgZakpgy0JDVloCWpKQMtSU0Z\\\n",
       "aElqykBLUlMGWpKaMtCS1JSBlqSmDLQkNWWgJakpAy1JTRloSWrKQEtSUwZakpoy0JLUlIGWpKYM\\\n",
       "tCQ1ZaAlqSkDLUlNDR7oJPuTPJFkMcmta6y5KskjSU4m+dHQM0nSLNg+5Jsn2QbcCfw1sAQ8nORo\\\n",
       "Vf10Ys1FwNeB/VV1Osnbh5xJkmbF0FfQVwKLVXWqqp4HjgAHV6z5NHBvVZ0GqKqnBp5JkmbC0IHe\\\n",
       "CTw5cbw0PjfpXcBbk/wwyfEkNww8kyTNhEFvcQBZ5VytMsMHgKuBNwI/TvJQVf3sD94omQPmAHbv\\\n",
       "3j3AqJLUy9BX0EvAJRPHu4Azq6z5flX9tqqeAR4Arlj5RlU1X1Wjqhrt2LFjsIElqYuhA/0wsDfJ\\\n",
       "niTnA9cCR1es+S7w0STbk1wAfAh4fOC5JKm9QW9xVNXZJDcD9wPbgMNVdTLJTePXD1XV40m+DzwK\\\n",
       "vAjcVVWPDTmXJM2CVK28JdzfaDSqhYWFaY8haYtJcryqRtOe4yU+SShJTRloSWrKQEtSUwZakpoy\\\n",
       "0JLUlIGWpKYMtCQ1ZaAlqSkDLUlNGWhJaspAS1JTBlqSmjLQktSUgZakpgy0JDVloCWpKQMtSU0Z\\\n",
       "aElqykBLUlMG+mXcc+IeLrvjMt7wD2/gsjsu454T90x7JEnnkEH/r96z7J4T9zB33xzP/e45AH7x\\\n",
       "7C+Yu28OgOvfe/00R5N0jvAKeg23/eC238f5Jc/97jlu+8FtU5pI0rnGQK/h9LOnX9V5SdpoBnoN\\\n",
       "uy/c/arOS9JGM9BruP3q27ngvAv+4NwF513A7VffPqWJJJ1rDPQarn/v9cx/Yp5LL7yUEC698FLm\\\n",
       "PzHvDwglbZpU1bRneNVGo1EtLCxMewxJW0yS41U1mvYcL/EKWpKaMtCS1JSBlqSmDLQkNWWgJakp\\\n",
       "Ay1JTRloSWrKQEtSUwZakpoy0JLUlIGWpKYMtCQ1ZaAlqSkDLUlNGWhJaspAS1JTBlqSmjLQktTU\\\n",
       "4IFOsj/JE0kWk9z6Mus+mOSFJJ8aeiZJmgWDBjrJNuBO4ACwD7guyb411n0FuH/IeSRplgx9BX0l\\\n",
       "sFhVp6rqeeAIcHCVdZ8Hvg08NfA8kjQzhg70TuDJieOl8bnfS7IT+CRwaOBZJGmmDB3orHKuVhzf\\\n",
       "AdxSVS+87Bslc0kWkiw8/fTTGzWfJLW1feD3XwIumTjeBZxZsWYEHEkCcDFwTZKzVfWdyUVVNQ/M\\\n",
       "A4xGo5WRl6QtZ+hAPwzsTbIH+G/gWuDTkwuqas9Lnye5G/iXlXGWpHPRoIGuqrNJbmb5tzO2AYer\\\n",
       "6mSSm8ave99ZktYw9BU0VXUMOLbi3Kphrqq/HXoeSZoVPkkoSU0ZaElqykBLUlMGWpKaMtCS1JSB\\\n",
       "lqSmDLQkNWWgJakpAy1JTRloSWrKQEtSUwZakpoy0JLUlIGWpKYMtCQ1ZaAlqSkDLUlNGWhJaspA\\\n",
       "S1JTBlqSmjLQktSUgZakpgy0JDVloCWpKQMtSU0ZaElqykBLUlMGWpKaMtCS1JSBlqSmDLQkNWWg\\\n",
       "JakpAy1JTRloSWrKQEtSUwZakpoy0JLUlIGWpKYMtCQ1ZaAlqSkDLUlNGWhJaspAS1JTBlqSmjLQ\\\n",
       "ktSUgZakpgYPdJL9SZ5Ispjk1lVevz7Jo+OPB5NcMfRMkjQLBg10km3AncABYB9wXZJ9K5b9HPjL\\\n",
       "qnof8GVgfsiZJGlWDH0FfSWwWFWnqup54AhwcHJBVT1YVb8ZHz4E7Bp4JkmaCUMHeifw5MTx0vjc\\\n",
       "Wj4LfG/QiSRpRmwf+P2zyrladWHyMZYD/ZE1Xp8D5gB27969UfNJUltDX0EvAZdMHO8CzqxclOR9\\\n",
       "wF3Awar61WpvVFXzVTWqqtGOHTsGGVaSOhk60A8De5PsSXI+cC1wdHJBkt3AvcBnqupnA88jSTNj\\\n",
       "0FscVXU2yc3A/cA24HBVnUxy0/j1Q8AXgbcBX08CcLaqRkPOJUmzIFWr3hJubTQa1cLCwrTHkLTF\\\n",
       "JDne6QLRJwklqSkDLUlNGWhJaspAS1JTBlqSmjLQktSUgZakpgy0JDVloCWpKQMtSU0ZaElqykBL\\\n",
       "UlMGWpKaMtCS1JSBlqSmDLQkNWWgJakpAy1JTRloSWrKQEtSUwZakpoy0JLUlIGWpKYMtCQ1ZaAl\\\n",
       "qSkDLUlNGWhJaspAS1JTBlqSmjLQktSUgZakpgy0JDVloCWpKQMtSU0ZaElqykBLUlMGWpKaMtCS\\\n",
       "1JSBlqSmDLQkNWWgJakpAy1JTRloSWrKQEtSUwZakpoaPNBJ9id5IslikltXeT1Jvjp+/dEk7x96\\\n",
       "JkmaBYMGOsk24E7gALAPuC7JvhXLDgB7xx9zwDeGnEmSZsXQV9BXAotVdaqqngeOAAdXrDkIfLOW\\\n",
       "PQRclOSdA88lSe0NHeidwJMTx0vjc692jSSdc7YP/P5Z5Vy9hjUkmWP5FgjA/yZ57HXO1tnFwDPT\\\n",
       "HmJAW3l/W3lvsPX39+5pDzBp6EAvAZdMHO8CzryGNVTVPDAPkGShqkYbO2of7m92beW9wbmxv2nP\\\n",
       "MGnoWxwPA3uT7ElyPnAtcHTFmqPADePf5vgw8GxV/XLguSSpvUGvoKvqbJKbgfuBbcDhqjqZ5Kbx\\\n",
       "64eAY8A1wCLwHHDjkDNJ0qwY+hYHVXWM5QhPnjs08XkBn3uVbzu/AaN15v5m11beG7i/TZXlPkqS\\\n",
       "uvFRb0lqqnWgt/Jj4uvY2/XjPT2a5MEkV0xjztfqlfY3se6DSV5I8qnNnO/1Ws/+klyV5JEkJ5P8\\\n",
       "aLNnfD3W8f15YZL7kvxkvL+Z+dlRksNJnlrrV3VbdaWqWn6w/EPF/wL+BDgf+Amwb8Waa4Dvsfy7\\\n",
       "1B8G/mPac2/g3v4ceOv48wOzsrf17m9i3b+x/DOKT0177g3++l0E/BTYPT5++7Tn3uD9/T3wlfHn\\\n",
       "O4BfA+dPe/Z17u8vgPcDj63xepuudL6C3sqPib/i3qrqwar6zfjwIZZ/P3xWrOdrB/B54NvAU5s5\\\n",
       "3AZYz/4+DdxbVacBqmqW9rie/RXwliQB3sxyoM9u7pivTVU9wPK8a2nTlc6B3sqPib/auT/L8r/R\\\n",
       "Z8Ur7i/JTuCTwCFmz3q+fu8C3prkh0mOJ7lh06Z7/dazv68B72H5obITwBeq6sXNGW9wbboy+K/Z\\\n",
       "vQ4b9ph4Q+ueO8nHWA70RwadaGOtZ393ALdU1QvLF2EzZT372w58ALgaeCPw4yQPVdXPhh5uA6xn\\\n",
       "fx8HHgH+CvhT4F+T/HtV/c/As22GNl3pHOgNe0y8oXXNneR9wF3Agar61SbNthHWs78RcGQc54uB\\\n",
       "a5KcrarvbMqEr896vzefqarfAr9N8gBwBTALgV7P/m4E/rGWb9ouJvk5cDnwn5sz4qDadKXzLY6t\\\n",
       "/Jj4K+4tyW7gXuAzM3LVNekV91dVe6rqsqq6DPhn4O9mJM6wvu/N7wIfTbI9yQXAh4DHN3nO12o9\\\n",
       "+zvN8n8dkOQdLP+RoVObOuVw2nSl7RV0beHHxNe5ty8CbwO+Pr7KPFsz8kdq1rm/mbWe/VXV40m+\\\n",
       "DzwKvAjcVVUz8RcY1/n1+zJwd5ITLN8SuKWqZuKv3CX5FnAVcHGSJeBLwHnQrys+SShJTXW+xSFJ\\\n",
       "5zQDLUlNGWhJaspAS1JTBlqSmjLQktSUgZakpgy0JDVloCWpKQMtSU0ZaElqykBLUlMGWpKaMtCS\\\n",
       "1JSBlqSmDLQkNWWgJakpAy1JTRloSWrKQEtSUwZakpoy0JLUlIGWpKYMtCQ1ZaAlqSkDLUlNGWhJ\\\n",
       "aspAS1JTBlqSmvo/LYF0ENAHWzoAAAAASUVORK5CYII=\\\n",
       "\"\n",
       "  frames[1] = \"data:image/png;base64,iVBORw0KGgoAAAANSUhEUgAAAWgAAAFoCAYAAAB65WHVAAAAOXRFWHRTb2Z0d2FyZQBNYXRwbG90\\\n",
       "bGliIHZlcnNpb24zLjQuMywgaHR0cHM6Ly9tYXRwbG90bGliLm9yZy/MnkTPAAAACXBIWXMAAAsT\\\n",
       "AAALEwEAmpwYAAAPlUlEQVR4nO3dcYjndZ3H8eerXYWsTiO36HZd3Tu2bKE86pfFUXd2cteuEEvQ\\\n",
       "H5okJ8Egl9GfygnFEcL1x4FE1jLIIoG0f1xS67ElR0d5YN45C+a6ijK30Tq3gVrhQcLZ6vv+mJ/x\\\n",
       "a25WZ3W+83v/Zp8PGJjv9/fh5/vDDE+/fme+Y6oKSVI/b5r2AJKk1RloSWrKQEtSUwZakpoy0JLU\\\n",
       "lIGWpKYMtCQ1ZaAlqSkDLUlNGWhJaspAS1JTBlqSmjLQktSUgZakpgy0JDVloCWpKQMtSU0ZaElq\\\n",
       "ykBLUlMGWpKaMtCS1JSBlqSmDLQkNWWgJakpAy1JTRloSWrKQEtSUwZakpoy0JLUlIGWpKYMtCQ1\\\n",
       "ZaAlqSkDLUlNGWhJaspAS1JTBlqSmjLQktSUgZakpgYNdJKDSZ5J8tgZXk+SrydZTPJokg8OOY8k\\\n",
       "zZKhr6DvBva+yuv7gN3jjzngWwPPI0kzY9BAV9UDwK9fZcl+4Nu17CHgoiTvHnImSZoV074HvR14\\\n",
       "euJ4aXxOks55W6f8z88q52rVhckcy7dBeMtb3vKhyy+/fMi5JJ2Djh49+lxVbZv2HK+YdqCXgEsm\\\n",
       "jncAp1ZbWFXzwDzAaDSqhYWF4aeTdE5J8otpzzBp2rc4DgM3jH+b46PA81X1yynPJEktDHoFneQ7\\\n",
       "wFXAxUmWgK8A5wFU1QHgCHANsAi8ANw45DySNEsGDXRVXfcarxfwhSFnkKRZNe1bHJKkMzDQktSU\\\n",
       "gZakpgy0JDVloCWpKQMtSU0ZaElqykBLUlMGWpKaMtCS1JSBlqSmDLQkNWWgJakpAy1JTRloSWrK\\\n",
       "QEtSUwZakpoy0JLUlIGWpKYMtCQ1ZaAlqSkDLUlNGWhJaspAS1JTBlqSmjLQktSUgZakpgy0JDVl\\\n",
       "oCWpKQMtSU0ZaElqykBLUlMGWpKaMtCS1JSBlqSmDLQkNWWgJakpAy1JTRloSWrKQEtSUwZakpoy\\\n",
       "0JLUlIGWpKYMtCQ1ZaAlqSkDLUlNDR7oJHuTPJlkMcmtq7x+YZL7kvwsyfEkNw49kyTNgkEDnWQL\\\n",
       "cCewD9gDXJdkz4plXwAer6orgKuAf0py/pBzSdIsGPoK+kpgsapOVNWLwCFg/4o1BbwtSYC3Ar8G\\\n",
       "Tg88lyS1N3SgtwNPTxwvjc9N+gbwPuAUcAz4UlW9PPBcktTe0IHOKudqxfEngUeAPwb+DPhGkj/6\\\n",
       "f2+UzCVZSLLw7LPPrvecktTO0IFeAi6ZON7B8pXypBuBe2vZIvBz4PKVb1RV81U1qqrRtm3bBhtY\\\n",
       "kroYOtAPA7uT7Br/4O9a4PCKNSeBqwGSvAt4L3Bi4Lkkqb2tQ755VZ1OcjNwP7AFOFhVx5PcNH79\\\n",
       "APBV4O4kx1i+JXJLVT035FySNAsGDTRAVR0Bjqw4d2Di81PA3ww9hyTNGp8klKSmDLQkNWWgJakp\\\n",
       "Ay1JTRloSWrKQEtSUwZakpoy0JLUlIGWpKYMtCQ1ZaAlqSkDLUlNGWhJaspAS1JTBlqSmjLQktSU\\\n",
       "gZakpgy0JDVloCWpKQMtSU0ZaElqykBLUlMGWpKaMtCS1JSBlqSmDLQkNWWgJakpAy1JTRloSWrK\\\n",
       "QEtSUwZakpoy0JLUlIGWpKYMtCQ1ZaAlqSkDLUlNGWhJaspAS1JTBlqSmjLQktSUgZakpgy0JDVl\\\n",
       "oCWpKQMtSU0ZaElqavBAJ9mb5Mkki0luPcOaq5I8kuR4kp8MPZMkzYKtQ755ki3AncBfA0vAw0kO\\\n",
       "V9XjE2suAr4J7K2qk0neOeRMkjQrhr6CvhJYrKoTVfUicAjYv2LNZ4F7q+okQFU9M/BMkjQThg70\\\n",
       "duDpieOl8blJ7wHenuTHSY4muWHgmSRpJgx6iwPIKudqlRk+BFwNvBn4aZKHquqpP3ijZA6YA9i5\\\n",
       "c+cAo0pSL0NfQS8Bl0wc7wBOrbLmh1X126p6DngAuGLlG1XVfFWNqmq0bdu2wQaWpC6GDvTDwO4k\\\n",
       "u5KcD1wLHF6x5vvAx5NsTXIB8BHgiYHnkqT2Br3FUVWnk9wM3A9sAQ5W1fEkN41fP1BVTyT5IfAo\\\n",
       "8DJwV1U9NuRckjQLUrXylnB/o9GoFhYWpj2GpE0mydGqGk17jlf4JKEkNWWgJakpAy1JTRloSWrK\\\n",
       "QEtSUwZakpoy0JLUlIGWpKYMtCQ1ZaAlqSkDLUlNGWhJaspAS1JTBlqSmjLQktSUgZakpgy0JDVl\\\n",
       "oCWpKQMtSU0ZaG1a9xy7h8vuuIw3/cObuOyOy7jn2D3THkk6K4P+X72labnn2D3M3TfHC797AYBf\\\n",
       "PP8L5u6bA+D6918/zdGkNfMKWpvSbT+67fdxfsULv3uB235025Qmks6egdamdPL5k2d1XurIQGtT\\\n",
       "2nnhzrM6L3VkoLUp3X717Vxw3gV/cO6C8y7g9qtvn9JE0tkz0NqUrn//9cx/ap5LL7yUEC698FLm\\\n",
       "PzXvDwg1U1JV057hrI1Go1pYWJj2GJI2mSRHq2o07Tle4RW0JDVloCWpKQMtSU0ZaElqykBLUlMG\\\n",
       "WpKaMtCS1JSBlqSmDLQkNWWgJakpAy1JTRloSWrKQEtSUwZakpoy0JLUlIGWpKYMtCQ1ZaAlqanB\\\n",
       "A51kb5InkywmufVV1n04yUtJPjP0TJI0CwYNdJItwJ3APmAPcF2SPWdY9zXg/iHnkaRZMvQV9JXA\\\n",
       "YlWdqKoXgUPA/lXWfRH4LvDMwPNI0swYOtDbgacnjpfG534vyXbg08CBgWeRpJkydKCzyrlacXwH\\\n",
       "cEtVvfSqb5TMJVlIsvDss8+u13yS1NbWgd9/Cbhk4ngHcGrFmhFwKAnAxcA1SU5X1fcmF1XVPDAP\\\n",
       "MBqNVkZekjadoQP9MLA7yS7gv4Frgc9OLqiqXa98nuRu4F9WxlmSzkWDBrqqTie5meXfztgCHKyq\\\n",
       "40luGr/ufWdJOoOhr6CpqiPAkRXnVg1zVf3t0PNI0qzwSUJJaspAS1JTBlqSmjLQktSUgZakpgy0\\\n",
       "JDVloCWpKQMtSU0ZaElqykBLUlMGWpKaMtCS1JSBlqSmDLQkNWWgJakpAy1JTRloSWrKQEtSUwZa\\\n",
       "kpoy0JLUlIGWpKYMtCQ1ZaAlqSkDLUlNGWhJaspAS1JTBlqSmjLQktSUgZakpgy0JDVloCWpKQMt\\\n",
       "SU0ZaElqykBLUlMGWpKaMtCS1JSBlqSmDLQkNWWgJakpAy1JTRloSWrKQEtSUwZakpoy0JLUlIGW\\\n",
       "pKYMtCQ1NXigk+xN8mSSxSS3rvL69UkeHX88mOSKoWeSpFkwaKCTbAHuBPYBe4DrkuxZseznwF9W\\\n",
       "1QeArwLzQ84kSbNi6CvoK4HFqjpRVS8Ch4D9kwuq6sGq+s348CFgx8AzSdJMGDrQ24GnJ46XxufO\\\n",
       "5PPADwadSJJmxNaB3z+rnKtVFyafYDnQHzvD63PAHMDOnTvXaz5JamvoK+gl4JKJ4x3AqZWLknwA\\\n",
       "uAvYX1W/Wu2Nqmq+qkZVNdq2bdsgw0pSJ0MH+mFgd5JdSc4HrgUOTy5IshO4F/hcVT018DySNDMG\\\n",
       "vcVRVaeT3AzcD2wBDlbV8SQ3jV8/AHwZeAfwzSQAp6tqNORckjQLUrXqLeHWRqNRLSwsTHsMSZtM\\\n",
       "kqOdLhB9klCSmjLQktSUgZakpgy0JDVloCWpKQMtSU0ZaElqykBLUlMGWpKaMtCS1JSBlqSmDLQk\\\n",
       "NWWgJakpAy1JTRloSWrKQEtSUwZakpoy0JLUlIGWpKYMtCQ1ZaAlqSkDLUlNGWhJaspAS1JTBlqS\\\n",
       "mjLQktSUgZakpgy0JDVloCWpKQMtSU0ZaElqykBLUlMGWpKaMtCS1JSBlqSmDLQkNWWgJakpAy1J\\\n",
       "TRloSWrKQEtSUwZakpoy0JLUlIGWpKYMtCQ1ZaAlqanBA51kb5InkywmuXWV15Pk6+PXH03ywaFn\\\n",
       "kqRZMGigk2wB7gT2AXuA65LsWbFsH7B7/DEHfGvImSRpVgx9BX0lsFhVJ6rqReAQsH/Fmv3At2vZ\\\n",
       "Q8BFSd498FyS1N7Qgd4OPD1xvDQ+d7ZrJOmcs3Xg988q5+p1rCHJHMu3QAD+N8ljb3C2zi4Gnpv2\\\n",
       "EAPazPvbzHuDzb+/9057gElDB3oJuGTieAdw6nWsoarmgXmAJAtVNVrfUftwf7NrM+8Nzo39TXuG\\\n",
       "SUPf4ngY2J1kV5LzgWuBwyvWHAZuGP82x0eB56vqlwPPJUntDXoFXVWnk9wM3A9sAQ5W1fEkN41f\\\n",
       "PwAcAa4BFoEXgBuHnEmSZsXQtzioqiMsR3jy3IGJzwv4wlm+7fw6jNaZ+5tdm3lv4P42VJb7KEnq\\\n",
       "xke9Jamp1oHezI+Jr2Fv14/39GiSB5NcMY05X6/X2t/Eug8neSnJZzZyvjdqLftLclWSR5IcT/KT\\\n",
       "jZ7xjVjD9+eFSe5L8rPx/mbmZ0dJDiZ55ky/qtuqK1XV8oPlHyr+F/AnwPnAz4A9K9ZcA/yA5d+l\\\n",
       "/ijwH9Oeex339ufA28ef75uVva11fxPr/o3ln1F8Ztpzr/PX7yLgcWDn+Pid0557nff398DXxp9v\\\n",
       "A34NnD/t2de4v78APgg8dobX23Sl8xX0Zn5M/DX3VlUPVtVvxocPsfz74bNiLV87gC8C3wWe2cjh\\\n",
       "1sFa9vdZ4N6qOglQVbO0x7Xsr4C3JQnwVpYDfXpjx3x9quoBluc9kzZd6RzozfyY+NnO/XmW/40+\\\n",
       "K15zf0m2A58GDjB71vL1ew/w9iQ/TnI0yQ0bNt0bt5b9fQN4H8sPlR0DvlRVL2/MeINr05XBf83u\\\n",
       "DVi3x8QbWvPcST7BcqA/NuhE62st+7sDuKWqXlq+CJspa9nfVuBDwNXAm4GfJnmoqp4aerh1sJb9\\\n",
       "fRJ4BPgr4E+Bf03y71X1PwPPthHadKVzoNftMfGG1jR3kg8AdwH7qupXGzTbeljL/kbAoXGcLwau\\\n",
       "SXK6qr63IRO+MWv93nyuqn4L/DbJA8AVwCwEei37uxH4x1q+abuY5OfA5cB/bsyIg2rTlc63ODbz\\\n",
       "Y+KvubckO4F7gc/NyFXXpNfcX1XtqqrLquoy4J+Bv5uROMPavje/D3w8ydYkFwAfAZ7Y4Dlfr7Xs\\\n",
       "7yTL/3VAknex/EeGTmzolMNp05W2V9C1iR8TX+Pevgy8A/jm+CrzdM3IH6lZ4/5m1lr2V1VPJPkh\\\n",
       "8CjwMnBXVc3EX2Bc49fvq8DdSY6xfEvglqqaib9yl+Q7wFXAxUmWgK8A50G/rvgkoSQ11fkWhySd\\\n",
       "0wy0JDVloCWpKQMtSU0ZaElqykBLUlMGWpKaMtCS1JSBlqSmDLQkNWWgJakpAy1JTRloSWrKQEtS\\\n",
       "UwZakpoy0JLUlIGWpKYMtCQ1ZaAlqSkDLUlNGWhJaspAS1JTBlqSmjLQktSUgZakpgy0JDVloCWp\\\n",
       "KQMtSU0ZaElq6v8Ayfp0ECCjgBIAAAAASUVORK5CYII=\\\n",
       "\"\n",
       "  frames[2] = \"data:image/png;base64,iVBORw0KGgoAAAANSUhEUgAAAWgAAAFoCAYAAAB65WHVAAAAOXRFWHRTb2Z0d2FyZQBNYXRwbG90\\\n",
       "bGliIHZlcnNpb24zLjQuMywgaHR0cHM6Ly9tYXRwbG90bGliLm9yZy/MnkTPAAAACXBIWXMAAAsT\\\n",
       "AAALEwEAmpwYAAAPlElEQVR4nO3dcYjndZ3H8eerXYWsTiO36HZd3Tu2bKE86pfFUXd2cteuEEvQ\\\n",
       "H5okJ8Egl9GfygnFEcL1x4FE1jLIIoG0f1xS67ElR0d5YN45C+a6ijK30Tq3gVrhQcLZ6vv+mJ/x\\\n",
       "a25WZ3W+83v/Zp8PGJjv9/fh5/vDDE+/fme+Y6oKSVI/b5r2AJKk1RloSWrKQEtSUwZakpoy0JLU\\\n",
       "lIGWpKYMtCQ1ZaAlqSkDLUlNGWhJaspAS1JTBlqSmjLQktSUgZakpgy0JDVloCWpKQMtSU0ZaElq\\\n",
       "ykBLUlMGWpKaMtCS1JSBlqSmDLQkNWWgJakpAy1JTRloSWrKQEtSUwZakpoy0JLUlIGWpKYMtCQ1\\\n",
       "ZaAlqSkDLUlNGWhJaspAS1JTBlqSmjLQktSUgZakpgYNdJKDSZ5J8tgZXk+SrydZTPJokg8OOY8k\\\n",
       "zZKhr6DvBva+yuv7gN3jjzngWwPPI0kzY9BAV9UDwK9fZcl+4Nu17CHgoiTvHnImSZoV074HvR14\\\n",
       "euJ4aXxOks55W6f8z88q52rVhckcy7dBeMtb3vKhyy+/fMi5JJ2Djh49+lxVbZv2HK+YdqCXgEsm\\\n",
       "jncAp1ZbWFXzwDzAaDSqhYWF4aeTdE5J8otpzzBp2rc4DgM3jH+b46PA81X1yynPJEktDHoFneQ7\\\n",
       "wFXAxUmWgK8A5wFU1QHgCHANsAi8ANw45DySNEsGDXRVXfcarxfwhSFnkKRZNe1bHJKkMzDQktSU\\\n",
       "gZakpgy0JDVloCWpKQMtSU0ZaElqykBLUlMGWpKaMtCS1JSBlqSmDLQkNWWgJakpAy1JTRloSWrK\\\n",
       "QEtSUwZakpoy0JLUlIGWpKYMtCQ1ZaAlqSkDLUlNGWhJaspAS1JTBlqSmjLQktSUgZakpgy0JDVl\\\n",
       "oCWpKQMtSU0ZaElqykBLUlMGWpKaMtCS1JSBlqSmDLQkNWWgJakpAy1JTRloSWrKQEtSUwZakpoy\\\n",
       "0JLUlIGWpKYMtCQ1ZaAlqSkDLUlNDR7oJHuTPJlkMcmtq7x+YZL7kvwsyfEkNw49kyTNgkEDnWQL\\\n",
       "cCewD9gDXJdkz4plXwAer6orgKuAf0py/pBzSdIsGPoK+kpgsapOVNWLwCFg/4o1BbwtSYC3Ar8G\\\n",
       "Tg88lyS1N3SgtwNPTxwvjc9N+gbwPuAUcAz4UlW9PPBcktTe0IHOKudqxfEngUeAPwb+DPhGkj/6\\\n",
       "f2+UzCVZSLLw7LPPrvecktTO0IFeAi6ZON7B8pXypBuBe2vZIvBz4PKVb1RV81U1qqrRtm3bBhtY\\\n",
       "kroYOtAPA7uT7Br/4O9a4PCKNSeBqwGSvAt4L3Bi4Lkkqb2tQ755VZ1OcjNwP7AFOFhVx5PcNH79\\\n",
       "APBV4O4kx1i+JXJLVT035FySNAsGDTRAVR0Bjqw4d2Di81PA3ww9hyTNGp8klKSmDLQkNWWgJakp\\\n",
       "Ay1JTRloSWrKQEtSUwZakpoy0JLUlIGWpKYMtCQ1ZaAlqSkDLUlNGWhJaspAS1JTBlqSmjLQktSU\\\n",
       "gZakpgy0JDVloCWpKQMtSU0ZaElqykBLUlMGWpKaMtCS1JSBlqSmDLQkNWWgJakpAy1JTRloSWrK\\\n",
       "QEtSUwZakpoy0JLUlIGWpKYMtCQ1ZaAlqSkDLUlNGWhJaspAS1JTBlqSmjLQktSUgZakpgy0JDVl\\\n",
       "oCWpKQMtSU0ZaElqavBAJ9mb5Mkki0luPcOaq5I8kuR4kp8MPZMkzYKtQ755ki3AncBfA0vAw0kO\\\n",
       "V9XjE2suAr4J7K2qk0neOeRMkjQrhr6CvhJYrKoTVfUicAjYv2LNZ4F7q+okQFU9M/BMkjQThg70\\\n",
       "duDpieOl8blJ7wHenuTHSY4muWHgmSRpJgx6iwPIKudqlRk+BFwNvBn4aZKHquqpP3ijZA6YA9i5\\\n",
       "c+cAo0pSL0NfQS8Bl0wc7wBOrbLmh1X126p6DngAuGLlG1XVfFWNqmq0bdu2wQaWpC6GDvTDwO4k\\\n",
       "u5KcD1wLHF6x5vvAx5NsTXIB8BHgiYHnkqT2Br3FUVWnk9wM3A9sAQ5W1fEkN41fP1BVTyT5IfAo\\\n",
       "8DJwV1U9NuRckjQLUrXylnB/o9GoFhYWpj2GpE0mydGqGk17jlf4JKEkNWWgJakpAy1JTRloSWrK\\\n",
       "QEtSUwZakpoy0JLUlIGWpKYMtCQ1ZaAlqSkDLUlNGWhJaspAS1JTBlqSmjLQktSUgZakpgy0JDVl\\\n",
       "oCWpKQMtSU0ZaEnt3HPsHi674zLe9A9v4rI7LuOeY/dMe6SpGPT/6i1JZ+ueY/cwd98cL/zuBQB+\\\n",
       "8fwvmLtvDoDr33/9NEfbcF5BS2rlth/d9vs4v+KF373AbT+6bUoTTY+BltTKyedPntX5zcxAS2pl\\\n",
       "54U7z+r8ZmagJbVy+9W3c8F5F/zBuQvOu4Dbr759ShNNj4GW1Mr177+e+U/Nc+mFlxLCpRdeyvyn\\\n",
       "5s+5HxACpKqmPcNZG41GtbCwMO0xJG0ySY5W1Wjac7zCK2hJaspAS1JTBlqSmjLQktSUgZakpgy0\\\n",
       "JDVloCWpKQMtSU0ZaElqykBLUlMGWpKaMtCS1JSBlqSmDLQkNWWgJakpAy1JTRloSWrKQEtSU4MH\\\n",
       "OsneJE8mWUxy66us+3CSl5J8ZuiZJGkWDBroJFuAO4F9wB7guiR7zrDua8D9Q84jSbNk6CvoK4HF\\\n",
       "qjpRVS8Ch4D9q6z7IvBd4JmB55GkmTF0oLcDT08cL43P/V6S7cCngQMDzyJJM2XoQGeVc7Xi+A7g\\\n",
       "lqp66VXfKJlLspBk4dlnn12v+SSpra0Dv/8ScMnE8Q7g1Io1I+BQEoCLgWuSnK6q700uqqp5YB5g\\\n",
       "NBqtjLwkbTpDB/phYHeSXcB/A9cCn51cUFW7Xvk8yd3Av6yMsySdiwYNdFWdTnIzy7+dsQU4WFXH\\\n",
       "k9w0ft37zpJ0BkNfQVNVR4AjK86tGuaq+tuh55GkWeGThJLUlIGWpKYMtCQ1ZaAlqSkDLUlNGWhJ\\\n",
       "aspAS1JTBlqSmjLQktSUgZakpgy0JDVloCWpKQMtSU0ZaElqykBLUlMGWpKaMtCS1JSBlqSmDLQk\\\n",
       "NWWgJakpAy1JTRloSWrKQEtSUwZakpoy0JLUlIGWpKYMtCQ1ZaAlqSkDLUlNGWhJaspAS1JTBlqS\\\n",
       "mjLQktSUgZakpgy0JDVloCWpKQMtSU0ZaElqykBLUlMGWpKaMtCS1JSBlqSmDLQkNWWgJakpAy1J\\\n",
       "TRloSWpq8EAn2ZvkySSLSW5d5fXrkzw6/ngwyRVDzyRJs2DQQCfZAtwJ7AP2ANcl2bNi2c+Bv6yq\\\n",
       "DwBfBeaHnEmSZsXQV9BXAotVdaKqXgQOAfsnF1TVg1X1m/HhQ8COgWeSpJkwdKC3A09PHC+Nz53J\\\n",
       "54EfDDqRJM2IrQO/f1Y5V6suTD7BcqA/dobX54A5gJ07d67XfJLU1tBX0EvAJRPHO4BTKxcl+QBw\\\n",
       "F7C/qn612htV1XxVjapqtG3btkGGlaROhg70w8DuJLuSnA9cCxyeXJBkJ3Av8LmqemrgeSRpZgx6\\\n",
       "i6OqTie5Gbgf2AIcrKrjSW4av34A+DLwDuCbSQBOV9VoyLkkaRakatVbwq2NRqNaWFiY9hiSNpkk\\\n",
       "RztdIPokoSQ1ZaAlqSkDLUlNGWhJaspAS1JTBlqSmjLQktSUgZakpgy0JDVloCWpKQMtSU0ZaElq\\\n",
       "ykBLUlMGWpKaMtCS1JSBlqSmDLQkNWWgJakpAy1JTRloSWrKQEtSUwZakpoy0JLUlIGWpKYMtCQ1\\\n",
       "ZaAlqSkDLUlNGWhJaspAS1JTBlqSmjLQktSUgZakpgy0JDVloCWpKQMtSU0ZaElqykBLUlMGWpKa\\\n",
       "MtCS1JSBlqSmDLQkNWWgJakpAy1JTRloSWrKQEtSU4MHOsneJE8mWUxy6yqvJ8nXx68/muSDQ88k\\\n",
       "SbNg0EAn2QLcCewD9gDXJdmzYtk+YPf4Yw741pAzSdKsGPoK+kpgsapOVNWLwCFg/4o1+4Fv17KH\\\n",
       "gIuSvHvguSSpvaEDvR14euJ4aXzubNdI0jln68Dvn1XO1etYQ5I5lm+BAPxvksfe4GydXQw8N+0h\\\n",
       "BrSZ97eZ9wabf3/vnfYAk4YO9BJwycTxDuDU61hDVc0D8wBJFqpqtL6j9uH+Ztdm3hucG/ub9gyT\\\n",
       "hr7F8TCwO8muJOcD1wKHV6w5DNww/m2OjwLPV9UvB55Lktob9Aq6qk4nuRm4H9gCHKyq40luGr9+\\\n",
       "ADgCXAMsAi8ANw45kyTNiqFvcVBVR1iO8OS5AxOfF/CFs3zb+XUYrTP3N7s2897A/W2oLPdRktSN\\\n",
       "j3pLUlOtA72ZHxNfw96uH+/p0SQPJrliGnO+Xq+1v4l1H07yUpLPbOR8b9Ra9pfkqiSPJDme5Ccb\\\n",
       "PeMbsYbvzwuT3JfkZ+P9zczPjpIcTPLMmX5Vt1VXqqrlB8s/VPwv4E+A84GfAXtWrLkG+AHLv0v9\\\n",
       "UeA/pj33Ou7tz4G3jz/fNyt7W+v+Jtb9G8s/o/jMtOde56/fRcDjwM7x8TunPfc67+/vga+NP98G\\\n",
       "/Bo4f9qzr3F/fwF8EHjsDK+36UrnK+jN/Jj4a+6tqh6sqt+MDx9i+ffDZ8VavnYAXwS+CzyzkcOt\\\n",
       "g7Xs77PAvVV1EqCqZmmPa9lfAW9LEuCtLAf69MaO+fpU1QMsz3smbbrSOdCb+THxs5378yz/G31W\\\n",
       "vOb+kmwHPg0cYPas5ev3HuDtSX6c5GiSGzZsujduLfv7BvA+lh8qOwZ8qape3pjxBtemK4P/mt0b\\\n",
       "sG6PiTe05rmTfILlQH9s0InW11r2dwdwS1W9tHwRNlPWsr+twIeAq4E3Az9N8lBVPTX0cOtgLfv7\\\n",
       "JPAI8FfAnwL/muTfq+p/Bp5tI7TpSudAr9tj4g2tae4kHwDuAvZV1a82aLb1sJb9jYBD4zhfDFyT\\\n",
       "5HRVfW9DJnxj1vq9+VxV/Rb4bZIHgCuAWQj0WvZ3I/CPtXzTdjHJz4HLgf/cmBEH1aYrnW9xbObH\\\n",
       "xF9zb0l2AvcCn5uRq65Jr7m/qtpVVZdV1WXAPwN/NyNxhrV9b34f+HiSrUkuAD4CPLHBc75ea9nf\\\n",
       "SZb/64Ak72L5jwyd2NAph9OmK22voGsTPya+xr19GXgH8M3xVebpmpE/UrPG/c2steyvqp5I8kPg\\\n",
       "UeBl4K6qmom/wLjGr99XgbuTHGP5lsAtVTUTf+UuyXeAq4CLkywBXwHOg35d8UlCSWqq8y0OSTqn\\\n",
       "GWhJaspAS1JTBlqSmjLQktSUgZakpgy0JDVloCWpKQMtSU0ZaElqykBLUlMGWpKaMtCS1JSBlqSm\\\n",
       "DLQkNWWgJakpAy1JTRloSWrKQEtSUwZakpoy0JLUlIGWpKYMtCQ1ZaAlqSkDLUlNGWhJaspAS1JT\\\n",
       "BlqSmjLQktTU/wEL/XQQwj3EvAAAAABJRU5ErkJggg==\\\n",
       "\"\n",
       "\n",
       "\n",
       "    /* set a timeout to make sure all the above elements are created before\n",
       "       the object is initialized. */\n",
       "    setTimeout(function() {\n",
       "        anim786bc8916257457ab8fefcdf50f5ac0a = new Animation(frames, img_id, slider_id, 500.0,\n",
       "                                 loop_select_id);\n",
       "    }, 0);\n",
       "  })()\n",
       "</script>\n"
      ],
      "text/plain": [
       "<IPython.core.display.HTML object>"
      ]
     },
     "execution_count": 5,
     "metadata": {},
     "output_type": "execute_result"
    }
   ],
   "source": [
    "from IPython.display import HTML\n",
    "HTML(ani.to_jshtml())"
   ]
  },
  {
   "cell_type": "markdown",
   "id": "021098e4-3b86-42b9-a2c8-1092991831fe",
   "metadata": {},
   "source": [
    "## Animating Plots\n",
    "\n",
    "Now that you understand the basics, it's time to apply this technique to animate plots. I will show 2 different approaches for animating matplotlib plots. I find it very helpful in visualizing iterative algorithms. We will take examples of two popular geometry simplication algorithms and visualize how they work.\n",
    "\n",
    "1. Visvalingam and Whyatt algorithm\n",
    "2. Douglas-Peucker algorithm"
   ]
  },
  {
   "cell_type": "markdown",
   "id": "6abf7288-f5be-49ae-8084-1ae8429753c3",
   "metadata": {},
   "source": [
    "Let's take a line segment defined by a list of (x,y) coordinates as below."
   ]
  },
  {
   "cell_type": "code",
   "execution_count": 6,
   "id": "abc358a9-a854-4405-8f74-3aeb7b25656d",
   "metadata": {},
   "outputs": [],
   "source": [
    "point_list = [(0,3), (1,0), (2,1), (3, 2), (5, 3), (7,4), (8,4), (10,3), (11,1), (12,1), (15,2), (17, 3), (18, 3), (20, 2)]"
   ]
  },
  {
   "cell_type": "markdown",
   "id": "499c3a5d-b1d7-4f64-aabd-ec2d8af4eb81",
   "metadata": {},
   "source": [
    "We will use the `shapely` library to create a `LineString` object and plot it."
   ]
  },
  {
   "cell_type": "code",
   "execution_count": 7,
   "id": "9027c330-cf9d-4e51-8f31-ad93094486b1",
   "metadata": {},
   "outputs": [
    {
     "data": {
      "image/png": "[encoded data removed]",
      "text/plain": [
       "<Figure size 1440x360 with 1 Axes>"
      ]
     },
     "metadata": {
      "needs_background": "light"
     },
     "output_type": "display_data"
    }
   ],
   "source": [
    "import matplotlib.pyplot as plt\n",
    "from shapely.geometry import LineString\n",
    "\n",
    "original = LineString(point_list)\n",
    "fig, ax = plt.subplots(1, 1)\n",
    "fig.set_size_inches(20,5)\n",
    "ax.plot(*original.xy, color='red', label='input', marker='o')\n",
    "ax.set_title('Original Line Segment', fontsize=20)\n",
    "plt.legend()\n",
    "plt.show()"
   ]
  },
  {
   "cell_type": "markdown",
   "id": "6d053b79-90dd-4155-a2c8-622fa92ac9cb",
   "metadata": {},
   "source": [
    "### Visualizing Visvalingam and Whyatt Algorithm\n",
    "\n",
    "This algorithm simplifies a line segment by successively removing vertices till the required number of vertices remain. It calculates the areas of triangle formed by three consecutive points and then removes the vertex with the smallest area. [Learn more](https://en.wikipedia.org/wiki/Visvalingam%E2%80%93Whyatt_algorithm)."
   ]
  },
  {
   "cell_type": "markdown",
   "id": "df4ff442-7ac5-479e-a6cf-765c79b999fc",
   "metadata": {},
   "source": [
    "Below is a python implementation of this algorithm. We use the `shapely` library to calculate polygon areas. This implementation uses a recursive approach to achieve the result."
   ]
  },
  {
   "cell_type": "code",
   "execution_count": 8,
   "id": "95db6f52-0338-4b24-a765-b41726a77aed",
   "metadata": {},
   "outputs": [],
   "source": [
    "import math\n",
    "from shapely.geometry import Polygon\n",
    "\n",
    "def visvalingam_whyatt_recursive(point_list, required_points):\n",
    "    # Make a copy of the original list since we will be modifying it\n",
    "    points = point_list.copy()\n",
    "    \n",
    "    if len(points) == required_points:\n",
    "        return points\n",
    "    \n",
    "    # Calculate traingle areas of each point\n",
    "    areas = []\n",
    "    for index, point in enumerate(points):\n",
    "        if index == 0 or index == len(points)-1:\n",
    "            areas.append(math.inf)\n",
    "        else:\n",
    "            p1 = points[index-1]\n",
    "            p2 = point\n",
    "            p3 = points[index+1]\n",
    "            polygon = Polygon([p1, p2, p3])\n",
    "            areas.append(polygon.area)\n",
    "    min_area = min(areas)\n",
    "    remove_index = areas.index(min_area)\n",
    "    # Remove the vertex with smallest area\n",
    "    points.pop(remove_index)\n",
    "    if len(points) == required_points:\n",
    "        return points\n",
    "    else:\n",
    "        # Call the function recursively with updated point list\n",
    "        return visvalingam_whyatt_recursive(points, required_points)"
   ]
  },
  {
   "cell_type": "markdown",
   "id": "98d9ddf1-8593-4813-a77c-8da7a8a3e4cc",
   "metadata": {},
   "source": [
    "Let's test the function and simplify the line to retain only 50% of the original vertices."
   ]
  },
  {
   "cell_type": "code",
   "execution_count": 9,
   "id": "cc0117e1-6c38-42ad-b6fe-82bc45607bbb",
   "metadata": {},
   "outputs": [
    {
     "name": "stdout",
     "output_type": "stream",
     "text": [
      "n=7\n",
      "original=[(0, 3), (1, 0), (2, 1), (3, 2), (5, 3), (7, 4), (8, 4), (10, 3), (11, 1), (12, 1), (15, 2), (17, 3), (18, 3), (20, 2)]\n",
      "result=[(0, 3), (1, 0), (7, 4), (10, 3), (11, 1), (18, 3), (20, 2)]\n"
     ]
    }
   ],
   "source": [
    "required_points = int(len(point_list)/2)\n",
    "simplified_list = visvalingam_whyatt_recursive(point_list, required_points)\n",
    "print('n={}'.format(required_points))\n",
    "print('original={}'.format(point_list))\n",
    "print('result={}'.format(simplified_list))"
   ]
  },
  {
   "cell_type": "code",
   "execution_count": 10,
   "id": "6e849599-7bdc-4af6-a8b7-ebe19af2c4fd",
   "metadata": {},
   "outputs": [
    {
     "data": {
      "image/png": "[encoded data removed]",
      "text/plain": [
       "<Figure size 1440x360 with 1 Axes>"
      ]
     },
     "metadata": {
      "needs_background": "light"
     },
     "output_type": "display_data"
    }
   ],
   "source": [
    "fig, ax = plt.subplots(1, 1)\n",
    "fig.set_size_inches(20,5)\n",
    "\n",
    "original = LineString(point_list)\n",
    "simplified = LineString(simplified_list)\n",
    "ax.plot(*original.xy, color='red', label='original', marker='o')\n",
    "ax.plot(*simplified.xy, color='blue', linestyle='dashed', label='simplified', marker='o')\n",
    "ax.set_title('Visvalingam and Whyatt Simplification', fontsize=20)\n",
    "plt.legend()\n",
    "plt.show()"
   ]
  },
  {
   "cell_type": "markdown",
   "id": "883d2dce-a667-4f37-82b9-7335c9823dc9",
   "metadata": {},
   "source": [
    "### Animating the Algorithm\n",
    "\n",
    "This algorithm removes 1 point at a time. We can visualize how the algorithm works by plotting the results of simplifying the original segment with successively smaller number of points. The `animate()` function gets input as the frame number `i` and we use it to calculate how many points to retain in each iteration. The resulting animation shows how the algorithm chooses the vertex with the smallest area first and removes it - continuing to do the same till only the start and end points remain."
   ]
  },
  {
   "cell_type": "code",
   "execution_count": 11,
   "id": "5d25b501-a039-4b05-b89e-fdd09e040814",
   "metadata": {},
   "outputs": [],
   "source": [
    "fig, ax = plt.subplots(1, 1)\n",
    "fig.set_size_inches(20,5)\n",
    "\n",
    "def animate(i):\n",
    "    ax.clear()\n",
    "    simplified_list = visvalingam_whyatt_recursive(point_list, len(point_list)-i)\n",
    "    original = LineString(point_list)\n",
    "    simplified = LineString(simplified_list)\n",
    "    ax.plot(*original.xy, color='red', label='original', marker='o')\n",
    "    ax.plot(*simplified.xy, color='blue', linestyle='dashed', label='simplified', marker='o')\n",
    "    ax.set_title('Visvalingam and Whyatt Algorithm - Eliminated {} Points'.format(i), fontsize=20) \n",
    "\n",
    "ani = FuncAnimation(fig, animate, frames=len(point_list)-1, interval=500, repeat=False)\n",
    "plt.close()"
   ]
  },
  {
   "cell_type": "code",
   "execution_count": 12,
   "id": "70d6e2dc-00af-4795-bea9-a002c4b21c8e",
   "metadata": {},
   "outputs": [],
   "source": [
    "from matplotlib.animation import PillowWriter\n",
    "# Save the animation as an animated GIF\n",
    "ani.save(\"visvalingam_whyatt.gif\", dpi=300, writer=PillowWriter(fps=1))"
   ]
  },
  {
   "cell_type": "markdown",
   "id": "f2107273-3749-4a47-88f1-7deec55f732f",
   "metadata": {},
   "source": [
    "<img src='Visvalingam_whyatt.gif'/>"
   ]
  },
  {
   "cell_type": "markdown",
   "id": "41c2324c-54c5-4c89-b27c-c783bc2d399a",
   "metadata": {},
   "source": [
    "### Visualizing Douglas-Peucker Algorithm\n",
    "\n",
    "The Douglas-Peucker algorithm successively removes vertices from a segment using the distance between the original segment and simplified segment. It removes points whose distance is less than the specified threshold (e) [Learn more](https://en.wikipedia.org/wiki/Ramer%E2%80%93Douglas%E2%80%93Peucker_algorithm)."
   ]
  },
  {
   "cell_type": "markdown",
   "id": "d673308d-e89b-4ec4-9ec5-2531bcd5e5d4",
   "metadata": {},
   "source": [
    "Below is a python implementation of this algorithm. We use the `shapely` library to calculate distance between a point and a line segment. This implementation uses a recursive approach to achieve the result. The implementation is adapted from https://github.com/fhirschmann/rdp"
   ]
  },
  {
   "cell_type": "code",
   "execution_count": 13,
   "id": "e29b3ee6-3aab-4bfd-bce1-966381cfaef0",
   "metadata": {},
   "outputs": [
    {
     "name": "stdout",
     "output_type": "stream",
     "text": [
      "e=1\n",
      "original=[(0, 3), (1, 0), (2, 1), (3, 2), (5, 3), (7, 4), (8, 4), (10, 3), (11, 1), (12, 1), (15, 2), (17, 3), (18, 3), (20, 2)]\n",
      "result=LINESTRING (0 3, 1 0, 7 4, 10 3, 11 1, 18 3, 20 2)\n"
     ]
    }
   ],
   "source": [
    "from shapely.geometry import Point, LineString\n",
    "\n",
    "def douglas_peuker_recursive(point_list, e):\n",
    "    dmax = 0\n",
    "    index = -1\n",
    "  \n",
    "    for i in range(1, len(point_list)):\n",
    "        point = Point(point_list[i])\n",
    "        line = LineString([point_list[0], point_list[-1]])\n",
    "        d = point.distance(line)\n",
    "        if d > dmax:\n",
    "            index = i\n",
    "            dmax = d\n",
    "    if dmax > e:\n",
    "        r1 = douglas_peuker_recursive(point_list[:index+1], e)\n",
    "        r2 = douglas_peuker_recursive(point_list[index:], e)\n",
    "        return r1[:-1] + r2\n",
    "    else:\n",
    "        return [point_list[0], point_list[-1]]\n",
    "e = 1\n",
    "simplified_list = douglas_peuker_recursive(point_list, e)\n",
    "print('e={}'.format(e))\n",
    "print('original={}'.format(point_list))\n",
    "print('result={}'.format(simplified))"
   ]
  },
  {
   "cell_type": "code",
   "execution_count": 14,
   "id": "8c556442-1741-4814-84f5-02ff52f6ae41",
   "metadata": {},
   "outputs": [
    {
     "data": {
      "image/png": "[encoded data removed]",
      "text/plain": [
       "<Figure size 1440x360 with 1 Axes>"
      ]
     },
     "metadata": {
      "needs_background": "light"
     },
     "output_type": "display_data"
    }
   ],
   "source": [
    "fig, ax = plt.subplots(1, 1)\n",
    "fig.set_size_inches(20,5)\n",
    "\n",
    "original = LineString(point_list)\n",
    "simplified = LineString(simplified_list)\n",
    "ax.plot(*original.xy, color='red', label='original', marker='o')\n",
    "ax.plot(*simplified.xy, color='blue', linestyle='dashed', label='simplified', marker='o')\n",
    "ax.set_title('Douglas-Peucker Simplification', fontsize=20)\n",
    "plt.legend()\n",
    "plt.show()"
   ]
  },
  {
   "cell_type": "markdown",
   "id": "8f4f989a-558d-4c81-8399-1699763dae81",
   "metadata": {},
   "source": [
    "### Animating the Algorithm\n",
    "\n",
    "The Douglas-Peucker algorithm is harder to visualize because each step is done recursively and you need to capture the result of it and plot it. Here I present another strategy to animate each step. We can capture the intermediate results in a separate list and use that list with the `animate()` function. To capture the output of each invocation of the function, we can use a decorator. Since our function is already defined, we can directly call the `track` function instead of the `@track` syntax for decorating the `douglas_peuker_recursive()` function.\n",
    "\n",
    "Remember that the recursive function may be called multiple times till it before it meets the condition to actually remove a point. So we save the input and output both to our temporary list."
   ]
  },
  {
   "cell_type": "code",
   "execution_count": 15,
   "id": "bb943b72-3a47-4713-8fde-33bc173c4373",
   "metadata": {},
   "outputs": [],
   "source": [
    "global steps_list\n",
    "steps_list = []\n",
    "\n",
    "def track(func):\n",
    "    def inner(*args, **kwargs):\n",
    "        global steps_list\n",
    "        # Save the input point list, and an empty list\n",
    "        steps_list.append((args[0], []))\n",
    "        output = func(*args, **kwargs)\n",
    "        # Save the input point list and the simplified point list\n",
    "        steps_list.append((args[0], output))\n",
    "        return output\n",
    "    return inner\n",
    "\n",
    "douglas_peuker_recursive = track(douglas_peuker_recursive)"
   ]
  },
  {
   "cell_type": "code",
   "execution_count": 16,
   "id": "55f6db4f-7115-42dc-9c24-db5c485621b2",
   "metadata": {},
   "outputs": [],
   "source": [
    "simplified_list = douglas_peuker_recursive(point_list, e)"
   ]
  },
  {
   "cell_type": "markdown",
   "id": "6ca08ec8-374f-478e-bb8f-bb121616ce3f",
   "metadata": {},
   "source": [
    "We have now captured each step of the algorithm in the `steps_list`. We can now write an animation function to display each step from it."
   ]
  },
  {
   "cell_type": "code",
   "execution_count": 17,
   "id": "cc951eec-7076-4704-a032-291ea7241eae",
   "metadata": {},
   "outputs": [],
   "source": [
    "fig, ax = plt.subplots(1, 1)\n",
    "fig.set_size_inches(20,5)\n",
    "\n",
    "def animate(frame):\n",
    "    ax.clear()\n",
    "    part, result = steps_list[frame]\n",
    "    original = LineString(point_list)\n",
    "    ax.plot(*original.xy, color='red', label='original', marker='o')\n",
    "    if result:\n",
    "        simplified = LineString(result)\n",
    "        ax.plot(*simplified.xy, color='blue', label='simplified', marker='o')\n",
    "    elif frame > 0:\n",
    "        part = LineString(part)\n",
    "        ax.plot(*part.xy, color='yellow', linestyle='dashed', label='part', marker='x')\n",
    "\n",
    "    ax.set_title('Douglas-Peucker - Step {}'.format(frame)) \n",
    "\n",
    "ani = FuncAnimation(fig, animate, frames=len(steps_list), interval=500, repeat=False)\n",
    "ani.save(\"simplication.gif\", dpi=300, writer=PillowWriter(fps=1))\n",
    "\n",
    "plt.close()"
   ]
  },
  {
   "cell_type": "code",
   "execution_count": 18,
   "id": "628a9619-92ab-465a-aa56-2de6871bbc75",
   "metadata": {},
   "outputs": [],
   "source": [
    "from matplotlib.animation import PillowWriter\n",
    "# Save the animation as an animated GIF\n",
    "ani.save(\"douglas_peucker.gif\", dpi=300, writer=PillowWriter(fps=1))"
   ]
  },
  {
   "cell_type": "markdown",
   "id": "92920265-bb79-4c9f-aa32-9b9986a9ff55",
   "metadata": {},
   "source": [
    "<img src='douglas_peucker.gif'/>"
   ]
  }
 ],
 "metadata": {
  "kernelspec": {
   "display_name": "Python 3 (ipykernel)",
   "language": "python",
   "name": "python3"
  },
  "language_info": {
   "codemirror_mode": {
    "name": "ipython",
    "version": 3
   },
   "file_extension": ".py",
   "mimetype": "text/x-python",
   "name": "python",
   "nbconvert_exporter": "python",
   "pygments_lexer": "ipython3",
   "version": "3.9.7"
  }
 },
 "nbformat": 4,
 "nbformat_minor": 5
}
