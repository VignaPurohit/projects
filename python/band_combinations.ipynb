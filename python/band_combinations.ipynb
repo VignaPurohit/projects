{
  "nbformat": 4,
  "nbformat_minor": 0,
  "metadata": {
    "colab": {
      "provenance": [],
      "authorship_tag": "ABX9TyPqT708edwHPVfOCTumR6TM"
    },
    "kernelspec": {
      "name": "python3",
      "display_name": "Python 3"
    },
    "language_info": {
      "name": "python"
    }
  },
  "cells": [
    {
      "cell_type": "markdown",
      "source": [
        "## Generating Band Combinations\n",
        "\n",
        "We have B total bands and want to generate all possible combinations of length N from the list.\n",
        "\n",
        "Our list consist of 17 GLCM bands and 3 bands from PCA of the original bands."
      ],
      "metadata": {
        "id": "SDTFHbuduWu2"
      }
    },
    {
      "cell_type": "code",
      "source": [
        "bands_list = ['b1_asm', 'b1_contrast', 'b1_corr', 'b1_var',\n",
        "              'b1_idm', 'b1_savg', 'b1_svar', 'b1_sent', 'b1_ent',\n",
        "              'b1_dvar', 'b1_dent', 'b1_imcorr1', 'b1_imcorr2',\n",
        "              'b1_diss', 'b1_inertia', 'b1_shade', 'b1_prom', \n",
        "              'pc1','pc2','pc3']\n",
        "len(bands_list)"
      ],
      "metadata": {
        "colab": {
          "base_uri": "https://localhost:8080/"
        },
        "id": "hGFLi73yu9lD",
        "outputId": "b2ae6c19-6dc9-4e9f-deef-9f4feacf4122"
      },
      "execution_count": 15,
      "outputs": [
        {
          "output_type": "execute_result",
          "data": {
            "text/plain": [
              "20"
            ]
          },
          "metadata": {},
          "execution_count": 15
        }
      ]
    },
    {
      "cell_type": "code",
      "source": [
        "import itertools\n",
        "\n",
        "def get_combinations(items, n):\n",
        "    return list(itertools.combinations(items, n))\n",
        "\n",
        "combinations = get_combinations(bands_list, 4)\n",
        "len(combinations)\n"
      ],
      "metadata": {
        "colab": {
          "base_uri": "https://localhost:8080/"
        },
        "id": "lI7k7n6WvKhY",
        "outputId": "96cee53c-f215-4106-d809-a58e34bd4ab9"
      },
      "execution_count": 16,
      "outputs": [
        {
          "output_type": "execute_result",
          "data": {
            "text/plain": [
              "4845"
            ]
          },
          "metadata": {},
          "execution_count": 16
        }
      ]
    },
    {
      "cell_type": "markdown",
      "source": [
        "We also some fixed bands that must be present. Add them to each combination."
      ],
      "metadata": {
        "id": "SGQaMfDrvqzi"
      }
    },
    {
      "cell_type": "code",
      "source": [
        "fixed_bands = ['orto', 'dem', 'slope', 'curvature', 'terraces']\n",
        "band_combinations = [fixed_bands + list(x) for x in combinations]"
      ],
      "metadata": {
        "id": "8h_arZn7vcar"
      },
      "execution_count": 17,
      "outputs": []
    },
    {
      "cell_type": "markdown",
      "source": [
        "Format the result as JSON."
      ],
      "metadata": {
        "id": "Z8iOUe01wTRc"
      }
    },
    {
      "cell_type": "code",
      "source": [
        "import json\n",
        "output = json.dumps(band_combinations)"
      ],
      "metadata": {
        "id": "YPIf9qfIv_oH"
      },
      "execution_count": 19,
      "outputs": []
    },
    {
      "cell_type": "markdown",
      "source": [
        "Write the results to a file."
      ],
      "metadata": {
        "id": "i5mkhOY3zHlR"
      }
    },
    {
      "cell_type": "code",
      "source": [
        "filename = 'combinations.js'\n",
        "with open(filename, 'w') as f:\n",
        "  f.write(output)"
      ],
      "metadata": {
        "id": "5QPF-iS9wnXs"
      },
      "execution_count": 20,
      "outputs": []
    }
  ]
}