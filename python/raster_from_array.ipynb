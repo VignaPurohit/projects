{
 "cells": [
  {
   "cell_type": "markdown",
   "id": "7999aec0-7a91-49b9-8c5a-062ea83f4ac2",
   "metadata": {},
   "source": [
    "## Create Raster from Array"
   ]
  },
  {
   "cell_type": "code",
   "execution_count": 54,
   "id": "3202cc14-9826-4644-b480-84aeb423487f",
   "metadata": {},
   "outputs": [],
   "source": [
    "import numpy as np\n",
    "import rasterio\n",
    "from rasterio.transform import Affine"
   ]
  },
  {
   "cell_type": "markdown",
   "id": "c2185e8d-f6c0-4d90-a8cc-1b24d4a6860b",
   "metadata": {},
   "source": [
    "We want to create a 4x4 image. Define a 2-dimentional array. Since we are storing small integers set the data type to **Byte** (uint8). "
   ]
  },
  {
   "cell_type": "code",
   "execution_count": 55,
   "id": "9dc24184-de76-45cf-93fb-227afcafc1dd",
   "metadata": {},
   "outputs": [],
   "source": [
    "array = np.array([\n",
    "    [0, 0, 1, 1],\n",
    "    [0, 0, 1, 1],\n",
    "    [0, 2, 2, 2],\n",
    "    [2, 2, 3, 3]\n",
    "], dtype=np.uint8)"
   ]
  },
  {
   "cell_type": "markdown",
   "id": "2e3ada82-b785-499b-9657-284e4bf624dd",
   "metadata": {},
   "source": [
    "Geospatial images need a 'transform' that defines the pixel sizes and location of the upper-left pixel."
   ]
  },
  {
   "cell_type": "markdown",
   "id": "f7d96506-175c-4927-8fa8-41dfd73b0ceb",
   "metadata": {},
   "source": [
    "We define the transform using GDAL's order of coefficients. https://gdal.org/tutorials/geotransforms_tut.html\n",
    "\n",
    "The following defines an image with X,Y coordinates of (780850,1432187) and a resolution of 1000."
   ]
  },
  {
   "cell_type": "code",
   "execution_count": 56,
   "id": "9bc0a835-f6e5-47e8-88c4-641a1dbc92b3",
   "metadata": {},
   "outputs": [],
   "source": [
    "transform = Affine.from_gdal(780850, 1000, 0, 1432187, 0, -1000)"
   ]
  },
  {
   "cell_type": "markdown",
   "id": "dd49e81f-e61a-4db0-81f7-9e4c9a9633de",
   "metadata": {},
   "source": [
    "Along with the transform, we need to choose a Coordinate Reference System (CRS). We use UTM Zone 43N - EPSG:32643 as the CRS."
   ]
  },
  {
   "cell_type": "code",
   "execution_count": 57,
   "id": "123aacf9-3e8e-4e08-8eb0-6b2dd1ecad13",
   "metadata": {},
   "outputs": [],
   "source": [
    "crs='EPSG:32643'"
   ]
  },
  {
   "cell_type": "markdown",
   "id": "c80f731f-465b-4b08-bc80-266041156e0a",
   "metadata": {},
   "source": [
    "Create a new RasterIO dataset and write the array as a band."
   ]
  },
  {
   "cell_type": "code",
   "execution_count": 58,
   "id": "5faef7d3-67eb-447d-897e-066a2865318f",
   "metadata": {},
   "outputs": [],
   "source": [
    "output_path = 'image.tif'\n",
    "\n",
    "new_dataset = rasterio.open(output_path, 'w', \n",
    "                            driver='GTiff',\n",
    "                            height=array.shape[0],\n",
    "                            width=array.shape[1],\n",
    "                            count=1,\n",
    "                            dtype=array.dtype,\n",
    "                            crs=crs,\n",
    "                            transform=transform)\n",
    "new_dataset.write(array, 1)\n",
    "new_dataset.close()"
   ]
  }
 ],
 "metadata": {
  "kernelspec": {
   "display_name": "Python 3 (ipykernel)",
   "language": "python",
   "name": "python3"
  },
  "language_info": {
   "codemirror_mode": {
    "name": "ipython",
    "version": 3
   },
   "file_extension": ".py",
   "mimetype": "text/x-python",
   "name": "python",
   "nbconvert_exporter": "python",
   "pygments_lexer": "ipython3",
   "version": "3.9.7"
  }
 },
 "nbformat": 4,
 "nbformat_minor": 5
}
