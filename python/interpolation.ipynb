{
 "cells": [
  {
   "cell_type": "markdown",
   "id": "447fd058-f6d3-44c4-9afa-a0708ddb4163",
   "metadata": {},
   "source": [
    "# Interpolating Points Along Lines\n",
    "\n",
    "This notebook shows how to take a line layer and generate equally spaced points along each line feature using GeoPandas.\n",
    "\n",
    "We use `shapely` library for performing the interpolation. \n",
    "\n",
    "![](line_interpolation.png)"
   ]
  },
  {
   "cell_type": "code",
   "execution_count": 1,
   "id": "11e026cb-c67a-4630-91e8-443bd16b39e2",
   "metadata": {},
   "outputs": [],
   "source": [
    "import geopandas as gpd\n",
    "from shapely.geometry import MultiPoint"
   ]
  },
  {
   "cell_type": "markdown",
   "id": "2a33f4dd-bda7-41e1-bd20-dcf40bb7e30f",
   "metadata": {},
   "source": [
    "We read a sample line layer containing 2 line features."
   ]
  },
  {
   "cell_type": "code",
   "execution_count": 2,
   "id": "8915069d-8663-4a60-817a-19579e6ea047",
   "metadata": {},
   "outputs": [],
   "source": [
    "gdf = gpd.read_file('line.shp')"
   ]
  },
  {
   "cell_type": "code",
   "execution_count": 3,
   "id": "73d35fb0-fe94-42c4-90d3-6dfb26fdd2da",
   "metadata": {},
   "outputs": [
    {
     "data": {
      "text/html": [
       "<div>\n",
       "<style scoped>\n",
       "    .dataframe tbody tr th:only-of-type {\n",
       "        vertical-align: middle;\n",
       "    }\n",
       "\n",
       "    .dataframe tbody tr th {\n",
       "        vertical-align: top;\n",
       "    }\n",
       "\n",
       "    .dataframe thead th {\n",
       "        text-align: right;\n",
       "    }\n",
       "</style>\n",
       "<table border=\"1\" class=\"dataframe\">\n",
       "  <thead>\n",
       "    <tr style=\"text-align: right;\">\n",
       "      <th></th>\n",
       "      <th>FID</th>\n",
       "      <th>geometry</th>\n",
       "    </tr>\n",
       "  </thead>\n",
       "  <tbody>\n",
       "    <tr>\n",
       "      <th>0</th>\n",
       "      <td>0</td>\n",
       "      <td>LINESTRING (503423.417 492226.902, 545830.203 ...</td>\n",
       "    </tr>\n",
       "    <tr>\n",
       "      <th>1</th>\n",
       "      <td>1</td>\n",
       "      <td>LINESTRING (508389.969 484415.756, 522917.195 ...</td>\n",
       "    </tr>\n",
       "  </tbody>\n",
       "</table>\n",
       "</div>"
      ],
      "text/plain": [
       "   FID                                           geometry\n",
       "0    0  LINESTRING (503423.417 492226.902, 545830.203 ...\n",
       "1    1  LINESTRING (508389.969 484415.756, 522917.195 ..."
      ]
     },
     "execution_count": 3,
     "metadata": {},
     "output_type": "execute_result"
    }
   ],
   "source": [
    "gdf"
   ]
  },
  {
   "cell_type": "markdown",
   "id": "1e090d40-3398-46fe-9a98-73915fccb240",
   "metadata": {},
   "source": [
    "Check and verify that the CRS is a projected CRS. The layer must be in a Projected CRS and the distance units must be in the same unit of the CRS. This code will **NOT** work on layers which are in EPSG:4326 CRS. Re-project your data to a projected CRS before using."
   ]
  },
  {
   "cell_type": "code",
   "execution_count": 4,
   "id": "7b5b49cf-7dbe-413a-87d4-ae3e69ef362a",
   "metadata": {},
   "outputs": [
    {
     "data": {
      "text/plain": [
       "<Projected CRS: EPSG:27700>\n",
       "Name: OSGB36 / British National Grid\n",
       "Axis Info [cartesian]:\n",
       "- E[east]: Easting (metre)\n",
       "- N[north]: Northing (metre)\n",
       "Area of Use:\n",
       "- name: United Kingdom (UK) - offshore to boundary of UKCS within 49°45'N to 61°N and 9°W to 2°E; onshore Great Britain (England, Wales and Scotland). Isle of Man onshore.\n",
       "- bounds: (-9.0, 49.75, 2.01, 61.01)\n",
       "Coordinate Operation:\n",
       "- name: British National Grid\n",
       "- method: Transverse Mercator\n",
       "Datum: Ordnance Survey of Great Britain 1936\n",
       "- Ellipsoid: Airy 1830\n",
       "- Prime Meridian: Greenwich"
      ]
     },
     "execution_count": 4,
     "metadata": {},
     "output_type": "execute_result"
    }
   ],
   "source": [
    "gdf.crs"
   ]
  },
  {
   "cell_type": "markdown",
   "id": "48d6efe6-9898-46c7-8811-f7d3158adc9d",
   "metadata": {},
   "source": [
    "Write a function that will be applied on each feature. The code of this function is adapted from [this post](https://stackoverflow.com/questions/34906124/interpolating-every-x-distance-along-multiline-in-shapely/35025274#35025274)."
   ]
  },
  {
   "cell_type": "code",
   "execution_count": 5,
   "id": "dcd85b95-c03f-474e-81e2-ea3ca6db3698",
   "metadata": {},
   "outputs": [],
   "source": [
    "# distance in meters\n",
    "distance = 1000\n",
    "\n",
    "def get_points(row):\n",
    "    geometry = row.geometry\n",
    "    num_vert = int(round(geometry.length / distance))\n",
    "\n",
    "    if num_vert == 0:\n",
    "        num_vert = 1\n",
    "    \n",
    "    points = []\n",
    "    for n in range(num_vert + 1):\n",
    "        point = geometry.interpolate(n/num_vert, normalized=True)\n",
    "        points.append(point)\n",
    "    return MultiPoint(points)\n"
   ]
  },
  {
   "cell_type": "markdown",
   "id": "9a6200cc-16b2-4ece-94c9-920a2b7a3692",
   "metadata": {},
   "source": [
    "Apply the function on each line in the layer and save to a new column"
   ]
  },
  {
   "cell_type": "code",
   "execution_count": 6,
   "id": "4320f460-15de-4565-89e2-94d2ede130b4",
   "metadata": {},
   "outputs": [],
   "source": [
    "gdf['points'] = gdf.apply(get_points, axis=1)"
   ]
  },
  {
   "cell_type": "markdown",
   "id": "83eb0b66-23af-438c-9328-01452bdcde9b",
   "metadata": {},
   "source": [
    "Set the new column as the geometry and remove the old one"
   ]
  },
  {
   "cell_type": "code",
   "execution_count": 7,
   "id": "6d8ad401-ca4c-43b4-b3fc-ba1951a1437d",
   "metadata": {},
   "outputs": [
    {
     "data": {
      "text/html": [
       "<div>\n",
       "<style scoped>\n",
       "    .dataframe tbody tr th:only-of-type {\n",
       "        vertical-align: middle;\n",
       "    }\n",
       "\n",
       "    .dataframe tbody tr th {\n",
       "        vertical-align: top;\n",
       "    }\n",
       "\n",
       "    .dataframe thead th {\n",
       "        text-align: right;\n",
       "    }\n",
       "</style>\n",
       "<table border=\"1\" class=\"dataframe\">\n",
       "  <thead>\n",
       "    <tr style=\"text-align: right;\">\n",
       "      <th></th>\n",
       "      <th>FID</th>\n",
       "      <th>points</th>\n",
       "    </tr>\n",
       "  </thead>\n",
       "  <tbody>\n",
       "    <tr>\n",
       "      <th>0</th>\n",
       "      <td>0</td>\n",
       "      <td>MULTIPOINT (503423.417 492226.902, 504345.304 ...</td>\n",
       "    </tr>\n",
       "    <tr>\n",
       "      <th>1</th>\n",
       "      <td>1</td>\n",
       "      <td>MULTIPOINT (508389.969 484415.756, 509248.075 ...</td>\n",
       "    </tr>\n",
       "  </tbody>\n",
       "</table>\n",
       "</div>"
      ],
      "text/plain": [
       "   FID                                             points\n",
       "0    0  MULTIPOINT (503423.417 492226.902, 504345.304 ...\n",
       "1    1  MULTIPOINT (508389.969 484415.756, 509248.075 ..."
      ]
     },
     "execution_count": 7,
     "metadata": {},
     "output_type": "execute_result"
    }
   ],
   "source": [
    "gdf = gdf.set_geometry('points')\n",
    "gdf = gdf.drop(columns=['geometry'])\n",
    "gdf"
   ]
  },
  {
   "cell_type": "markdown",
   "id": "70e85290-7cc8-4596-a5e5-0070c44b4f37",
   "metadata": {},
   "source": [
    "Each line has many points associated with it as a MultiPoint feature. Convert them to individual features"
   ]
  },
  {
   "cell_type": "code",
   "execution_count": 8,
   "id": "7e649888-07f4-4124-b909-d4f4e5261ea0",
   "metadata": {},
   "outputs": [
    {
     "data": {
      "text/html": [
       "<div>\n",
       "<style scoped>\n",
       "    .dataframe tbody tr th:only-of-type {\n",
       "        vertical-align: middle;\n",
       "    }\n",
       "\n",
       "    .dataframe tbody tr th {\n",
       "        vertical-align: top;\n",
       "    }\n",
       "\n",
       "    .dataframe thead th {\n",
       "        text-align: right;\n",
       "    }\n",
       "</style>\n",
       "<table border=\"1\" class=\"dataframe\">\n",
       "  <thead>\n",
       "    <tr style=\"text-align: right;\">\n",
       "      <th></th>\n",
       "      <th></th>\n",
       "      <th>FID</th>\n",
       "      <th>points</th>\n",
       "    </tr>\n",
       "  </thead>\n",
       "  <tbody>\n",
       "    <tr>\n",
       "      <th rowspan=\"5\" valign=\"top\">0</th>\n",
       "      <th>0</th>\n",
       "      <td>0</td>\n",
       "      <td>POINT (503423.417 492226.902)</td>\n",
       "    </tr>\n",
       "    <tr>\n",
       "      <th>1</th>\n",
       "      <td>0</td>\n",
       "      <td>POINT (504345.304 492609.275)</td>\n",
       "    </tr>\n",
       "    <tr>\n",
       "      <th>2</th>\n",
       "      <td>0</td>\n",
       "      <td>POINT (505267.190 492991.649)</td>\n",
       "    </tr>\n",
       "    <tr>\n",
       "      <th>3</th>\n",
       "      <td>0</td>\n",
       "      <td>POINT (506189.077 493374.022)</td>\n",
       "    </tr>\n",
       "    <tr>\n",
       "      <th>4</th>\n",
       "      <td>0</td>\n",
       "      <td>POINT (507110.963 493756.396)</td>\n",
       "    </tr>\n",
       "    <tr>\n",
       "      <th>...</th>\n",
       "      <th>...</th>\n",
       "      <td>...</td>\n",
       "      <td>...</td>\n",
       "    </tr>\n",
       "    <tr>\n",
       "      <th rowspan=\"5\" valign=\"top\">1</th>\n",
       "      <th>45</th>\n",
       "      <td>1</td>\n",
       "      <td>POINT (547131.143 502101.348)</td>\n",
       "    </tr>\n",
       "    <tr>\n",
       "      <th>46</th>\n",
       "      <td>1</td>\n",
       "      <td>POINT (547654.000 502960.327)</td>\n",
       "    </tr>\n",
       "    <tr>\n",
       "      <th>47</th>\n",
       "      <td>1</td>\n",
       "      <td>POINT (548176.856 503819.306)</td>\n",
       "    </tr>\n",
       "    <tr>\n",
       "      <th>48</th>\n",
       "      <td>1</td>\n",
       "      <td>POINT (548699.713 504678.284)</td>\n",
       "    </tr>\n",
       "    <tr>\n",
       "      <th>49</th>\n",
       "      <td>1</td>\n",
       "      <td>POINT (549222.570 505537.263)</td>\n",
       "    </tr>\n",
       "  </tbody>\n",
       "</table>\n",
       "<p>97 rows × 2 columns</p>\n",
       "</div>"
      ],
      "text/plain": [
       "      FID                         points\n",
       "0 0     0  POINT (503423.417 492226.902)\n",
       "  1     0  POINT (504345.304 492609.275)\n",
       "  2     0  POINT (505267.190 492991.649)\n",
       "  3     0  POINT (506189.077 493374.022)\n",
       "  4     0  POINT (507110.963 493756.396)\n",
       "...   ...                            ...\n",
       "1 45    1  POINT (547131.143 502101.348)\n",
       "  46    1  POINT (547654.000 502960.327)\n",
       "  47    1  POINT (548176.856 503819.306)\n",
       "  48    1  POINT (548699.713 504678.284)\n",
       "  49    1  POINT (549222.570 505537.263)\n",
       "\n",
       "[97 rows x 2 columns]"
      ]
     },
     "execution_count": 8,
     "metadata": {},
     "output_type": "execute_result"
    }
   ],
   "source": [
    "gdf_final = gdf.explode()\n",
    "gdf_final"
   ]
  },
  {
   "cell_type": "markdown",
   "id": "67e92565-df5a-4eb3-99d6-2dace3c1c511",
   "metadata": {},
   "source": [
    "Save the output as a shapefile."
   ]
  },
  {
   "cell_type": "code",
   "execution_count": 99,
   "id": "c8df105b-6d90-45e4-a9b8-ae1850f3fb98",
   "metadata": {},
   "outputs": [],
   "source": [
    "gdf_final.to_file('interpolated.shp')"
   ]
  }
 ],
 "metadata": {
  "kernelspec": {
   "display_name": "Python 3 (ipykernel)",
   "language": "python",
   "name": "python3"
  },
  "language_info": {
   "codemirror_mode": {
    "name": "ipython",
    "version": 3
   },
   "file_extension": ".py",
   "mimetype": "text/x-python",
   "name": "python",
   "nbconvert_exporter": "python",
   "pygments_lexer": "ipython3",
   "version": "3.9.7"
  }
 },
 "nbformat": 4,
 "nbformat_minor": 5
}
