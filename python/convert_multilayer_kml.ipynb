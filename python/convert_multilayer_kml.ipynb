{
  "cells": [
    {
      "cell_type": "markdown",
      "metadata": {
        "id": "Q0tHKpvv4wAT"
      },
      "source": [
        "# Converting Multi-layer KML to GeoPackage\n",
        "\n",
        "We have a complex KML file with 2000+ individual layers. Each layer contains only a single feature but having large number of layers means it takes a long time to read and parse them. We can use GeoPandas to read all the layers and merge layers having the same geometry and write the cleaned layers to a GeoPacjage."
      ]
    },
    {
      "cell_type": "markdown",
      "metadata": {
        "id": "5hm2Ypxk4wAW"
      },
      "source": [
        "## Setup\n",
        "\n",
        "The following blocks of code will install the required packages and download the datasets to your Colab environment."
      ]
    },
    {
      "cell_type": "code",
      "execution_count": 2,
      "metadata": {
        "id": "zGzb4G0m4wAX"
      },
      "outputs": [],
      "source": [
        "try:\n",
        "    import geopandas\n",
        "except ModuleNotFoundError:\n",
        "    if 'google.colab' in str(get_ipython()):\n",
        "        !apt install -qq libspatialindex-dev\n",
        "        !pip install fiona shapely pyproj rtree --quiet\n",
        "        !pip install geopandas --quiet\n",
        "    else:\n",
        "        print('geopandas not found, please install via conda in your environment')"
      ]
    },
    {
      "cell_type": "code",
      "execution_count": null,
      "metadata": {
        "id": "2DA0u8bm4wAY"
      },
      "outputs": [],
      "source": [
        "import os\n",
        "import pandas as pd\n",
        "import geopandas as gpd\n",
        "import fiona"
      ]
    },
    {
      "cell_type": "markdown",
      "source": [
        "Create a list of layers as a Pandas Series."
      ],
      "metadata": {
        "id": "IapiDXY__67n"
      }
    },
    {
      "cell_type": "code",
      "source": [
        "file_path = 'input.kml'\n",
        "layers = pd.Series(fiona.listlayers(file_path))\n",
        "layers"
      ],
      "metadata": {
        "id": "CzQMdXBk5nim",
        "outputId": "2f01e2ff-3408-4f3c-d351-603d8f7b6bb3",
        "colab": {
          "base_uri": "https://localhost:8080/",
          "height": 36
        }
      },
      "execution_count": null,
      "outputs": [
        {
          "output_type": "execute_result",
          "data": {
            "text/plain": [
              "'Text [7193A]'"
            ],
            "application/vnd.google.colaboratory.intrinsic+json": {
              "type": "string"
            }
          },
          "metadata": {},
          "execution_count": 5
        }
      ]
    },
    {
      "cell_type": "markdown",
      "source": [
        "Iterate through each layer and read it using GeoPandas. Create a list of GeoDataFrames for each layer.\n",
        "\n",
        "This step can take time."
      ],
      "metadata": {
        "id": "87OQHFTPAF4y"
      }
    },
    {
      "cell_type": "code",
      "execution_count": null,
      "metadata": {
        "id": "5ymb_dco4wAY",
        "outputId": "693be0bc-6926-4095-d57d-d74ab46cf6be",
        "colab": {
          "base_uri": "https://localhost:8080/"
        }
      },
      "outputs": [
        {
          "output_type": "stream",
          "name": "stderr",
          "text": [
            "2182it [08:48,  4.13it/s]\n"
          ]
        }
      ],
      "source": [
        "gpd.io.file.fiona.drvsupport.supported_drivers['KML'] = 'rw'\n",
        "\n",
        "gdf_list = []\n",
        "\n",
        "for index, layer in layers.items():\n",
        "      gdf = gpd.read_file(file_path, layer=layer)\n",
        "      gdf_list.append(gdf)\n",
        "      print('Processed item {}: {}'.format(index+1, layer))\n",
        "      "
      ]
    },
    {
      "cell_type": "markdown",
      "source": [
        "Merge the laers into a single GeoDataFrame."
      ],
      "metadata": {
        "id": "2QEFADQJAR-2"
      }
    },
    {
      "cell_type": "code",
      "source": [
        "merged = pd.concat(gdf_list)\n",
        "merged"
      ],
      "metadata": {
        "id": "Jqs2dU0z6zxI",
        "outputId": "cafdd21a-3e30-450b-bb55-02de5a299cce",
        "colab": {
          "base_uri": "https://localhost:8080/",
          "height": 424
        }
      },
      "execution_count": null,
      "outputs": [
        {
          "output_type": "execute_result",
          "data": {
            "text/plain": [
              "                                                 Name  \\\n",
              "0                                              B2-461   \n",
              "0                                     Point [71939]:0   \n",
              "0                                              B2-460   \n",
              "0                                     Point [71936]:0   \n",
              "0                                              B2-459   \n",
              "..                                                ...   \n",
              "3   Marino Foods Pvt Limited, Biscuit Plant, Raja ...   \n",
              "4                           Real Agro Pvt Ltd Factory   \n",
              "5                               Sumo Biscuits Pvt Ltd   \n",
              "6                                      Muvao Naturals   \n",
              "7                             Tunav food products LLP   \n",
              "\n",
              "                                          Description  \\\n",
              "0                                                       \n",
              "0   <table> <tr> <td align=\"right\">Generic Propert...   \n",
              "0                                                       \n",
              "0   <table> <tr> <td align=\"right\">Generic Propert...   \n",
              "0                                                       \n",
              "..                                                ...   \n",
              "3                                                       \n",
              "4                                                       \n",
              "5                                                       \n",
              "6                                                       \n",
              "7                                                       \n",
              "\n",
              "                                             geometry  \n",
              "0                 POINT Z (78.50425 17.68199 0.00000)  \n",
              "0   MULTILINESTRING Z ((78.50424 17.68198 0.00000,...  \n",
              "0                 POINT Z (78.49496 17.68535 0.00000)  \n",
              "0   MULTILINESTRING Z ((78.49496 17.68535 0.00000,...  \n",
              "0                 POINT Z (78.49141 17.69321 0.00000)  \n",
              "..                                                ...  \n",
              "3                 POINT Z (78.54023 17.63764 0.00000)  \n",
              "4                 POINT Z (78.54321 17.63946 0.00000)  \n",
              "5                 POINT Z (78.50614 17.62196 0.00000)  \n",
              "6                 POINT Z (78.52109 17.63342 0.00000)  \n",
              "7                 POINT Z (78.51884 17.63403 0.00000)  \n",
              "\n",
              "[2189 rows x 3 columns]"
            ],
            "text/html": [
              "\n",
              "  <div id=\"df-e1907bc1-0c76-471e-851d-4b331d4486da\">\n",
              "    <div class=\"colab-df-container\">\n",
              "      <div>\n",
              "<style scoped>\n",
              "    .dataframe tbody tr th:only-of-type {\n",
              "        vertical-align: middle;\n",
              "    }\n",
              "\n",
              "    .dataframe tbody tr th {\n",
              "        vertical-align: top;\n",
              "    }\n",
              "\n",
              "    .dataframe thead th {\n",
              "        text-align: right;\n",
              "    }\n",
              "</style>\n",
              "<table border=\"1\" class=\"dataframe\">\n",
              "  <thead>\n",
              "    <tr style=\"text-align: right;\">\n",
              "      <th></th>\n",
              "      <th>Name</th>\n",
              "      <th>Description</th>\n",
              "      <th>geometry</th>\n",
              "    </tr>\n",
              "  </thead>\n",
              "  <tbody>\n",
              "    <tr>\n",
              "      <th>0</th>\n",
              "      <td>B2-461</td>\n",
              "      <td></td>\n",
              "      <td>POINT Z (78.50425 17.68199 0.00000)</td>\n",
              "    </tr>\n",
              "    <tr>\n",
              "      <th>0</th>\n",
              "      <td>Point [71939]:0</td>\n",
              "      <td>&lt;table&gt; &lt;tr&gt; &lt;td align=\"right\"&gt;Generic Propert...</td>\n",
              "      <td>MULTILINESTRING Z ((78.50424 17.68198 0.00000,...</td>\n",
              "    </tr>\n",
              "    <tr>\n",
              "      <th>0</th>\n",
              "      <td>B2-460</td>\n",
              "      <td></td>\n",
              "      <td>POINT Z (78.49496 17.68535 0.00000)</td>\n",
              "    </tr>\n",
              "    <tr>\n",
              "      <th>0</th>\n",
              "      <td>Point [71936]:0</td>\n",
              "      <td>&lt;table&gt; &lt;tr&gt; &lt;td align=\"right\"&gt;Generic Propert...</td>\n",
              "      <td>MULTILINESTRING Z ((78.49496 17.68535 0.00000,...</td>\n",
              "    </tr>\n",
              "    <tr>\n",
              "      <th>0</th>\n",
              "      <td>B2-459</td>\n",
              "      <td></td>\n",
              "      <td>POINT Z (78.49141 17.69321 0.00000)</td>\n",
              "    </tr>\n",
              "    <tr>\n",
              "      <th>...</th>\n",
              "      <td>...</td>\n",
              "      <td>...</td>\n",
              "      <td>...</td>\n",
              "    </tr>\n",
              "    <tr>\n",
              "      <th>3</th>\n",
              "      <td>Marino Foods Pvt Limited, Biscuit Plant, Raja ...</td>\n",
              "      <td></td>\n",
              "      <td>POINT Z (78.54023 17.63764 0.00000)</td>\n",
              "    </tr>\n",
              "    <tr>\n",
              "      <th>4</th>\n",
              "      <td>Real Agro Pvt Ltd Factory</td>\n",
              "      <td></td>\n",
              "      <td>POINT Z (78.54321 17.63946 0.00000)</td>\n",
              "    </tr>\n",
              "    <tr>\n",
              "      <th>5</th>\n",
              "      <td>Sumo Biscuits Pvt Ltd</td>\n",
              "      <td></td>\n",
              "      <td>POINT Z (78.50614 17.62196 0.00000)</td>\n",
              "    </tr>\n",
              "    <tr>\n",
              "      <th>6</th>\n",
              "      <td>Muvao Naturals</td>\n",
              "      <td></td>\n",
              "      <td>POINT Z (78.52109 17.63342 0.00000)</td>\n",
              "    </tr>\n",
              "    <tr>\n",
              "      <th>7</th>\n",
              "      <td>Tunav food products LLP</td>\n",
              "      <td></td>\n",
              "      <td>POINT Z (78.51884 17.63403 0.00000)</td>\n",
              "    </tr>\n",
              "  </tbody>\n",
              "</table>\n",
              "<p>2189 rows × 3 columns</p>\n",
              "</div>\n",
              "      <button class=\"colab-df-convert\" onclick=\"convertToInteractive('df-e1907bc1-0c76-471e-851d-4b331d4486da')\"\n",
              "              title=\"Convert this dataframe to an interactive table.\"\n",
              "              style=\"display:none;\">\n",
              "        \n",
              "  <svg xmlns=\"http://www.w3.org/2000/svg\" height=\"24px\"viewBox=\"0 0 24 24\"\n",
              "       width=\"24px\">\n",
              "    <path d=\"M0 0h24v24H0V0z\" fill=\"none\"/>\n",
              "    <path d=\"M18.56 5.44l.94 2.06.94-2.06 2.06-.94-2.06-.94-.94-2.06-.94 2.06-2.06.94zm-11 1L8.5 8.5l.94-2.06 2.06-.94-2.06-.94L8.5 2.5l-.94 2.06-2.06.94zm10 10l.94 2.06.94-2.06 2.06-.94-2.06-.94-.94-2.06-.94 2.06-2.06.94z\"/><path d=\"M17.41 7.96l-1.37-1.37c-.4-.4-.92-.59-1.43-.59-.52 0-1.04.2-1.43.59L10.3 9.45l-7.72 7.72c-.78.78-.78 2.05 0 2.83L4 21.41c.39.39.9.59 1.41.59.51 0 1.02-.2 1.41-.59l7.78-7.78 2.81-2.81c.8-.78.8-2.07 0-2.86zM5.41 20L4 18.59l7.72-7.72 1.47 1.35L5.41 20z\"/>\n",
              "  </svg>\n",
              "      </button>\n",
              "      \n",
              "  <style>\n",
              "    .colab-df-container {\n",
              "      display:flex;\n",
              "      flex-wrap:wrap;\n",
              "      gap: 12px;\n",
              "    }\n",
              "\n",
              "    .colab-df-convert {\n",
              "      background-color: #E8F0FE;\n",
              "      border: none;\n",
              "      border-radius: 50%;\n",
              "      cursor: pointer;\n",
              "      display: none;\n",
              "      fill: #1967D2;\n",
              "      height: 32px;\n",
              "      padding: 0 0 0 0;\n",
              "      width: 32px;\n",
              "    }\n",
              "\n",
              "    .colab-df-convert:hover {\n",
              "      background-color: #E2EBFA;\n",
              "      box-shadow: 0px 1px 2px rgba(60, 64, 67, 0.3), 0px 1px 3px 1px rgba(60, 64, 67, 0.15);\n",
              "      fill: #174EA6;\n",
              "    }\n",
              "\n",
              "    [theme=dark] .colab-df-convert {\n",
              "      background-color: #3B4455;\n",
              "      fill: #D2E3FC;\n",
              "    }\n",
              "\n",
              "    [theme=dark] .colab-df-convert:hover {\n",
              "      background-color: #434B5C;\n",
              "      box-shadow: 0px 1px 3px 1px rgba(0, 0, 0, 0.15);\n",
              "      filter: drop-shadow(0px 1px 2px rgba(0, 0, 0, 0.3));\n",
              "      fill: #FFFFFF;\n",
              "    }\n",
              "  </style>\n",
              "\n",
              "      <script>\n",
              "        const buttonEl =\n",
              "          document.querySelector('#df-e1907bc1-0c76-471e-851d-4b331d4486da button.colab-df-convert');\n",
              "        buttonEl.style.display =\n",
              "          google.colab.kernel.accessAllowed ? 'block' : 'none';\n",
              "\n",
              "        async function convertToInteractive(key) {\n",
              "          const element = document.querySelector('#df-e1907bc1-0c76-471e-851d-4b331d4486da');\n",
              "          const dataTable =\n",
              "            await google.colab.kernel.invokeFunction('convertToInteractive',\n",
              "                                                     [key], {});\n",
              "          if (!dataTable) return;\n",
              "\n",
              "          const docLinkHtml = 'Like what you see? Visit the ' +\n",
              "            '<a target=\"_blank\" href=https://colab.research.google.com/notebooks/data_table.ipynb>data table notebook</a>'\n",
              "            + ' to learn more about interactive tables.';\n",
              "          element.innerHTML = '';\n",
              "          dataTable['output_type'] = 'display_data';\n",
              "          await google.colab.output.renderOutput(dataTable, element);\n",
              "          const docLink = document.createElement('div');\n",
              "          docLink.innerHTML = docLinkHtml;\n",
              "          element.appendChild(docLink);\n",
              "        }\n",
              "      </script>\n",
              "    </div>\n",
              "  </div>\n",
              "  "
            ]
          },
          "metadata": {},
          "execution_count": 18
        }
      ]
    },
    {
      "cell_type": "markdown",
      "source": [
        "The geometry column includes different geometries, each geometry type has to be saved into a separate layers. Iterate over goemetry types and write out a layer in the output geopackage."
      ],
      "metadata": {
        "id": "ld_6MtS3AXtO"
      }
    },
    {
      "cell_type": "code",
      "source": [
        "output_file = 'merged.gpkg'"
      ],
      "metadata": {
        "id": "jK_7eXbb6m6y"
      },
      "execution_count": null,
      "outputs": []
    },
    {
      "cell_type": "code",
      "source": [
        "for geomtype in merged.geom_type.unique():\n",
        "   merged[merged.geom_type == geomtype].to_file(output_file, driver='GPKG', layer=geomtype)"
      ],
      "metadata": {
        "id": "iGSu59tE6zNc"
      },
      "execution_count": null,
      "outputs": []
    }
  ],
  "metadata": {
    "kernelspec": {
      "display_name": "Python 3 (ipykernel)",
      "language": "python",
      "name": "python3"
    },
    "language_info": {
      "codemirror_mode": {
        "name": "ipython",
        "version": 3
      },
      "file_extension": ".py",
      "mimetype": "text/x-python",
      "name": "python",
      "nbconvert_exporter": "python",
      "pygments_lexer": "ipython3",
      "version": "3.10.5"
    },
    "colab": {
      "provenance": []
    }
  },
  "nbformat": 4,
  "nbformat_minor": 0
}