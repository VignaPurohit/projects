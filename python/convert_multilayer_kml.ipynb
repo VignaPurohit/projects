{
  "cells": [
    {
      "cell_type": "markdown",
      "metadata": {
        "id": "Q0tHKpvv4wAT"
      },
      "source": [
        "# Converting Multi-layer KML to a GeoPackage\n",
        "\n",
        "We have a complex KML file with 2000+ individual layers. Each layer contains only a single feature but having large number of layers means it takes a long time to read and parse them. We can use GeoPandas to read all the layers and merge layers having the same geometry and write the cleaned layers to a GeoPacjage."
      ]
    },
    {
      "cell_type": "markdown",
      "metadata": {
        "id": "5hm2Ypxk4wAW"
      },
      "source": [
        "## Setup and Import\n",
        "\n",
        "The following blocks of code will install and import the required packages in Colab environment."
      ]
    },
    {
      "cell_type": "code",
      "execution_count": 3,
      "metadata": {
        "id": "zGzb4G0m4wAX"
      },
      "outputs": [],
      "source": [
        "try:\n",
        "    import geopandas\n",
        "except ModuleNotFoundError:\n",
        "    if 'google.colab' in str(get_ipython()):\n",
        "        !apt install -qq libspatialindex-dev\n",
        "        !pip install fiona shapely pyproj rtree --quiet\n",
        "        !pip install geopandas --quiet\n",
        "    else:\n",
        "        print('geopandas not found, please install via conda in your environment')"
      ]
    },
    {
      "cell_type": "code",
      "execution_count": 4,
      "metadata": {
        "id": "2DA0u8bm4wAY"
      },
      "outputs": [],
      "source": [
        "import os\n",
        "import pandas as pd\n",
        "import geopandas as gpd\n",
        "import fiona"
      ]
    },
    {
      "cell_type": "markdown",
      "source": [
        "## Methodology"
      ],
      "metadata": {
        "id": "w5u2Ux1HDay3"
      }
    },
    {
      "cell_type": "markdown",
      "source": [
        "Create a list of layers as a Pandas Series."
      ],
      "metadata": {
        "id": "IapiDXY__67n"
      }
    },
    {
      "cell_type": "code",
      "source": [
        "file_path = 'input.kml'\n",
        "layers = pd.Series(fiona.listlayers(file_path))\n",
        "layers"
      ],
      "metadata": {
        "id": "CzQMdXBk5nim",
        "outputId": "fe572ed1-b4c2-45a3-bd4b-a2a726723cbf",
        "colab": {
          "base_uri": "https://localhost:8080/"
        }
      },
      "execution_count": 5,
      "outputs": [
        {
          "output_type": "execute_result",
          "data": {
            "text/plain": [
              "0           Text [7193A]\n",
              "1          Point [71939]\n",
              "2           Text [71937]\n",
              "3          Point [71936]\n",
              "4           Text [71934]\n",
              "              ...       \n",
              "2177       MText [70BD3]\n",
              "2178       MText [70BD2]\n",
              "2179       MText [70BD1]\n",
              "2180    Polyline [70BD0]\n",
              "2181      Untitled layer\n",
              "Length: 2182, dtype: object"
            ]
          },
          "metadata": {},
          "execution_count": 5
        }
      ]
    },
    {
      "cell_type": "markdown",
      "source": [
        "Iterate through each layer and read it using GeoPandas. Create a list of GeoDataFrames for each layer.\n",
        "\n",
        "This step can take time.\n",
        "\n",
        " Use `tqdm` to display a progress bar."
      ],
      "metadata": {
        "id": "87OQHFTPAF4y"
      }
    },
    {
      "cell_type": "code",
      "execution_count": 9,
      "metadata": {
        "id": "5ymb_dco4wAY",
        "outputId": "47e91ce4-a6eb-4769-917e-c40117c1701a",
        "colab": {
          "base_uri": "https://localhost:8080/",
          "height": 49,
          "referenced_widgets": [
            "b343481e79fa47a894a1229cb903e653",
            "6acc74aa88394debbbfff1a759332e83",
            "c313fcd671cc4292821f9dba2d183141",
            "e74da2b122924def95b6514108f321a0",
            "4159e1d7eda74084af4656484f37d9f0",
            "595b954b5a334bc1a62cb09e64dcb243",
            "3e3d365c317d4551a45c9f87144ff85c",
            "51b04ec861ae493eae500a124ffa5d52",
            "34c771fd83b4424a918e28861431b359",
            "25f4bc144e6948e38b52d05317169a01",
            "2db6e63c7b5b405ea5ab8bb0c3f2b0fe"
          ]
        }
      },
      "outputs": [
        {
          "output_type": "display_data",
          "data": {
            "text/plain": [
              "  0%|          | 0/2182 [00:00<?, ?it/s]"
            ],
            "application/vnd.jupyter.widget-view+json": {
              "version_major": 2,
              "version_minor": 0,
              "model_id": "b343481e79fa47a894a1229cb903e653"
            }
          },
          "metadata": {}
        }
      ],
      "source": [
        "gpd.io.file.fiona.drvsupport.supported_drivers['KML'] = 'rw'\n",
        "\n",
        "gdf_list = []\n",
        "\n",
        "from tqdm.notebook import tqdm\n",
        "\n",
        "for index, layer in tqdm(layers.items(), total=len(layers)):\n",
        "      gdf = gpd.read_file(file_path, layer=layer)\n",
        "      gdf_list.append(gdf)      "
      ]
    },
    {
      "cell_type": "markdown",
      "source": [
        "Merge the individual GeoDataFrames from each layer into a single *GeoDataFrame*."
      ],
      "metadata": {
        "id": "2QEFADQJAR-2"
      }
    },
    {
      "cell_type": "code",
      "source": [
        "merged = pd.concat(gdf_list)\n",
        "merged.head()"
      ],
      "metadata": {
        "id": "Jqs2dU0z6zxI",
        "outputId": "5b7cf73b-04d8-4358-abd1-85f583d656a3",
        "colab": {
          "base_uri": "https://localhost:8080/",
          "height": 206
        }
      },
      "execution_count": 13,
      "outputs": [
        {
          "output_type": "execute_result",
          "data": {
            "text/plain": [
              "              Name                                        Description  \\\n",
              "0           B2-461                                                      \n",
              "0  Point [71939]:0  <table> <tr> <td align=\"right\">Generic Propert...   \n",
              "0           B2-460                                                      \n",
              "0  Point [71936]:0  <table> <tr> <td align=\"right\">Generic Propert...   \n",
              "0           B2-459                                                      \n",
              "\n",
              "                                            geometry  \n",
              "0                POINT Z (78.50425 17.68199 0.00000)  \n",
              "0  MULTILINESTRING Z ((78.50424 17.68198 0.00000,...  \n",
              "0                POINT Z (78.49496 17.68535 0.00000)  \n",
              "0  MULTILINESTRING Z ((78.49496 17.68535 0.00000,...  \n",
              "0                POINT Z (78.49141 17.69321 0.00000)  "
            ],
            "text/html": [
              "\n",
              "  <div id=\"df-df8d1f8b-00cd-4a76-b7d7-6ccbd9ee613c\">\n",
              "    <div class=\"colab-df-container\">\n",
              "      <div>\n",
              "<style scoped>\n",
              "    .dataframe tbody tr th:only-of-type {\n",
              "        vertical-align: middle;\n",
              "    }\n",
              "\n",
              "    .dataframe tbody tr th {\n",
              "        vertical-align: top;\n",
              "    }\n",
              "\n",
              "    .dataframe thead th {\n",
              "        text-align: right;\n",
              "    }\n",
              "</style>\n",
              "<table border=\"1\" class=\"dataframe\">\n",
              "  <thead>\n",
              "    <tr style=\"text-align: right;\">\n",
              "      <th></th>\n",
              "      <th>Name</th>\n",
              "      <th>Description</th>\n",
              "      <th>geometry</th>\n",
              "    </tr>\n",
              "  </thead>\n",
              "  <tbody>\n",
              "    <tr>\n",
              "      <th>0</th>\n",
              "      <td>B2-461</td>\n",
              "      <td></td>\n",
              "      <td>POINT Z (78.50425 17.68199 0.00000)</td>\n",
              "    </tr>\n",
              "    <tr>\n",
              "      <th>0</th>\n",
              "      <td>Point [71939]:0</td>\n",
              "      <td>&lt;table&gt; &lt;tr&gt; &lt;td align=\"right\"&gt;Generic Propert...</td>\n",
              "      <td>MULTILINESTRING Z ((78.50424 17.68198 0.00000,...</td>\n",
              "    </tr>\n",
              "    <tr>\n",
              "      <th>0</th>\n",
              "      <td>B2-460</td>\n",
              "      <td></td>\n",
              "      <td>POINT Z (78.49496 17.68535 0.00000)</td>\n",
              "    </tr>\n",
              "    <tr>\n",
              "      <th>0</th>\n",
              "      <td>Point [71936]:0</td>\n",
              "      <td>&lt;table&gt; &lt;tr&gt; &lt;td align=\"right\"&gt;Generic Propert...</td>\n",
              "      <td>MULTILINESTRING Z ((78.49496 17.68535 0.00000,...</td>\n",
              "    </tr>\n",
              "    <tr>\n",
              "      <th>0</th>\n",
              "      <td>B2-459</td>\n",
              "      <td></td>\n",
              "      <td>POINT Z (78.49141 17.69321 0.00000)</td>\n",
              "    </tr>\n",
              "  </tbody>\n",
              "</table>\n",
              "</div>\n",
              "      <button class=\"colab-df-convert\" onclick=\"convertToInteractive('df-df8d1f8b-00cd-4a76-b7d7-6ccbd9ee613c')\"\n",
              "              title=\"Convert this dataframe to an interactive table.\"\n",
              "              style=\"display:none;\">\n",
              "        \n",
              "  <svg xmlns=\"http://www.w3.org/2000/svg\" height=\"24px\"viewBox=\"0 0 24 24\"\n",
              "       width=\"24px\">\n",
              "    <path d=\"M0 0h24v24H0V0z\" fill=\"none\"/>\n",
              "    <path d=\"M18.56 5.44l.94 2.06.94-2.06 2.06-.94-2.06-.94-.94-2.06-.94 2.06-2.06.94zm-11 1L8.5 8.5l.94-2.06 2.06-.94-2.06-.94L8.5 2.5l-.94 2.06-2.06.94zm10 10l.94 2.06.94-2.06 2.06-.94-2.06-.94-.94-2.06-.94 2.06-2.06.94z\"/><path d=\"M17.41 7.96l-1.37-1.37c-.4-.4-.92-.59-1.43-.59-.52 0-1.04.2-1.43.59L10.3 9.45l-7.72 7.72c-.78.78-.78 2.05 0 2.83L4 21.41c.39.39.9.59 1.41.59.51 0 1.02-.2 1.41-.59l7.78-7.78 2.81-2.81c.8-.78.8-2.07 0-2.86zM5.41 20L4 18.59l7.72-7.72 1.47 1.35L5.41 20z\"/>\n",
              "  </svg>\n",
              "      </button>\n",
              "      \n",
              "  <style>\n",
              "    .colab-df-container {\n",
              "      display:flex;\n",
              "      flex-wrap:wrap;\n",
              "      gap: 12px;\n",
              "    }\n",
              "\n",
              "    .colab-df-convert {\n",
              "      background-color: #E8F0FE;\n",
              "      border: none;\n",
              "      border-radius: 50%;\n",
              "      cursor: pointer;\n",
              "      display: none;\n",
              "      fill: #1967D2;\n",
              "      height: 32px;\n",
              "      padding: 0 0 0 0;\n",
              "      width: 32px;\n",
              "    }\n",
              "\n",
              "    .colab-df-convert:hover {\n",
              "      background-color: #E2EBFA;\n",
              "      box-shadow: 0px 1px 2px rgba(60, 64, 67, 0.3), 0px 1px 3px 1px rgba(60, 64, 67, 0.15);\n",
              "      fill: #174EA6;\n",
              "    }\n",
              "\n",
              "    [theme=dark] .colab-df-convert {\n",
              "      background-color: #3B4455;\n",
              "      fill: #D2E3FC;\n",
              "    }\n",
              "\n",
              "    [theme=dark] .colab-df-convert:hover {\n",
              "      background-color: #434B5C;\n",
              "      box-shadow: 0px 1px 3px 1px rgba(0, 0, 0, 0.15);\n",
              "      filter: drop-shadow(0px 1px 2px rgba(0, 0, 0, 0.3));\n",
              "      fill: #FFFFFF;\n",
              "    }\n",
              "  </style>\n",
              "\n",
              "      <script>\n",
              "        const buttonEl =\n",
              "          document.querySelector('#df-df8d1f8b-00cd-4a76-b7d7-6ccbd9ee613c button.colab-df-convert');\n",
              "        buttonEl.style.display =\n",
              "          google.colab.kernel.accessAllowed ? 'block' : 'none';\n",
              "\n",
              "        async function convertToInteractive(key) {\n",
              "          const element = document.querySelector('#df-df8d1f8b-00cd-4a76-b7d7-6ccbd9ee613c');\n",
              "          const dataTable =\n",
              "            await google.colab.kernel.invokeFunction('convertToInteractive',\n",
              "                                                     [key], {});\n",
              "          if (!dataTable) return;\n",
              "\n",
              "          const docLinkHtml = 'Like what you see? Visit the ' +\n",
              "            '<a target=\"_blank\" href=https://colab.research.google.com/notebooks/data_table.ipynb>data table notebook</a>'\n",
              "            + ' to learn more about interactive tables.';\n",
              "          element.innerHTML = '';\n",
              "          dataTable['output_type'] = 'display_data';\n",
              "          await google.colab.output.renderOutput(dataTable, element);\n",
              "          const docLink = document.createElement('div');\n",
              "          docLink.innerHTML = docLinkHtml;\n",
              "          element.appendChild(docLink);\n",
              "        }\n",
              "      </script>\n",
              "    </div>\n",
              "  </div>\n",
              "  "
            ]
          },
          "metadata": {},
          "execution_count": 13
        }
      ]
    },
    {
      "cell_type": "markdown",
      "source": [
        "The geometry column includes different geometries, each geometry type has to be saved into a separate layers. Iterate over goemetry types and write out a layer in the output geopackage."
      ],
      "metadata": {
        "id": "ld_6MtS3AXtO"
      }
    },
    {
      "cell_type": "code",
      "source": [
        "output_file = 'merged.gpkg'"
      ],
      "metadata": {
        "id": "jK_7eXbb6m6y"
      },
      "execution_count": 11,
      "outputs": []
    },
    {
      "cell_type": "code",
      "source": [
        "for geomtype in merged.geom_type.unique():\n",
        "   merged[merged.geom_type == geomtype].to_file(output_file, driver='GPKG', layer=geomtype)"
      ],
      "metadata": {
        "id": "iGSu59tE6zNc"
      },
      "execution_count": 12,
      "outputs": []
    }
  ],
  "metadata": {
    "kernelspec": {
      "display_name": "Python 3 (ipykernel)",
      "language": "python",
      "name": "python3"
    },
    "language_info": {
      "codemirror_mode": {
        "name": "ipython",
        "version": 3
      },
      "file_extension": ".py",
      "mimetype": "text/x-python",
      "name": "python",
      "nbconvert_exporter": "python",
      "pygments_lexer": "ipython3",
      "version": "3.10.5"
    },
    "colab": {
      "provenance": []
    },
    "widgets": {
      "application/vnd.jupyter.widget-state+json": {
        "b343481e79fa47a894a1229cb903e653": {
          "model_module": "@jupyter-widgets/controls",
          "model_name": "HBoxModel",
          "model_module_version": "1.5.0",
          "state": {
            "_dom_classes": [],
            "_model_module": "@jupyter-widgets/controls",
            "_model_module_version": "1.5.0",
            "_model_name": "HBoxModel",
            "_view_count": null,
            "_view_module": "@jupyter-widgets/controls",
            "_view_module_version": "1.5.0",
            "_view_name": "HBoxView",
            "box_style": "",
            "children": [
              "IPY_MODEL_6acc74aa88394debbbfff1a759332e83",
              "IPY_MODEL_c313fcd671cc4292821f9dba2d183141",
              "IPY_MODEL_e74da2b122924def95b6514108f321a0"
            ],
            "layout": "IPY_MODEL_4159e1d7eda74084af4656484f37d9f0"
          }
        },
        "6acc74aa88394debbbfff1a759332e83": {
          "model_module": "@jupyter-widgets/controls",
          "model_name": "HTMLModel",
          "model_module_version": "1.5.0",
          "state": {
            "_dom_classes": [],
            "_model_module": "@jupyter-widgets/controls",
            "_model_module_version": "1.5.0",
            "_model_name": "HTMLModel",
            "_view_count": null,
            "_view_module": "@jupyter-widgets/controls",
            "_view_module_version": "1.5.0",
            "_view_name": "HTMLView",
            "description": "",
            "description_tooltip": null,
            "layout": "IPY_MODEL_595b954b5a334bc1a62cb09e64dcb243",
            "placeholder": "​",
            "style": "IPY_MODEL_3e3d365c317d4551a45c9f87144ff85c",
            "value": "100%"
          }
        },
        "c313fcd671cc4292821f9dba2d183141": {
          "model_module": "@jupyter-widgets/controls",
          "model_name": "FloatProgressModel",
          "model_module_version": "1.5.0",
          "state": {
            "_dom_classes": [],
            "_model_module": "@jupyter-widgets/controls",
            "_model_module_version": "1.5.0",
            "_model_name": "FloatProgressModel",
            "_view_count": null,
            "_view_module": "@jupyter-widgets/controls",
            "_view_module_version": "1.5.0",
            "_view_name": "ProgressView",
            "bar_style": "success",
            "description": "",
            "description_tooltip": null,
            "layout": "IPY_MODEL_51b04ec861ae493eae500a124ffa5d52",
            "max": 2182,
            "min": 0,
            "orientation": "horizontal",
            "style": "IPY_MODEL_34c771fd83b4424a918e28861431b359",
            "value": 2182
          }
        },
        "e74da2b122924def95b6514108f321a0": {
          "model_module": "@jupyter-widgets/controls",
          "model_name": "HTMLModel",
          "model_module_version": "1.5.0",
          "state": {
            "_dom_classes": [],
            "_model_module": "@jupyter-widgets/controls",
            "_model_module_version": "1.5.0",
            "_model_name": "HTMLModel",
            "_view_count": null,
            "_view_module": "@jupyter-widgets/controls",
            "_view_module_version": "1.5.0",
            "_view_name": "HTMLView",
            "description": "",
            "description_tooltip": null,
            "layout": "IPY_MODEL_25f4bc144e6948e38b52d05317169a01",
            "placeholder": "​",
            "style": "IPY_MODEL_2db6e63c7b5b405ea5ab8bb0c3f2b0fe",
            "value": " 2182/2182 [08:58&lt;00:00,  3.86it/s]"
          }
        },
        "4159e1d7eda74084af4656484f37d9f0": {
          "model_module": "@jupyter-widgets/base",
          "model_name": "LayoutModel",
          "model_module_version": "1.2.0",
          "state": {
            "_model_module": "@jupyter-widgets/base",
            "_model_module_version": "1.2.0",
            "_model_name": "LayoutModel",
            "_view_count": null,
            "_view_module": "@jupyter-widgets/base",
            "_view_module_version": "1.2.0",
            "_view_name": "LayoutView",
            "align_content": null,
            "align_items": null,
            "align_self": null,
            "border": null,
            "bottom": null,
            "display": null,
            "flex": null,
            "flex_flow": null,
            "grid_area": null,
            "grid_auto_columns": null,
            "grid_auto_flow": null,
            "grid_auto_rows": null,
            "grid_column": null,
            "grid_gap": null,
            "grid_row": null,
            "grid_template_areas": null,
            "grid_template_columns": null,
            "grid_template_rows": null,
            "height": null,
            "justify_content": null,
            "justify_items": null,
            "left": null,
            "margin": null,
            "max_height": null,
            "max_width": null,
            "min_height": null,
            "min_width": null,
            "object_fit": null,
            "object_position": null,
            "order": null,
            "overflow": null,
            "overflow_x": null,
            "overflow_y": null,
            "padding": null,
            "right": null,
            "top": null,
            "visibility": null,
            "width": null
          }
        },
        "595b954b5a334bc1a62cb09e64dcb243": {
          "model_module": "@jupyter-widgets/base",
          "model_name": "LayoutModel",
          "model_module_version": "1.2.0",
          "state": {
            "_model_module": "@jupyter-widgets/base",
            "_model_module_version": "1.2.0",
            "_model_name": "LayoutModel",
            "_view_count": null,
            "_view_module": "@jupyter-widgets/base",
            "_view_module_version": "1.2.0",
            "_view_name": "LayoutView",
            "align_content": null,
            "align_items": null,
            "align_self": null,
            "border": null,
            "bottom": null,
            "display": null,
            "flex": null,
            "flex_flow": null,
            "grid_area": null,
            "grid_auto_columns": null,
            "grid_auto_flow": null,
            "grid_auto_rows": null,
            "grid_column": null,
            "grid_gap": null,
            "grid_row": null,
            "grid_template_areas": null,
            "grid_template_columns": null,
            "grid_template_rows": null,
            "height": null,
            "justify_content": null,
            "justify_items": null,
            "left": null,
            "margin": null,
            "max_height": null,
            "max_width": null,
            "min_height": null,
            "min_width": null,
            "object_fit": null,
            "object_position": null,
            "order": null,
            "overflow": null,
            "overflow_x": null,
            "overflow_y": null,
            "padding": null,
            "right": null,
            "top": null,
            "visibility": null,
            "width": null
          }
        },
        "3e3d365c317d4551a45c9f87144ff85c": {
          "model_module": "@jupyter-widgets/controls",
          "model_name": "DescriptionStyleModel",
          "model_module_version": "1.5.0",
          "state": {
            "_model_module": "@jupyter-widgets/controls",
            "_model_module_version": "1.5.0",
            "_model_name": "DescriptionStyleModel",
            "_view_count": null,
            "_view_module": "@jupyter-widgets/base",
            "_view_module_version": "1.2.0",
            "_view_name": "StyleView",
            "description_width": ""
          }
        },
        "51b04ec861ae493eae500a124ffa5d52": {
          "model_module": "@jupyter-widgets/base",
          "model_name": "LayoutModel",
          "model_module_version": "1.2.0",
          "state": {
            "_model_module": "@jupyter-widgets/base",
            "_model_module_version": "1.2.0",
            "_model_name": "LayoutModel",
            "_view_count": null,
            "_view_module": "@jupyter-widgets/base",
            "_view_module_version": "1.2.0",
            "_view_name": "LayoutView",
            "align_content": null,
            "align_items": null,
            "align_self": null,
            "border": null,
            "bottom": null,
            "display": null,
            "flex": null,
            "flex_flow": null,
            "grid_area": null,
            "grid_auto_columns": null,
            "grid_auto_flow": null,
            "grid_auto_rows": null,
            "grid_column": null,
            "grid_gap": null,
            "grid_row": null,
            "grid_template_areas": null,
            "grid_template_columns": null,
            "grid_template_rows": null,
            "height": null,
            "justify_content": null,
            "justify_items": null,
            "left": null,
            "margin": null,
            "max_height": null,
            "max_width": null,
            "min_height": null,
            "min_width": null,
            "object_fit": null,
            "object_position": null,
            "order": null,
            "overflow": null,
            "overflow_x": null,
            "overflow_y": null,
            "padding": null,
            "right": null,
            "top": null,
            "visibility": null,
            "width": null
          }
        },
        "34c771fd83b4424a918e28861431b359": {
          "model_module": "@jupyter-widgets/controls",
          "model_name": "ProgressStyleModel",
          "model_module_version": "1.5.0",
          "state": {
            "_model_module": "@jupyter-widgets/controls",
            "_model_module_version": "1.5.0",
            "_model_name": "ProgressStyleModel",
            "_view_count": null,
            "_view_module": "@jupyter-widgets/base",
            "_view_module_version": "1.2.0",
            "_view_name": "StyleView",
            "bar_color": null,
            "description_width": ""
          }
        },
        "25f4bc144e6948e38b52d05317169a01": {
          "model_module": "@jupyter-widgets/base",
          "model_name": "LayoutModel",
          "model_module_version": "1.2.0",
          "state": {
            "_model_module": "@jupyter-widgets/base",
            "_model_module_version": "1.2.0",
            "_model_name": "LayoutModel",
            "_view_count": null,
            "_view_module": "@jupyter-widgets/base",
            "_view_module_version": "1.2.0",
            "_view_name": "LayoutView",
            "align_content": null,
            "align_items": null,
            "align_self": null,
            "border": null,
            "bottom": null,
            "display": null,
            "flex": null,
            "flex_flow": null,
            "grid_area": null,
            "grid_auto_columns": null,
            "grid_auto_flow": null,
            "grid_auto_rows": null,
            "grid_column": null,
            "grid_gap": null,
            "grid_row": null,
            "grid_template_areas": null,
            "grid_template_columns": null,
            "grid_template_rows": null,
            "height": null,
            "justify_content": null,
            "justify_items": null,
            "left": null,
            "margin": null,
            "max_height": null,
            "max_width": null,
            "min_height": null,
            "min_width": null,
            "object_fit": null,
            "object_position": null,
            "order": null,
            "overflow": null,
            "overflow_x": null,
            "overflow_y": null,
            "padding": null,
            "right": null,
            "top": null,
            "visibility": null,
            "width": null
          }
        },
        "2db6e63c7b5b405ea5ab8bb0c3f2b0fe": {
          "model_module": "@jupyter-widgets/controls",
          "model_name": "DescriptionStyleModel",
          "model_module_version": "1.5.0",
          "state": {
            "_model_module": "@jupyter-widgets/controls",
            "_model_module_version": "1.5.0",
            "_model_name": "DescriptionStyleModel",
            "_view_count": null,
            "_view_module": "@jupyter-widgets/base",
            "_view_module_version": "1.2.0",
            "_view_name": "StyleView",
            "description_width": ""
          }
        }
      }
    }
  },
  "nbformat": 4,
  "nbformat_minor": 0
}