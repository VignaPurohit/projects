{
 "cells": [
  {
   "cell_type": "markdown",
   "id": "69aa978b-1b03-4388-bdb9-f8a13d2da79e",
   "metadata": {},
   "source": [
    "We have a CSV file in the following format. For normal vertex, we tag it as GEO (for geodesic string) and for an arc segment, we are tagging it with a combination of two(2) successive ABE (arc-by-edge)\n",
    "\n",
    "```\n",
    "25.270806364429227 51.60333739375988 GEO\n",
    "25.271009225305253 51.60324801592732 GEO\n",
    "25.271113964392683 51.603201869139234 GEO\n",
    "25.2707782569834 51.60228029931405 GEO\n",
    "25.270673510842762 51.602326451082504 GEO\n",
    "25.27046820899583 51.60241690493056 ABE\n",
    "25.270466156352832 51.60261064947953 ABE\n",
    "25.27033759984866 51.602747027489016 GEO\n",
    "25.27042237891931 51.60297183557495 GEO\n",
    "25.270507464783933 51.60319640070589 ABE\n",
    "25.27069468321789 51.60320703990452 ABE\n",
    "25.270788613761002 51.60330422209724 GEO\n",
    "```\n",
    "Want to convert this to a GML file as follows\n",
    "```\n",
    "<gml:patches>\n",
    "<gml:PolygonPatch>\n",
    "<gml:exterior>\n",
    "<gml:Ring>\n",
    "<gml:curveMember>\n",
    "<gml:Curve gml:id=\"gmlID389873\">\n",
    "<gml:segments>\n",
    "<gml:GeodesicString>\n",
    "<gml:pos>51.6033373938 25.2708063644</gml:pos>\n",
    "<gml:pos>51.6032480159 25.2710092253</gml:pos>\n",
    "<gml:pos>51.6032018691 25.2711139644</gml:pos>\n",
    "<gml:pos>51.6022802993 25.2707782570</gml:pos>\n",
    "<gml:pos>51.6023264511 25.2706735108</gml:pos>\n",
    "<gml:pos>51.6024169049 25.2704682090</gml:pos>\n",
    "</gml:GeodesicString>\n",
    "<gml:ArcString>\n",
    "<gml:pos>51.6024169049 25.2704682090</gml:pos>\n",
    "<gml:pos>51.6026106495 25.2704661564</gml:pos>\n",
    "<gml:pos>51.6027470275 25.2703375998</gml:pos>\n",
    "</gml:ArcString>\n",
    "<gml:GeodesicString>\n",
    "<gml:pos>51.6027470275 25.2703375998</gml:pos>\n",
    "<gml:pos>51.6029718356 25.2704223789</gml:pos>\n",
    "<gml:pos>51.6031964007 25.2705074648</gml:pos>\n",
    "</gml:GeodesicString>\n",
    "<gml:ArcString>\n",
    "<gml:pos>51.6031964007 25.2705074648</gml:pos>\n",
    "<gml:pos>51.6032070399 25.2706946832</gml:pos>\n",
    "<gml:pos>51.6033042221 25.2707886138</gml:pos>\n",
    "</gml:ArcString>\n",
    "<gml:GeodesicString>\n",
    "<gml:pos>51.6033042221 25.2707886138</gml:pos>\n",
    "<gml:pos>51.6033373938 25.2708063644</gml:pos>\n",
    "</gml:GeodesicString>\n",
    "</gml:segments>\n",
    "</gml:Curve>\n",
    "</gml:curveMember>\n",
    "</gml:Ring>\n",
    "</gml:exterior>\n",
    "</gml:PolygonPatch>\n",
    "</gml:patches>\n",
    "```"
   ]
  },
  {
   "cell_type": "code",
   "execution_count": 91,
   "id": "d2a4f07e-8156-4d69-840a-0b29dfbefd6a",
   "metadata": {},
   "outputs": [],
   "source": [
    "import csv\n",
    "import xml.etree.cElementTree as ET\n",
    "import xml.dom.minidom\n",
    "import itertools"
   ]
  },
  {
   "cell_type": "code",
   "execution_count": 92,
   "id": "4490ac20-4483-4260-b8cf-b744b96a8016",
   "metadata": {},
   "outputs": [],
   "source": [
    "GML = 'http://www.opengis.net/gml'\n",
    "ET.register_namespace('gml', GML) \n",
    "\n",
    "root = ET.Element('gml')\n",
    "patches = ET.SubElement(root, ET.QName(GML, 'patches'))\n",
    "polypatches = ET.SubElement(patches, ET.QName(GML, 'PolygonPatch'))\n",
    "exterior = ET.SubElement(polypatches, ET.QName(GML, 'exterior'))\n",
    "ring = ET.SubElement(exterior, ET.QName(GML, 'Ring'))\n",
    "curvemember = ET.SubElement(ring, ET.QName(GML, 'curveMember'))\n",
    "curve = ET.SubElement(curvemember, ET.QName(GML, 'curve'), {'gml:id':'gmlID389873'})"
   ]
  },
  {
   "cell_type": "code",
   "execution_count": 93,
   "id": "a8c81e63-96d2-481e-9d91-b1f20c3d07bd",
   "metadata": {},
   "outputs": [],
   "source": [
    "with open('data.csv', 'r') as f:\n",
    "    lines = f.readlines()\n",
    "\n",
    "processed = [line.strip().split() for line in lines]"
   ]
  },
  {
   "cell_type": "code",
   "execution_count": 94,
   "id": "178a9bd9-f42c-48c4-aa45-37522220f171",
   "metadata": {},
   "outputs": [],
   "source": [
    "# Group all lines where the vertex type is the same\n",
    "iterator = itertools.groupby(processed, lambda item: item[2])\n",
    "\n",
    "# iterating over the result\n",
    "# element and its group\n",
    "for element, group in iterator:\n",
    "    if element == 'GEO':\n",
    "        geodesicstring = ET.SubElement(curve, ET.QName(GML, 'GeodesicString'))\n",
    "        for vertex in list(group):\n",
    "            value = '{},{}'.format(vertex[1], vertex[0])\n",
    "            ET.SubElement(geodesicstring, ET.QName(GML, 'pos')).text = value\n",
    "    if element == 'ABE':\n",
    "        arcstring = ET.SubElement(curve, ET.QName(GML, 'ArcString'))\n",
    "        ET.SubElement(arcstring, ET.QName(GML, 'pos')).text = last_geo_value\n",
    "        for vertex in list(group):\n",
    "            value = '{},{}'.format(vertex[1], vertex[0])\n",
    "            ET.SubElement(arcstring, ET.QName(GML, 'pos')).text = value\n"
   ]
  },
  {
   "cell_type": "code",
   "execution_count": 95,
   "id": "62920c5d-630c-465d-85df-d130cd2cc24e",
   "metadata": {},
   "outputs": [
    {
     "name": "stdout",
     "output_type": "stream",
     "text": [
      "<?xml version=\"1.0\" ?>\n",
      "<gml xmlns:gml=\"http://www.opengis.net/gml\">\n",
      "  <gml:patches>\n",
      "    <gml:PolygonPatch>\n",
      "      <gml:exterior>\n",
      "        <gml:Ring>\n",
      "          <gml:curveMember>\n",
      "            <gml:curve gml:id=\"gmlID389873\">\n",
      "              <gml:GeodesicString>\n",
      "                <gml:pos>51.60333739375988,25.270806364429227</gml:pos>\n",
      "                <gml:pos>51.60324801592732,25.271009225305253</gml:pos>\n",
      "                <gml:pos>51.603201869139234,25.271113964392683</gml:pos>\n",
      "                <gml:pos>51.60228029931405,25.2707782569834</gml:pos>\n",
      "                <gml:pos>51.602326451082504,25.270673510842762</gml:pos>\n",
      "              </gml:GeodesicString>\n",
      "              <gml:ArcString>\n",
      "                <gml:pos/>\n",
      "                <gml:pos>51.60241690493056,25.27046820899583</gml:pos>\n",
      "                <gml:pos>51.60261064947953,25.270466156352832</gml:pos>\n",
      "              </gml:ArcString>\n",
      "              <gml:GeodesicString>\n",
      "                <gml:pos>51.602747027489016,25.27033759984866</gml:pos>\n",
      "                <gml:pos>51.60297183557495,25.27042237891931</gml:pos>\n",
      "              </gml:GeodesicString>\n",
      "              <gml:ArcString>\n",
      "                <gml:pos/>\n",
      "                <gml:pos>51.60319640070589,25.270507464783933</gml:pos>\n",
      "                <gml:pos>51.60320703990452,25.27069468321789</gml:pos>\n",
      "              </gml:ArcString>\n",
      "              <gml:GeodesicString>\n",
      "                <gml:pos>51.60330422209724,25.270788613761002</gml:pos>\n",
      "              </gml:GeodesicString>\n",
      "            </gml:curve>\n",
      "          </gml:curveMember>\n",
      "        </gml:Ring>\n",
      "      </gml:exterior>\n",
      "    </gml:PolygonPatch>\n",
      "  </gml:patches>\n",
      "</gml>\n",
      "\n"
     ]
    }
   ],
   "source": [
    "dom = xml.dom.minidom.parseString(ET.tostring(root))\n",
    "xml_string = dom.toprettyxml(indent='  ')\n",
    "print(xml_string)"
   ]
  },
  {
   "cell_type": "code",
   "execution_count": 96,
   "id": "698134dd-5a32-4adb-abed-76240ca7973a",
   "metadata": {},
   "outputs": [],
   "source": [
    "with open('output.gml', 'w') as f:\n",
    "    f.write(xml_string)\n"
   ]
  }
 ],
 "metadata": {
  "kernelspec": {
   "display_name": "Python 3",
   "language": "python",
   "name": "python3"
  },
  "language_info": {
   "codemirror_mode": {
    "name": "ipython",
    "version": 3
   },
   "file_extension": ".py",
   "mimetype": "text/x-python",
   "name": "python",
   "nbconvert_exporter": "python",
   "pygments_lexer": "ipython3",
   "version": "3.7.11"
  }
 },
 "nbformat": 4,
 "nbformat_minor": 5
}
