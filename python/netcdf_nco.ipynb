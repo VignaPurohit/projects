{
  "cells": [
    {
      "cell_type": "markdown",
      "id": "bebd6fba-d5ea-4765-9a34-fa763315434f",
      "metadata": {
        "id": "bebd6fba-d5ea-4765-9a34-fa763315434f"
      },
      "source": [
        "## NetCDF conversion using NCO Tool\n",
        "\n",
        "Learn about [NCO](https://nco.sourceforge.net/#Definition)\n",
        "\n"
      ]
    },
    {
      "cell_type": "markdown",
      "id": "0f5ad154-d5dd-4459-b6c4-534a2930e1e2",
      "metadata": {
        "id": "0f5ad154-d5dd-4459-b6c4-534a2930e1e2"
      },
      "source": [
        "This example notebook shows how to use  the `nco` tool to flip x,y coordinates of a NetCDF file.\n",
        "\n",
        "Upload the require NetCDF file to Colab from the left-hand panel menu."
      ]
    },
    {
      "cell_type": "code",
      "execution_count": 15,
      "id": "b4589dab-ed54-47d5-a16c-afeca7de0273",
      "metadata": {
        "id": "b4589dab-ed54-47d5-a16c-afeca7de0273"
      },
      "outputs": [],
      "source": [
        "%%capture\n",
        "!apt install nco"
      ]
    },
    {
      "cell_type": "code",
      "source": [
        "!ncpdq -O -a time,y,x SST.nc SST_out2.nc"
      ],
      "metadata": {
        "id": "Ez_3P0u3y9mD"
      },
      "id": "Ez_3P0u3y9mD",
      "execution_count": 17,
      "outputs": []
    },
    {
      "cell_type": "markdown",
      "source": [
        "Download the output file from the left-hand panel Files menu."
      ],
      "metadata": {
        "id": "M7rzAB_9zkaB"
      },
      "id": "M7rzAB_9zkaB"
    }
  ],
  "metadata": {
    "kernelspec": {
      "display_name": "Python 3 (ipykernel)",
      "language": "python",
      "name": "python3"
    },
    "language_info": {
      "codemirror_mode": {
        "name": "ipython",
        "version": 3
      },
      "file_extension": ".py",
      "mimetype": "text/x-python",
      "name": "python",
      "nbconvert_exporter": "python",
      "pygments_lexer": "ipython3",
      "version": "3.10.5"
    },
    "colab": {
      "provenance": []
    }
  },
  "nbformat": 4,
  "nbformat_minor": 5
}