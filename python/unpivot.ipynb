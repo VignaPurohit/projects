{
 "cells": [
  {
   "cell_type": "markdown",
   "metadata": {},
   "source": [
    "# Unpivot GIS Data\n",
    "\n",
    "GIS analysis and visualizaiton typically needs data with 1 value per row. If your data is structured in columns, you need to 'unpivot' it to convert it to 1 value per row. Note that this will result in duplicate features, but they can be handled well in GIS.\n",
    "\n",
    "Example Excel workbook is structured like this\n",
    "\n",
    "| id | species1 | species2 | .. | value 1 | value 2 | ... |\n",
    "| -- | -------- | -------- | -- | ------- | ------- | --- |\n",
    "| 1  | s1       | s2       | .. | 10     | 20      | ... |\n",
    "\n",
    "This script will convert it to a table like follows\n",
    "\n",
    "\n",
    "| id | species | value |\n",
    "| -- | ------- | ----- |\n",
    "| 1  | s1       | 10   |\n",
    "| 1  | s2       | 20   |"
   ]
  },
  {
   "cell_type": "code",
   "execution_count": null,
   "metadata": {},
   "outputs": [],
   "source": [
    "import pandas as pd"
   ]
  },
  {
   "cell_type": "code",
   "execution_count": null,
   "metadata": {},
   "outputs": [],
   "source": [
    "input = 'original.xlsx'\n",
    "df = pd.read_excel(input)"
   ]
  },
  {
   "cell_type": "code",
   "execution_count": null,
   "metadata": {},
   "outputs": [],
   "source": [
    "df1 = pd.melt(df, id_vars=['id', 'species1'], value_vars=['value1']).rename(columns = {'value1':'value'})\n",
    "df1 = pd.melt(df, id_vars=['id', 'species2'], value_vars=['value2']).rename(columns = {'value2':'value'})\n",
    "merged = pd.concat([df1, df2])"
   ]
  },
  {
   "cell_type": "code",
   "execution_count": null,
   "metadata": {},
   "outputs": [],
   "source": [
    "# Drop rows which have null values "
   ]
  },
  {
   "cell_type": "code",
   "execution_count": null,
   "metadata": {},
   "outputs": [],
   "source": [
    "merged = merged.dropna(axis=0, how='any')"
   ]
  },
  {
   "cell_type": "code",
   "execution_count": null,
   "metadata": {},
   "outputs": [],
   "source": [
    "output = 'unpivoted.xlsx'\n",
    "merged.to_excel(output, index=False)"
   ]
  }
 ],
 "metadata": {
  "kernelspec": {
   "display_name": "Python 3",
   "language": "python",
   "name": "python3"
  },
  "language_info": {
   "codemirror_mode": {
    "name": "ipython",
    "version": 3
   },
   "file_extension": ".py",
   "mimetype": "text/x-python",
   "name": "python",
   "nbconvert_exporter": "python",
   "pygments_lexer": "ipython3",
   "version": "3.9.1"
  }
 },
 "nbformat": 4,
 "nbformat_minor": 4
}
