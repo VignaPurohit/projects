{
 "cells": [
  {
   "cell_type": "markdown",
   "id": "377d2b82-6568-4f91-92fe-323b66af04b4",
   "metadata": {},
   "source": [
    "## Cloud Masking with Rasterio and Earthpy\n",
    "\n",
    "This notebook shows how to use the information contained in a quality band to apply a data mask to an image.\n",
    "\n",
    "We will be using [eMODIS](https://www.usgs.gov/centers/eros/science/usgs-eros-archive-vegetation-monitoring-eros-moderate-resolution-imaging?qt-science_center_objects=0#qt-science_center_objects) NDVI composite downloaded from USGS\n",
    "\n",
    "eMODIS User Guide at https://pubs.usgs.gov/of/2010/1055/pdf/OF2010-1055.pdf"
   ]
  },
  {
   "cell_type": "code",
   "execution_count": 2,
   "id": "5cef22c0-3bed-4527-9073-5adf9aba601b",
   "metadata": {},
   "outputs": [],
   "source": [
    "import rasterio \n",
    "import os\n",
    "from earthpy.mask import mask_pixels"
   ]
  },
  {
   "cell_type": "code",
   "execution_count": 3,
   "id": "ed960d4a-7f5a-496b-89ab-8b7f9bff779c",
   "metadata": {},
   "outputs": [],
   "source": [
    "data_folder = 'data'\n",
    "ndvi_image = 'US_eMAH_NDVI.2021.264-270.1KM.VI_NDVI.006.2021272141408.tif'\n",
    "quality_image = 'US_eMAH_NDVI.2021.264-270.1KM.VI_QUAL.006.2021272141408.tif'\n",
    "ndvi_path = os.path.join(data_folder, ndvi_image)\n",
    "quality_path = os.path.join(data_folder, quality_image)"
   ]
  },
  {
   "cell_type": "markdown",
   "id": "e1eb13a1-b30d-47e0-8fbd-7aaab0c07dd6",
   "metadata": {},
   "source": [
    "Read the input rasters. Use the `with` statement, so we don't have to close the rasters. Save the input metadata that will be used later when saving the masked image."
   ]
  },
  {
   "cell_type": "code",
   "execution_count": 4,
   "id": "4bebb9e3-7ed2-4bc2-91a1-4a23f26843e2",
   "metadata": {},
   "outputs": [],
   "source": [
    "with rasterio.open(ndvi_path) as ndvi_dataset:\n",
    "    ndvi = ndvi_dataset.read()\n",
    "    metadata = ndvi_dataset.meta\n",
    "with  rasterio.open(quality_path) as quality_dataset:\n",
    "    quality = quality_dataset.read(1)"
   ]
  },
  {
   "cell_type": "markdown",
   "id": "90da5053-0e01-462a-a154-e72b706e7981",
   "metadata": {},
   "source": [
    "Use `rasterio.plot` to display the images."
   ]
  },
  {
   "cell_type": "code",
   "execution_count": 5,
   "id": "cf5aa94a-9485-45a5-8489-6ca28d66db1e",
   "metadata": {},
   "outputs": [],
   "source": [
    "%matplotlib inline\n",
    "import matplotlib.pyplot as plt\n",
    "from rasterio.plot import show"
   ]
  },
  {
   "cell_type": "code",
   "execution_count": 6,
   "id": "4667e473-4656-48c4-bb0f-ac6ad06de681",
   "metadata": {},
   "outputs": [
    {
     "ename": "NameError",
     "evalue": "name 'pyplot' is not defined",
     "output_type": "error",
     "traceback": [
      "\u001b[0;31m---------------------------------------------------------------------------\u001b[0m",
      "\u001b[0;31mNameError\u001b[0m                                 Traceback (most recent call last)",
      "\u001b[0;32m/var/folders/19/9zfvytrj1gbc3sgt0xnm_sdr0000gn/T/ipykernel_3297/1572624487.py\u001b[0m in \u001b[0;36m<module>\u001b[0;34m\u001b[0m\n\u001b[0;32m----> 1\u001b[0;31m \u001b[0mfig\u001b[0m\u001b[0;34m,\u001b[0m \u001b[0;34m(\u001b[0m\u001b[0max0\u001b[0m\u001b[0;34m,\u001b[0m \u001b[0max1\u001b[0m\u001b[0;34m)\u001b[0m \u001b[0;34m=\u001b[0m \u001b[0mpyplot\u001b[0m\u001b[0;34m.\u001b[0m\u001b[0msubplots\u001b[0m\u001b[0;34m(\u001b[0m\u001b[0;36m1\u001b[0m\u001b[0;34m,\u001b[0m\u001b[0;36m2\u001b[0m\u001b[0;34m,\u001b[0m \u001b[0mfigsize\u001b[0m\u001b[0;34m=\u001b[0m\u001b[0;34m(\u001b[0m\u001b[0;36m15\u001b[0m\u001b[0;34m,\u001b[0m\u001b[0;36m7\u001b[0m\u001b[0;34m)\u001b[0m\u001b[0;34m)\u001b[0m\u001b[0;34m\u001b[0m\u001b[0;34m\u001b[0m\u001b[0m\n\u001b[0m\u001b[1;32m      2\u001b[0m \u001b[0mshow\u001b[0m\u001b[0;34m(\u001b[0m\u001b[0mndvi\u001b[0m\u001b[0;34m,\u001b[0m \u001b[0max\u001b[0m\u001b[0;34m=\u001b[0m\u001b[0max0\u001b[0m\u001b[0;34m,\u001b[0m \u001b[0mcmap\u001b[0m\u001b[0;34m=\u001b[0m\u001b[0;34m'Greens'\u001b[0m\u001b[0;34m,\u001b[0m \u001b[0mtitle\u001b[0m\u001b[0;34m=\u001b[0m\u001b[0;34m'NDVI'\u001b[0m\u001b[0;34m)\u001b[0m\u001b[0;34m\u001b[0m\u001b[0;34m\u001b[0m\u001b[0m\n\u001b[1;32m      3\u001b[0m \u001b[0mshow\u001b[0m\u001b[0;34m(\u001b[0m\u001b[0mquality\u001b[0m\u001b[0;34m,\u001b[0m \u001b[0max\u001b[0m\u001b[0;34m=\u001b[0m\u001b[0max1\u001b[0m\u001b[0;34m,\u001b[0m \u001b[0mcmap\u001b[0m\u001b[0;34m=\u001b[0m\u001b[0;34m'Greys'\u001b[0m\u001b[0;34m,\u001b[0m \u001b[0mtitle\u001b[0m\u001b[0;34m=\u001b[0m\u001b[0;34m'Quality'\u001b[0m\u001b[0;34m)\u001b[0m\u001b[0;34m\u001b[0m\u001b[0;34m\u001b[0m\u001b[0m\n",
      "\u001b[0;31mNameError\u001b[0m: name 'pyplot' is not defined"
     ]
    }
   ],
   "source": [
    "fig, (ax0, ax1) = pyplot.subplots(1,2, figsize=(15,7))\n",
    "show(ndvi, ax=ax0, cmap='Greens', title='NDVI')\n",
    "show(quality, ax=ax1, cmap='Greys', title='Quality')"
   ]
  },
  {
   "cell_type": "markdown",
   "id": "fb310964-84c4-4784-a6de-6aa0ff7b7c70",
   "metadata": {},
   "source": [
    "As per the user guide, the quality band contains the following pixel values\n",
    "\n",
    "- 0 = good quality\n",
    "- 1 = cloudy pixel\n",
    "- 2 = bad band quality\n",
    "- 3 = negative surface reflectance\n",
    "- 4 = snow\n",
    "- 10 = fill\n",
    "\n",
    "Use the `earthpy.mask` module to mask the NDVI pixels with value=1 from the quality band"
   ]
  },
  {
   "cell_type": "code",
   "execution_count": null,
   "id": "5b6aa352-11e8-4349-84b5-ce8daa45029f",
   "metadata": {},
   "outputs": [],
   "source": [
    "masked = mask_pixels(ndvi, quality, vals=[1])"
   ]
  },
  {
   "cell_type": "code",
   "execution_count": null,
   "id": "aed9d6a2-c099-40e3-b992-678d1cc9e876",
   "metadata": {},
   "outputs": [],
   "source": [
    "fig, (ax0, ax1) = pyplot.subplots(1,2, figsize=(15,7))\n",
    "show(ndvi, ax=ax0, cmap='Greens', title='NDVI')\n",
    "show(masked, ax=ax1, cmap='Greens', title='Cloud Masked NDVI')"
   ]
  },
  {
   "cell_type": "markdown",
   "id": "6b0b3399-dd23-450d-b553-e442cbb3c7ee",
   "metadata": {},
   "source": [
    "We need to assign a nodata value to the masked pixels. The input file does not have any metadata but uses -2000 as the fill value. We do the same."
   ]
  },
  {
   "cell_type": "code",
   "execution_count": null,
   "id": "6a6cd059-07df-4fab-9c4a-f6850f1e5861",
   "metadata": {},
   "outputs": [],
   "source": [
    "masked = masked.filled(-2000)"
   ]
  },
  {
   "cell_type": "code",
   "execution_count": null,
   "id": "1c3dd8c5-3ea7-4a96-8867-c10a43835779",
   "metadata": {},
   "outputs": [],
   "source": [
    "masked_image_name = 'ndvi_masked.tif'\n",
    "output_path = os.path.join(data_folder, masked_image_name)\n",
    "\n",
    "with rasterio.open(output_path, 'w', **metadata) as output_dataset:\n",
    "    output_dataset.write(masked)"
   ]
  },
  {
   "cell_type": "code",
   "execution_count": null,
   "id": "f4d341f3-9b7c-4609-82dc-f002c98b0cce",
   "metadata": {},
   "outputs": [],
   "source": []
  }
 ],
 "metadata": {
  "kernelspec": {
   "display_name": "Python 3 (ipykernel)",
   "language": "python",
   "name": "python3"
  },
  "language_info": {
   "codemirror_mode": {
    "name": "ipython",
    "version": 3
   },
   "file_extension": ".py",
   "mimetype": "text/x-python",
   "name": "python",
   "nbconvert_exporter": "python",
   "pygments_lexer": "ipython3",
   "version": "3.9.6"
  }
 },
 "nbformat": 4,
 "nbformat_minor": 5
}
