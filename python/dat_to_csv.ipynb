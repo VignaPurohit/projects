{
 "cells": [
  {
   "cell_type": "markdown",
   "id": "million-wallpaper",
   "metadata": {},
   "source": [
    "# Converting Surfer Atlas .BNA (ASCII DAT) file to a Vector Layer\n",
    "\n",
    "We have an ASCII file from Surfer in the [BNA format](http://surferhelp.goldensoftware.com/subsys/subsys_gsibna_hid_gsibna_filedesc.htm)  defining every building ground plan as a polygon by listing its vertices. Hence the entry for a given building is the building number followed by the number of vertices of its boundary and the rooftop elevation (assumed flat), followed by a list of the (X,Y) coordinates of each one of the vertices of its boundary. As an example the entry for building number 186 is given below:\n",
    "The sequence means: Building number 105 is a polygon with 6 vertices and its rooftop elevation is 54.69 m (MSL). The (X,Y) co-ordinates of the given 6 vertices follow in the four next lines.\n",
    "\n",
    "```\n",
    " 105    6   54.69\n",
    "       1651.562500      4787.500000\n",
    "       1652.125000      4785.000000\n",
    "       1649.062500      4787.000000\n",
    "       1650.750000      4789.500000\n",
    "       1653.812500      4787.500000\n",
    "       1652.125000      4785.000000\n",
    " 106    6   58.98\n",
    "       1555.875000      4755.500000\n",
    "       1558.000000      4753.000000\n",
    "       1553.187500      4753.500000\n",
    "       1553.687500      4757.500000\n",
    "       1558.500000      4757.000000\n",
    "       1558.000000      4753.000000\n",
    " 107    8   62.32\n",
    "       1537.062500      4741.500000\n",
    "       1532.062500      4737.000000\n",
    "       1532.062500      4744.500000\n",
    "       1539.625000      4744.500000\n",
    "       1539.437500      4742.000000\n",
    "       1542.062500      4742.000000\n",
    "       1541.875000      4737.000000\n",
    "       1532.062500      4737.000000\n",
    "```\n",
    "\n",
    "We can creat a CSV with the polygon geometry stored as text in WKT format. QGIS can read this format easily and display the data."
   ]
  },
  {
   "cell_type": "code",
   "execution_count": 43,
   "id": "organizational-knock",
   "metadata": {},
   "outputs": [],
   "source": [
    "input = 'Buildings.dat'\n",
    "output = 'Buildings.csv'"
   ]
  },
  {
   "cell_type": "code",
   "execution_count": 41,
   "id": "veterinary-chancellor",
   "metadata": {},
   "outputs": [],
   "source": [
    "data = []\n",
    "with open(input, 'r') as f:\n",
    "    for line in f:\n",
    "        # Get number of verticies from the first line\n",
    "        fid, numvertices, elev = line.split()\n",
    "        coordinates = []\n",
    "        # Skip ahead number of lines equal to number of vertices and save the coordinates\n",
    "        for x in range(int(numvertices)):\n",
    "            x, y = f.readline().split()\n",
    "            coordinates.append(('{} {}'.format(x,y)))\n",
    "        # Discard first coordinate which is the centroid\n",
    "        wkt = 'POLYGON (({}))'.format(','.join(coordinates[1:]))\n",
    "        data.append({'fid': int(fid), 'elev': float(elev), 'wkt': wkt})"
   ]
  },
  {
   "cell_type": "code",
   "execution_count": 42,
   "id": "collective-launch",
   "metadata": {},
   "outputs": [],
   "source": [
    "import csv\n",
    "\n",
    "with open(output, 'w') as csvfile:\n",
    "    fieldnames = ['fid', 'elev', 'wkt']\n",
    "    writer = csv.DictWriter(csvfile, fieldnames=fieldnames)\n",
    "    writer.writeheader()\n",
    "    for row in data:\n",
    "        writer.writerow(row)\n"
   ]
  },
  {
   "cell_type": "markdown",
   "id": "stock-doctrine",
   "metadata": {},
   "source": [
    "The result is a CSV file that looks like this\n",
    "\n",
    "```\n",
    "fid,elev,wkt\n",
    "2,127.69,\"POLYGON ((627.187500 7781.000000,626.125000 7785.000000,629.062500 7786.000000,630.125000 7782.000000,627.187500 7781.000000))\"\n",
    "3,164.42,\"POLYGON ((824.125000 7675.500000,822.687500 7679.000000,826.000000 7680.500000,827.437500 7677.000000,824.125000 7675.500000))\"\n",
    "4,171.19,\"POLYGON ((840.125000 7640.500000,836.812500 7652.000000,842.937500 7654.000000,846.250000 7642.500000,840.125000 7640.500000))\"\n",
    "```"
   ]
  },
  {
   "cell_type": "markdown",
   "id": "exceptional-washington",
   "metadata": {},
   "source": [
    "The resulting CSV can be imported using the *Delimited Text* tab in the QGIS Data Source Manager using **WKT** field as *Geometry field*\n",
    "\n",
    "![](import_wkt.png)"
   ]
  },
  {
   "cell_type": "markdown",
   "id": "steady-peoples",
   "metadata": {},
   "source": [
    "The point layers loads in QGIS. Since the data also has an `elev` attribute, we can style it using the **2.5D** renderer in QGIS.\n",
    "![](buildings.png)"
   ]
  },
  {
   "cell_type": "code",
   "execution_count": null,
   "id": "settled-proposition",
   "metadata": {},
   "outputs": [],
   "source": []
  }
 ],
 "metadata": {
  "kernelspec": {
   "display_name": "Python 3",
   "language": "python",
   "name": "python3"
  },
  "language_info": {
   "codemirror_mode": {
    "name": "ipython",
    "version": 3
   },
   "file_extension": ".py",
   "mimetype": "text/x-python",
   "name": "python",
   "nbconvert_exporter": "python",
   "pygments_lexer": "ipython3",
   "version": "3.9.1"
  }
 },
 "nbformat": 4,
 "nbformat_minor": 5
}
