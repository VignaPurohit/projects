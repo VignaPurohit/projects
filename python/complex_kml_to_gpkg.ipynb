{
 "cells": [
  {
   "cell_type": "markdown",
   "id": "b7ae9826-cfa4-4eef-9e91-91e9d42e2466",
   "metadata": {},
   "source": [
    "## Converting KML with Mixed Geometries to a GeoPackage\n",
    "\n",
    "We have a 2GB+ kml file containing complex polygons and point. The source file is simply too large for OGR or QGIS to parse as it needs to parse the entire file and runs out of memory. GeoPandas is able to successfully read it, filter it into constituent geometries and write out a GeoPackage"
   ]
  },
  {
   "cell_type": "code",
   "execution_count": 5,
   "id": "69c1f731-2955-4358-b5fb-b11ba12f52c5",
   "metadata": {},
   "outputs": [],
   "source": [
    "import geopandas as gpd"
   ]
  },
  {
   "cell_type": "code",
   "execution_count": 6,
   "id": "fe0bf702-0f58-4d2e-ba8c-e629b6c78d4e",
   "metadata": {},
   "outputs": [],
   "source": [
    "df = gpd.read_file('out.kml', driver='KML')"
   ]
  },
  {
   "cell_type": "markdown",
   "id": "67dee4f8-ad39-4c1c-902b-572af73316df",
   "metadata": {},
   "source": [
    "`df` is a `GeometryCollection` where each feature is a combination of a polygon and a point. Most GIS formats cannot work with these mixed geometries, we run `explode()` to separate them out."
   ]
  },
  {
   "cell_type": "code",
   "execution_count": 8,
   "id": "24dcacdf-4624-4c5a-b8c8-1de528657b13",
   "metadata": {},
   "outputs": [],
   "source": [
    "gdf = df.explode()"
   ]
  },
  {
   "cell_type": "markdown",
   "id": "4928587c-89ec-477c-804d-fdd89e74b835",
   "metadata": {},
   "source": [
    "The resulting GeoDataFrame has rows with both Points and Polygon geometry. Filter them and save the appropriate geometries into separate GeoDataFrames"
   ]
  },
  {
   "cell_type": "code",
   "execution_count": 14,
   "id": "bfd6589e-cfa7-4368-903f-b22e6251dfa1",
   "metadata": {},
   "outputs": [],
   "source": [
    "polygons = gdf[gdf.geometry.type == 'Polygon']\n",
    "points = gdf[gdf.geometry.type == 'Point']"
   ]
  },
  {
   "cell_type": "markdown",
   "id": "21655c02-6ae0-46e7-9dd1-12175ab8a576",
   "metadata": {},
   "source": [
    "Save the resulting GeoDataFrames to a single geopackage with multiple layers."
   ]
  },
  {
   "cell_type": "code",
   "execution_count": null,
   "id": "e583b06d-78f3-425c-94d2-eabdc0f4f215",
   "metadata": {},
   "outputs": [],
   "source": [
    "polygons.to_file(driver='GPKG', filename='cleaned.gpkg', layer='polygons', encoding='utf-8')\n",
    "points.to_file(driver='GPKG', filename='cleaned.gpkg', layer='points', encoding='utf-8')"
   ]
  },
  {
   "cell_type": "markdown",
   "id": "ceefc266-1ba8-4b8d-823f-89d30f1c7941",
   "metadata": {},
   "source": [
    "Success! Now that the data is in a binary format, QGIS can easy read and render the layers.\n",
    "![](kml.png)"
   ]
  },
  {
   "cell_type": "code",
   "execution_count": null,
   "id": "e4918419-3881-4d5e-957a-e93399dc8d6d",
   "metadata": {},
   "outputs": [],
   "source": []
  }
 ],
 "metadata": {
  "kernelspec": {
   "display_name": "Python 3",
   "language": "python",
   "name": "python3"
  },
  "language_info": {
   "codemirror_mode": {
    "name": "ipython",
    "version": 3
   },
   "file_extension": ".py",
   "mimetype": "text/x-python",
   "name": "python",
   "nbconvert_exporter": "python",
   "pygments_lexer": "ipython3",
   "version": "3.9.6"
  }
 },
 "nbformat": 4,
 "nbformat_minor": 5
}
